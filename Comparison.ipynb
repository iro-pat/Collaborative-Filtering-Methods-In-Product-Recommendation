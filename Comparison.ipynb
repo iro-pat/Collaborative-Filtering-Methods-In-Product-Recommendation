{
 "cells": [
  {
   "cell_type": "markdown",
   "metadata": {
    "cell_id": "00000-fa389bc9-6b1f-4298-991d-b32942a7cc3f",
    "deepnote_cell_type": "markdown",
    "tags": []
   },
   "source": [
    "## Which System performed better?"
   ]
  },
  {
   "cell_type": "code",
   "execution_count": 88,
   "metadata": {
    "cell_id": "00000-52fe7dc4-002a-4e9d-9380-3a5ca7c1b8f3",
    "deepnote_cell_type": "code",
    "deepnote_to_be_reexecuted": false,
    "execution_millis": 3491,
    "execution_start": 1640598413292,
    "output_cleared": true,
    "source_hash": "801c3a2b"
   },
   "outputs": [],
   "source": [
    "#libraries\n",
    "import numpy as np\n",
    "import pandas as pd\n",
    "import matplotlib.pyplot as plt\n",
    "import seaborn as sns\n",
    "import dill\n",
    "import plotly.graph_objects as go\n",
    "\n",
    "#load results, trainig and evaluation\n",
    "#RS1 training log\n",
    "with open('train_log.d','rb') as f:\n",
    "    train_log1=dill.load(f)\n",
    "#RS2 training log    \n",
    "with open('train_log2.d','rb') as f:\n",
    "    train_log2=dill.load(f)\n",
    "#evaluation log\n",
    "with open('evaluation_log.d','rb') as f:\n",
    "    evaluation_log=dill.load(f)      "
   ]
  },
  {
   "cell_type": "code",
   "execution_count": 89,
   "metadata": {
    "cell_id": "00001-64ae89d9-e7db-4993-b6d5-4411eb17a230",
    "deepnote_cell_type": "code",
    "deepnote_to_be_reexecuted": false,
    "execution_millis": 443,
    "execution_start": 1640598416803,
    "output_cleared": true,
    "source_hash": "faf54d0b"
   },
   "outputs": [
    {
     "data": {
      "text/html": [
       "<div>\n",
       "<style scoped>\n",
       "    .dataframe tbody tr th:only-of-type {\n",
       "        vertical-align: middle;\n",
       "    }\n",
       "\n",
       "    .dataframe tbody tr th {\n",
       "        vertical-align: top;\n",
       "    }\n",
       "\n",
       "    .dataframe thead th {\n",
       "        text-align: right;\n",
       "    }\n",
       "</style>\n",
       "<table border=\"1\" class=\"dataframe\">\n",
       "  <thead>\n",
       "    <tr style=\"text-align: right;\">\n",
       "      <th></th>\n",
       "      <th>Date</th>\n",
       "      <th>Data</th>\n",
       "      <th>Algo</th>\n",
       "      <th>Tunning</th>\n",
       "      <th>Tunning_time</th>\n",
       "      <th>Best_parameters</th>\n",
       "      <th>Tunning_RMSE</th>\n",
       "      <th>Train_time</th>\n",
       "      <th>Leave_one_out</th>\n",
       "    </tr>\n",
       "  </thead>\n",
       "  <tbody>\n",
       "    <tr>\n",
       "      <th>1</th>\n",
       "      <td>2021-10-13 16:16:19.707387</td>\n",
       "      <td>Quantity</td>\n",
       "      <td>SVD</td>\n",
       "      <td>RandomizedSearchCV</td>\n",
       "      <td>0.561669</td>\n",
       "      <td>{'n_factors': 10, 'n_epochs': 10, 'lr_all': 0....</td>\n",
       "      <td>29.777515</td>\n",
       "      <td>27.82</td>\n",
       "      <td>False</td>\n",
       "    </tr>\n",
       "  </tbody>\n",
       "</table>\n",
       "</div>"
      ],
      "text/plain": [
       "                        Date      Data Algo             Tunning Tunning_time  \\\n",
       "1 2021-10-13 16:16:19.707387  Quantity  SVD  RandomizedSearchCV     0.561669   \n",
       "\n",
       "                                     Best_parameters Tunning_RMSE Train_time  \\\n",
       "1  {'n_factors': 10, 'n_epochs': 10, 'lr_all': 0....    29.777515      27.82   \n",
       "\n",
       "  Leave_one_out  \n",
       "1         False  "
      ]
     },
     "execution_count": 89,
     "metadata": {},
     "output_type": "execute_result"
    }
   ],
   "source": [
    "train_log1.head(1)"
   ]
  },
  {
   "cell_type": "code",
   "execution_count": 90,
   "metadata": {
    "cell_id": "00002-2ebc0a23-1349-41fe-95a6-1d8cd28d1e17",
    "deepnote_cell_type": "code",
    "deepnote_to_be_reexecuted": false,
    "execution_millis": 243,
    "execution_start": 1640598417017,
    "output_cleared": true,
    "source_hash": "148b2bd2"
   },
   "outputs": [
    {
     "data": {
      "text/html": [
       "<div>\n",
       "<style scoped>\n",
       "    .dataframe tbody tr th:only-of-type {\n",
       "        vertical-align: middle;\n",
       "    }\n",
       "\n",
       "    .dataframe tbody tr th {\n",
       "        vertical-align: top;\n",
       "    }\n",
       "\n",
       "    .dataframe thead th {\n",
       "        text-align: right;\n",
       "    }\n",
       "</style>\n",
       "<table border=\"1\" class=\"dataframe\">\n",
       "  <thead>\n",
       "    <tr style=\"text-align: right;\">\n",
       "      <th></th>\n",
       "      <th>Date</th>\n",
       "      <th>Data</th>\n",
       "      <th>Algo</th>\n",
       "      <th>Tunning</th>\n",
       "      <th>Tunning_time</th>\n",
       "      <th>Tuning_Samples</th>\n",
       "      <th>Parameters</th>\n",
       "      <th>Tuning_Metric</th>\n",
       "      <th>Tuning_score</th>\n",
       "      <th>Leave_one_out</th>\n",
       "    </tr>\n",
       "  </thead>\n",
       "  <tbody>\n",
       "    <tr>\n",
       "      <th>1</th>\n",
       "      <td>2021-12-09 16:28:51.768367</td>\n",
       "      <td>Quantity</td>\n",
       "      <td>LightFM</td>\n",
       "      <td>True</td>\n",
       "      <td>229.666846</td>\n",
       "      <td>12</td>\n",
       "      <td>{'no_components': 43, 'learning_schedule': 'ad...</td>\n",
       "      <td>Precision</td>\n",
       "      <td>0.487707</td>\n",
       "      <td>False</td>\n",
       "    </tr>\n",
       "  </tbody>\n",
       "</table>\n",
       "</div>"
      ],
      "text/plain": [
       "                        Date      Data     Algo Tunning Tunning_time  \\\n",
       "1 2021-12-09 16:28:51.768367  Quantity  LightFM    True   229.666846   \n",
       "\n",
       "  Tuning_Samples                                         Parameters  \\\n",
       "1             12  {'no_components': 43, 'learning_schedule': 'ad...   \n",
       "\n",
       "  Tuning_Metric Tuning_score Leave_one_out  \n",
       "1     Precision     0.487707         False  "
      ]
     },
     "execution_count": 90,
     "metadata": {},
     "output_type": "execute_result"
    }
   ],
   "source": [
    "train_log2.head(1)"
   ]
  },
  {
   "cell_type": "code",
   "execution_count": 91,
   "metadata": {
    "cell_id": "00003-65897059-2606-4c6c-b45c-566008cb7b39",
    "deepnote_cell_type": "code",
    "deepnote_to_be_reexecuted": false,
    "execution_millis": 217,
    "execution_start": 1640598417198,
    "output_cleared": true,
    "source_hash": "f5705322"
   },
   "outputs": [],
   "source": [
    "#replace null, with 0\n",
    "evaluation_log=evaluation_log.replace('-','0')\n",
    "#dtypes to numeric\n",
    "for column_name in ['Precision@N','Recall@N', 'Hit_rate', 'Compute_time', 'Unique_TopN', 'Unique_Products']:\n",
    "  evaluation_log[column_name]= pd.to_numeric(evaluation_log[column_name])\n",
    "evaluation_log.dtypes\n",
    "# Set CSS properties for th elements in dataframe\n",
    "th_props = [\n",
    "  ('font-size', '11px'),\n",
    "  ('text-align', 'center'),\n",
    "  ('font-weight', 'bold'),\n",
    "  ('color', '#6d6d6d'),\n",
    "  ('background-color', '#f7f7f9')\n",
    "  ]\n",
    "# Set CSS properties for td elements in dataframe\n",
    "td_props = [\n",
    "  ('font-size', '11px')\n",
    "  ]\n",
    "# Set table styles\n",
    "styles = [\n",
    "  dict(selector=\"th\", props=th_props),\n",
    "  dict(selector=\"td\", props=td_props)\n",
    "  ]\n",
    "cm = sns.light_palette(\"green\", as_cmap=True)\n",
    "\n",
    "#preview\n",
    "# evaluation_log.sort_values(by='Hit_rate', ascending=False)[evaluation_log['Leave_one_out']== False].head(1)"
   ]
  },
  {
   "cell_type": "markdown",
   "metadata": {
    "cell_id": "00010-12de8d76-9e7c-4f09-a479-1261cfc11498",
    "deepnote_cell_type": "markdown"
   },
   "source": [
    "### Best Recommendation System: Surprise or **LightFM**"
   ]
  },
  {
   "cell_type": "markdown",
   "metadata": {
    "cell_id": "00014-9d6e687b-d7f8-4b77-896b-a9b21702a426",
    "deepnote_cell_type": "markdown",
    "deepnote_to_be_reexecuted": false,
    "execution_millis": 147,
    "execution_start": 1640591385237,
    "output_cleared": true,
    "source_hash": "8f522b9e",
    "tags": []
   },
   "source": [
    "### LightFM Evaluation\n",
    "*(Leave One Out Results, not included)*"
   ]
  },
  {
   "cell_type": "markdown",
   "metadata": {
    "cell_id": "00015-ed8eff36-854d-4903-931f-2072fc1336d0",
    "deepnote_cell_type": "markdown",
    "tags": []
   },
   "source": [
    "***\n",
    "LightFM is a Python library for Recommendation System implementations. \n",
    "It offers collaborative filtering techniques and can support hybrid module as well (content filtering, with user/product metadata processing).\n",
    "Its algorythm uses embeddings as to predict the \"missing\" user/product ratings and recommends the products with the highest predicting value as output.\n",
    "This project is limited to only collaborative filtering techniques due to data limitations.\n",
    "***"
   ]
  },
  {
   "cell_type": "code",
   "execution_count": 92,
   "metadata": {
    "cell_id": "00014-544baac2-635a-4db2-800c-63baa48e34b7",
    "deepnote_cell_type": "code",
    "deepnote_output_heights": [
     371.421875
    ],
    "deepnote_to_be_reexecuted": false,
    "execution_millis": 357,
    "execution_start": 1640598417714,
    "output_cleared": true,
    "source_hash": "a8838e9b"
   },
   "outputs": [
    {
     "data": {
      "text/html": [
       "<style  type=\"text/css\" >\n",
       "    #T_ce307_ th {\n",
       "          font-size: 11px;\n",
       "          text-align: center;\n",
       "          font-weight: bold;\n",
       "          color: #6d6d6d;\n",
       "          background-color: #f7f7f9;\n",
       "    }    #T_ce307_ td {\n",
       "          font-size: 11px;\n",
       "    }#T_ce307_row0_col6,#T_ce307_row1_col6,#T_ce307_row2_col6,#T_ce307_row7_col6{\n",
       "            background-color:  #8dc58d;\n",
       "            color:  #000000;\n",
       "        }#T_ce307_row0_col7,#T_ce307_row1_col7,#T_ce307_row2_col7,#T_ce307_row5_col7,#T_ce307_row9_col7,#T_ce307_row10_col7{\n",
       "            background-color:  #b0d6b0;\n",
       "            color:  #000000;\n",
       "        }#T_ce307_row0_col8,#T_ce307_row1_col8,#T_ce307_row3_col13,#T_ce307_row4_col13,#T_ce307_row6_col13,#T_ce307_row8_col13,#T_ce307_row10_col14,#T_ce307_row11_col6,#T_ce307_row11_col7{\n",
       "            background-color:  #008000;\n",
       "            color:  #f1f1f1;\n",
       "            background-color:  orange;\n",
       "        }#T_ce307_row0_col13,#T_ce307_row7_col13{\n",
       "            background-color:  #c4e0c4;\n",
       "            color:  #000000;\n",
       "        }#T_ce307_row0_col14,#T_ce307_row1_col14{\n",
       "            background-color:  #e8f2e8;\n",
       "            color:  #000000;\n",
       "        }#T_ce307_row1_col13,#T_ce307_row11_col13{\n",
       "            background-color:  #9ccd9c;\n",
       "            color:  #000000;\n",
       "        }#T_ce307_row2_col8{\n",
       "            background-color:  #068306;\n",
       "            color:  #f1f1f1;\n",
       "        }#T_ce307_row2_col13,#T_ce307_row3_col7,#T_ce307_row4_col7,#T_ce307_row7_col7,#T_ce307_row10_col13{\n",
       "            background-color:  #75b975;\n",
       "            color:  #000000;\n",
       "        }#T_ce307_row2_col14,#T_ce307_row5_col13,#T_ce307_row6_col6,#T_ce307_row6_col7,#T_ce307_row8_col7,#T_ce307_row11_col8{\n",
       "            background-color:  #ebf3eb;\n",
       "            color:  #000000;\n",
       "        }#T_ce307_row3_col6,#T_ce307_row4_col6,#T_ce307_row6_col8,#T_ce307_row7_col8{\n",
       "            background-color:  #5eae5e;\n",
       "            color:  #000000;\n",
       "        }#T_ce307_row3_col8{\n",
       "            background-color:  #2f972f;\n",
       "            color:  #000000;\n",
       "        }#T_ce307_row3_col14{\n",
       "            background-color:  #3a9c3a;\n",
       "            color:  #000000;\n",
       "        }#T_ce307_row4_col8,#T_ce307_row5_col8{\n",
       "            background-color:  #50a750;\n",
       "            color:  #000000;\n",
       "        }#T_ce307_row4_col14{\n",
       "            background-color:  #289328;\n",
       "            color:  #000000;\n",
       "        }#T_ce307_row5_col6,#T_ce307_row8_col6,#T_ce307_row9_col6,#T_ce307_row10_col6{\n",
       "            background-color:  #bcdcbc;\n",
       "            color:  #000000;\n",
       "        }#T_ce307_row5_col14{\n",
       "            background-color:  #0e870e;\n",
       "            color:  #f1f1f1;\n",
       "        }#T_ce307_row6_col14{\n",
       "            background-color:  #8bc48b;\n",
       "            color:  #000000;\n",
       "        }#T_ce307_row7_col14{\n",
       "            background-color:  #1d8e1d;\n",
       "            color:  #000000;\n",
       "        }#T_ce307_row8_col8{\n",
       "            background-color:  #64b164;\n",
       "            color:  #000000;\n",
       "        }#T_ce307_row8_col14,#T_ce307_row9_col14{\n",
       "            background-color:  #81bf81;\n",
       "            color:  #000000;\n",
       "        }#T_ce307_row9_col8{\n",
       "            background-color:  #86c286;\n",
       "            color:  #000000;\n",
       "        }#T_ce307_row9_col13{\n",
       "            background-color:  #279327;\n",
       "            color:  #000000;\n",
       "        }#T_ce307_row10_col8{\n",
       "            background-color:  #93c893;\n",
       "            color:  #000000;\n",
       "        }#T_ce307_row11_col14{\n",
       "            background-color:  #6eb66e;\n",
       "            color:  #000000;\n",
       "        }</style><table id=\"T_ce307_\" ><caption>LightFM Results</caption><thead>    <tr>        <th class=\"blank level0\" ></th>        <th class=\"col_heading level0 col0\" >index</th>        <th class=\"col_heading level0 col1\" >Date</th>        <th class=\"col_heading level0 col2\" >Data</th>        <th class=\"col_heading level0 col3\" >Algo</th>        <th class=\"col_heading level0 col4\" >Leave_one_out</th>        <th class=\"col_heading level0 col5\" >N</th>        <th class=\"col_heading level0 col6\" >Precision@N</th>        <th class=\"col_heading level0 col7\" >Recall@N</th>        <th class=\"col_heading level0 col8\" >Hit_rate</th>        <th class=\"col_heading level0 col9\" >Hits</th>        <th class=\"col_heading level0 col10\" >Hit_threshold</th>        <th class=\"col_heading level0 col11\" >Count_customers</th>        <th class=\"col_heading level0 col12\" >Compute_time</th>        <th class=\"col_heading level0 col13\" >Unique_TopN</th>        <th class=\"col_heading level0 col14\" >Unique_Products</th>        <th class=\"col_heading level0 col15\" >LOO_Rate</th>    </tr></thead><tbody>\n",
       "                <tr>\n",
       "                        <th id=\"T_ce307_level0_row0\" class=\"row_heading level0 row0\" >0</th>\n",
       "                        <td id=\"T_ce307_row0_col0\" class=\"data row0 col0\" >5</td>\n",
       "                        <td id=\"T_ce307_row0_col1\" class=\"data row0 col1\" >2021-12-09 20:16:26.641952</td>\n",
       "                        <td id=\"T_ce307_row0_col2\" class=\"data row0 col2\" >Quantity</td>\n",
       "                        <td id=\"T_ce307_row0_col3\" class=\"data row0 col3\" >LightFM</td>\n",
       "                        <td id=\"T_ce307_row0_col4\" class=\"data row0 col4\" >False</td>\n",
       "                        <td id=\"T_ce307_row0_col5\" class=\"data row0 col5\" >5</td>\n",
       "                        <td id=\"T_ce307_row0_col6\" class=\"data row0 col6\" >0.5</td>\n",
       "                        <td id=\"T_ce307_row0_col7\" class=\"data row0 col7\" >0.38</td>\n",
       "                        <td id=\"T_ce307_row0_col8\" class=\"data row0 col8\" >0.6</td>\n",
       "                        <td id=\"T_ce307_row0_col9\" class=\"data row0 col9\" >2973</td>\n",
       "                        <td id=\"T_ce307_row0_col10\" class=\"data row0 col10\" >1</td>\n",
       "                        <td id=\"T_ce307_row0_col11\" class=\"data row0 col11\" >4948</td>\n",
       "                        <td id=\"T_ce307_row0_col12\" class=\"data row0 col12\" >3.7e+02</td>\n",
       "                        <td id=\"T_ce307_row0_col13\" class=\"data row0 col13\" >0.99</td>\n",
       "                        <td id=\"T_ce307_row0_col14\" class=\"data row0 col14\" >0.29</td>\n",
       "                        <td id=\"T_ce307_row0_col15\" class=\"data row0 col15\" >0</td>\n",
       "            </tr>\n",
       "            <tr>\n",
       "                        <th id=\"T_ce307_level0_row1\" class=\"row_heading level0 row1\" >1</th>\n",
       "                        <td id=\"T_ce307_row1_col0\" class=\"data row1 col0\" >13</td>\n",
       "                        <td id=\"T_ce307_row1_col1\" class=\"data row1 col1\" >2021-12-10 00:35:53.165678</td>\n",
       "                        <td id=\"T_ce307_row1_col2\" class=\"data row1 col2\" >Frequency2</td>\n",
       "                        <td id=\"T_ce307_row1_col3\" class=\"data row1 col3\" >LightFM</td>\n",
       "                        <td id=\"T_ce307_row1_col4\" class=\"data row1 col4\" >False</td>\n",
       "                        <td id=\"T_ce307_row1_col5\" class=\"data row1 col5\" >5</td>\n",
       "                        <td id=\"T_ce307_row1_col6\" class=\"data row1 col6\" >0.5</td>\n",
       "                        <td id=\"T_ce307_row1_col7\" class=\"data row1 col7\" >0.38</td>\n",
       "                        <td id=\"T_ce307_row1_col8\" class=\"data row1 col8\" >0.6</td>\n",
       "                        <td id=\"T_ce307_row1_col9\" class=\"data row1 col9\" >2990</td>\n",
       "                        <td id=\"T_ce307_row1_col10\" class=\"data row1 col10\" >1</td>\n",
       "                        <td id=\"T_ce307_row1_col11\" class=\"data row1 col11\" >4948</td>\n",
       "                        <td id=\"T_ce307_row1_col12\" class=\"data row1 col12\" >4.8e+02</td>\n",
       "                        <td id=\"T_ce307_row1_col13\" class=\"data row1 col13\" >1.0</td>\n",
       "                        <td id=\"T_ce307_row1_col14\" class=\"data row1 col14\" >0.29</td>\n",
       "                        <td id=\"T_ce307_row1_col15\" class=\"data row1 col15\" >0</td>\n",
       "            </tr>\n",
       "            <tr>\n",
       "                        <th id=\"T_ce307_level0_row2\" class=\"row_heading level0 row2\" >2</th>\n",
       "                        <td id=\"T_ce307_row2_col0\" class=\"data row2 col0\" >12</td>\n",
       "                        <td id=\"T_ce307_row2_col1\" class=\"data row2 col1\" >2021-12-10 00:16:31.641496</td>\n",
       "                        <td id=\"T_ce307_row2_col2\" class=\"data row2 col2\" >Frequency1</td>\n",
       "                        <td id=\"T_ce307_row2_col3\" class=\"data row2 col3\" >LightFM</td>\n",
       "                        <td id=\"T_ce307_row2_col4\" class=\"data row2 col4\" >False</td>\n",
       "                        <td id=\"T_ce307_row2_col5\" class=\"data row2 col5\" >5</td>\n",
       "                        <td id=\"T_ce307_row2_col6\" class=\"data row2 col6\" >0.5</td>\n",
       "                        <td id=\"T_ce307_row2_col7\" class=\"data row2 col7\" >0.38</td>\n",
       "                        <td id=\"T_ce307_row2_col8\" class=\"data row2 col8\" >0.59</td>\n",
       "                        <td id=\"T_ce307_row2_col9\" class=\"data row2 col9\" >2938</td>\n",
       "                        <td id=\"T_ce307_row2_col10\" class=\"data row2 col10\" >1</td>\n",
       "                        <td id=\"T_ce307_row2_col11\" class=\"data row2 col11\" >4948</td>\n",
       "                        <td id=\"T_ce307_row2_col12\" class=\"data row2 col12\" >4.2e+02</td>\n",
       "                        <td id=\"T_ce307_row2_col13\" class=\"data row2 col13\" >1.0</td>\n",
       "                        <td id=\"T_ce307_row2_col14\" class=\"data row2 col14\" >0.28</td>\n",
       "                        <td id=\"T_ce307_row2_col15\" class=\"data row2 col15\" >0</td>\n",
       "            </tr>\n",
       "            <tr>\n",
       "                        <th id=\"T_ce307_level0_row3\" class=\"row_heading level0 row3\" >3</th>\n",
       "                        <td id=\"T_ce307_row3_col0\" class=\"data row3 col0\" >18</td>\n",
       "                        <td id=\"T_ce307_row3_col1\" class=\"data row3 col1\" >2021-12-10 10:40:13.579634</td>\n",
       "                        <td id=\"T_ce307_row3_col2\" class=\"data row3 col2\" >Frequency2</td>\n",
       "                        <td id=\"T_ce307_row3_col3\" class=\"data row3 col3\" >LightFM</td>\n",
       "                        <td id=\"T_ce307_row3_col4\" class=\"data row3 col4\" >False</td>\n",
       "                        <td id=\"T_ce307_row3_col5\" class=\"data row3 col5\" >5</td>\n",
       "                        <td id=\"T_ce307_row3_col6\" class=\"data row3 col6\" >0.51</td>\n",
       "                        <td id=\"T_ce307_row3_col7\" class=\"data row3 col7\" >0.39</td>\n",
       "                        <td id=\"T_ce307_row3_col8\" class=\"data row3 col8\" >0.53</td>\n",
       "                        <td id=\"T_ce307_row3_col9\" class=\"data row3 col9\" >2608</td>\n",
       "                        <td id=\"T_ce307_row3_col10\" class=\"data row3 col10\" >1</td>\n",
       "                        <td id=\"T_ce307_row3_col11\" class=\"data row3 col11\" >4948</td>\n",
       "                        <td id=\"T_ce307_row3_col12\" class=\"data row3 col12\" >3.5e+02</td>\n",
       "                        <td id=\"T_ce307_row3_col13\" class=\"data row3 col13\" >1.0</td>\n",
       "                        <td id=\"T_ce307_row3_col14\" class=\"data row3 col14\" >0.76</td>\n",
       "                        <td id=\"T_ce307_row3_col15\" class=\"data row3 col15\" >0</td>\n",
       "            </tr>\n",
       "            <tr>\n",
       "                        <th id=\"T_ce307_level0_row4\" class=\"row_heading level0 row4\" >4</th>\n",
       "                        <td id=\"T_ce307_row4_col0\" class=\"data row4 col0\" >11</td>\n",
       "                        <td id=\"T_ce307_row4_col1\" class=\"data row4 col1\" >2021-12-10 00:01:02.185161</td>\n",
       "                        <td id=\"T_ce307_row4_col2\" class=\"data row4 col2\" >Frequency1</td>\n",
       "                        <td id=\"T_ce307_row4_col3\" class=\"data row4 col3\" >LightFM</td>\n",
       "                        <td id=\"T_ce307_row4_col4\" class=\"data row4 col4\" >False</td>\n",
       "                        <td id=\"T_ce307_row4_col5\" class=\"data row4 col5\" >5</td>\n",
       "                        <td id=\"T_ce307_row4_col6\" class=\"data row4 col6\" >0.51</td>\n",
       "                        <td id=\"T_ce307_row4_col7\" class=\"data row4 col7\" >0.39</td>\n",
       "                        <td id=\"T_ce307_row4_col8\" class=\"data row4 col8\" >0.48</td>\n",
       "                        <td id=\"T_ce307_row4_col9\" class=\"data row4 col9\" >2357</td>\n",
       "                        <td id=\"T_ce307_row4_col10\" class=\"data row4 col10\" >1</td>\n",
       "                        <td id=\"T_ce307_row4_col11\" class=\"data row4 col11\" >4948</td>\n",
       "                        <td id=\"T_ce307_row4_col12\" class=\"data row4 col12\" >4.5e+02</td>\n",
       "                        <td id=\"T_ce307_row4_col13\" class=\"data row4 col13\" >1.0</td>\n",
       "                        <td id=\"T_ce307_row4_col14\" class=\"data row4 col14\" >0.81</td>\n",
       "                        <td id=\"T_ce307_row4_col15\" class=\"data row4 col15\" >0</td>\n",
       "            </tr>\n",
       "            <tr>\n",
       "                        <th id=\"T_ce307_level0_row5\" class=\"row_heading level0 row5\" >5</th>\n",
       "                        <td id=\"T_ce307_row5_col0\" class=\"data row5 col0\" >38</td>\n",
       "                        <td id=\"T_ce307_row5_col1\" class=\"data row5 col1\" >2022-01-03 15:03:56.366762</td>\n",
       "                        <td id=\"T_ce307_row5_col2\" class=\"data row5 col2\" >Quantity</td>\n",
       "                        <td id=\"T_ce307_row5_col3\" class=\"data row5 col3\" >LightFM</td>\n",
       "                        <td id=\"T_ce307_row5_col4\" class=\"data row5 col4\" >False</td>\n",
       "                        <td id=\"T_ce307_row5_col5\" class=\"data row5 col5\" >5</td>\n",
       "                        <td id=\"T_ce307_row5_col6\" class=\"data row5 col6\" >0.49</td>\n",
       "                        <td id=\"T_ce307_row5_col7\" class=\"data row5 col7\" >0.38</td>\n",
       "                        <td id=\"T_ce307_row5_col8\" class=\"data row5 col8\" >0.48</td>\n",
       "                        <td id=\"T_ce307_row5_col9\" class=\"data row5 col9\" >2359</td>\n",
       "                        <td id=\"T_ce307_row5_col10\" class=\"data row5 col10\" >1</td>\n",
       "                        <td id=\"T_ce307_row5_col11\" class=\"data row5 col11\" >4948</td>\n",
       "                        <td id=\"T_ce307_row5_col12\" class=\"data row5 col12\" >3.4e+02</td>\n",
       "                        <td id=\"T_ce307_row5_col13\" class=\"data row5 col13\" >0.99</td>\n",
       "                        <td id=\"T_ce307_row5_col14\" class=\"data row5 col14\" >0.88</td>\n",
       "                        <td id=\"T_ce307_row5_col15\" class=\"data row5 col15\" >0</td>\n",
       "            </tr>\n",
       "            <tr>\n",
       "                        <th id=\"T_ce307_level0_row6\" class=\"row_heading level0 row6\" >6</th>\n",
       "                        <td id=\"T_ce307_row6_col0\" class=\"data row6 col0\" >3</td>\n",
       "                        <td id=\"T_ce307_row6_col1\" class=\"data row6 col1\" >2021-12-09 16:57:48.179646</td>\n",
       "                        <td id=\"T_ce307_row6_col2\" class=\"data row6 col2\" >Quantity</td>\n",
       "                        <td id=\"T_ce307_row6_col3\" class=\"data row6 col3\" >LightFM</td>\n",
       "                        <td id=\"T_ce307_row6_col4\" class=\"data row6 col4\" >False</td>\n",
       "                        <td id=\"T_ce307_row6_col5\" class=\"data row6 col5\" >5</td>\n",
       "                        <td id=\"T_ce307_row6_col6\" class=\"data row6 col6\" >0.48</td>\n",
       "                        <td id=\"T_ce307_row6_col7\" class=\"data row6 col7\" >0.37</td>\n",
       "                        <td id=\"T_ce307_row6_col8\" class=\"data row6 col8\" >0.46</td>\n",
       "                        <td id=\"T_ce307_row6_col9\" class=\"data row6 col9\" >2275</td>\n",
       "                        <td id=\"T_ce307_row6_col10\" class=\"data row6 col10\" >1</td>\n",
       "                        <td id=\"T_ce307_row6_col11\" class=\"data row6 col11\" >4948</td>\n",
       "                        <td id=\"T_ce307_row6_col12\" class=\"data row6 col12\" >3e+02</td>\n",
       "                        <td id=\"T_ce307_row6_col13\" class=\"data row6 col13\" >1.0</td>\n",
       "                        <td id=\"T_ce307_row6_col14\" class=\"data row6 col14\" >0.54</td>\n",
       "                        <td id=\"T_ce307_row6_col15\" class=\"data row6 col15\" >0</td>\n",
       "            </tr>\n",
       "            <tr>\n",
       "                        <th id=\"T_ce307_level0_row7\" class=\"row_heading level0 row7\" >7</th>\n",
       "                        <td id=\"T_ce307_row7_col0\" class=\"data row7 col0\" >20</td>\n",
       "                        <td id=\"T_ce307_row7_col1\" class=\"data row7 col1\" >2021-12-10 11:08:08.691002</td>\n",
       "                        <td id=\"T_ce307_row7_col2\" class=\"data row7 col2\" >new_Frequency1</td>\n",
       "                        <td id=\"T_ce307_row7_col3\" class=\"data row7 col3\" >LightFM</td>\n",
       "                        <td id=\"T_ce307_row7_col4\" class=\"data row7 col4\" >False</td>\n",
       "                        <td id=\"T_ce307_row7_col5\" class=\"data row7 col5\" >5</td>\n",
       "                        <td id=\"T_ce307_row7_col6\" class=\"data row7 col6\" >0.5</td>\n",
       "                        <td id=\"T_ce307_row7_col7\" class=\"data row7 col7\" >0.39</td>\n",
       "                        <td id=\"T_ce307_row7_col8\" class=\"data row7 col8\" >0.46</td>\n",
       "                        <td id=\"T_ce307_row7_col9\" class=\"data row7 col9\" >2280</td>\n",
       "                        <td id=\"T_ce307_row7_col10\" class=\"data row7 col10\" >1</td>\n",
       "                        <td id=\"T_ce307_row7_col11\" class=\"data row7 col11\" >4948</td>\n",
       "                        <td id=\"T_ce307_row7_col12\" class=\"data row7 col12\" >3.4e+02</td>\n",
       "                        <td id=\"T_ce307_row7_col13\" class=\"data row7 col13\" >0.99</td>\n",
       "                        <td id=\"T_ce307_row7_col14\" class=\"data row7 col14\" >0.84</td>\n",
       "                        <td id=\"T_ce307_row7_col15\" class=\"data row7 col15\" >0</td>\n",
       "            </tr>\n",
       "            <tr>\n",
       "                        <th id=\"T_ce307_level0_row8\" class=\"row_heading level0 row8\" >8</th>\n",
       "                        <td id=\"T_ce307_row8_col0\" class=\"data row8 col0\" >1</td>\n",
       "                        <td id=\"T_ce307_row8_col1\" class=\"data row8 col1\" >2021-12-09 16:31:09.354582</td>\n",
       "                        <td id=\"T_ce307_row8_col2\" class=\"data row8 col2\" >Quantity</td>\n",
       "                        <td id=\"T_ce307_row8_col3\" class=\"data row8 col3\" >LightFM</td>\n",
       "                        <td id=\"T_ce307_row8_col4\" class=\"data row8 col4\" >False</td>\n",
       "                        <td id=\"T_ce307_row8_col5\" class=\"data row8 col5\" >5</td>\n",
       "                        <td id=\"T_ce307_row8_col6\" class=\"data row8 col6\" >0.49</td>\n",
       "                        <td id=\"T_ce307_row8_col7\" class=\"data row8 col7\" >0.37</td>\n",
       "                        <td id=\"T_ce307_row8_col8\" class=\"data row8 col8\" >0.45</td>\n",
       "                        <td id=\"T_ce307_row8_col9\" class=\"data row8 col9\" >2231</td>\n",
       "                        <td id=\"T_ce307_row8_col10\" class=\"data row8 col10\" >1</td>\n",
       "                        <td id=\"T_ce307_row8_col11\" class=\"data row8 col11\" >4948</td>\n",
       "                        <td id=\"T_ce307_row8_col12\" class=\"data row8 col12\" >3.2e+02</td>\n",
       "                        <td id=\"T_ce307_row8_col13\" class=\"data row8 col13\" >1.0</td>\n",
       "                        <td id=\"T_ce307_row8_col14\" class=\"data row8 col14\" >0.57</td>\n",
       "                        <td id=\"T_ce307_row8_col15\" class=\"data row8 col15\" >0</td>\n",
       "            </tr>\n",
       "            <tr>\n",
       "                        <th id=\"T_ce307_level0_row9\" class=\"row_heading level0 row9\" >9</th>\n",
       "                        <td id=\"T_ce307_row9_col0\" class=\"data row9 col0\" >2</td>\n",
       "                        <td id=\"T_ce307_row9_col1\" class=\"data row9 col1\" >2021-12-09 16:46:35.756778</td>\n",
       "                        <td id=\"T_ce307_row9_col2\" class=\"data row9 col2\" >Quantity</td>\n",
       "                        <td id=\"T_ce307_row9_col3\" class=\"data row9 col3\" >LightFM</td>\n",
       "                        <td id=\"T_ce307_row9_col4\" class=\"data row9 col4\" >False</td>\n",
       "                        <td id=\"T_ce307_row9_col5\" class=\"data row9 col5\" >5</td>\n",
       "                        <td id=\"T_ce307_row9_col6\" class=\"data row9 col6\" >0.49</td>\n",
       "                        <td id=\"T_ce307_row9_col7\" class=\"data row9 col7\" >0.38</td>\n",
       "                        <td id=\"T_ce307_row9_col8\" class=\"data row9 col8\" >0.4</td>\n",
       "                        <td id=\"T_ce307_row9_col9\" class=\"data row9 col9\" >1971</td>\n",
       "                        <td id=\"T_ce307_row9_col10\" class=\"data row9 col10\" >1</td>\n",
       "                        <td id=\"T_ce307_row9_col11\" class=\"data row9 col11\" >4948</td>\n",
       "                        <td id=\"T_ce307_row9_col12\" class=\"data row9 col12\" >3.6e+02</td>\n",
       "                        <td id=\"T_ce307_row9_col13\" class=\"data row9 col13\" >1.0</td>\n",
       "                        <td id=\"T_ce307_row9_col14\" class=\"data row9 col14\" >0.57</td>\n",
       "                        <td id=\"T_ce307_row9_col15\" class=\"data row9 col15\" >0</td>\n",
       "            </tr>\n",
       "            <tr>\n",
       "                        <th id=\"T_ce307_level0_row10\" class=\"row_heading level0 row10\" >10</th>\n",
       "                        <td id=\"T_ce307_row10_col0\" class=\"data row10 col0\" >4</td>\n",
       "                        <td id=\"T_ce307_row10_col1\" class=\"data row10 col1\" >2021-12-09 17:23:57.331810</td>\n",
       "                        <td id=\"T_ce307_row10_col2\" class=\"data row10 col2\" >Quantity</td>\n",
       "                        <td id=\"T_ce307_row10_col3\" class=\"data row10 col3\" >LightFM</td>\n",
       "                        <td id=\"T_ce307_row10_col4\" class=\"data row10 col4\" >False</td>\n",
       "                        <td id=\"T_ce307_row10_col5\" class=\"data row10 col5\" >5</td>\n",
       "                        <td id=\"T_ce307_row10_col6\" class=\"data row10 col6\" >0.49</td>\n",
       "                        <td id=\"T_ce307_row10_col7\" class=\"data row10 col7\" >0.38</td>\n",
       "                        <td id=\"T_ce307_row10_col8\" class=\"data row10 col8\" >0.38</td>\n",
       "                        <td id=\"T_ce307_row10_col9\" class=\"data row10 col9\" >1884</td>\n",
       "                        <td id=\"T_ce307_row10_col10\" class=\"data row10 col10\" >1</td>\n",
       "                        <td id=\"T_ce307_row10_col11\" class=\"data row10 col11\" >4948</td>\n",
       "                        <td id=\"T_ce307_row10_col12\" class=\"data row10 col12\" >3.3e+02</td>\n",
       "                        <td id=\"T_ce307_row10_col13\" class=\"data row10 col13\" >1.0</td>\n",
       "                        <td id=\"T_ce307_row10_col14\" class=\"data row10 col14\" >0.92</td>\n",
       "                        <td id=\"T_ce307_row10_col15\" class=\"data row10 col15\" >0</td>\n",
       "            </tr>\n",
       "            <tr>\n",
       "                        <th id=\"T_ce307_level0_row11\" class=\"row_heading level0 row11\" >11</th>\n",
       "                        <td id=\"T_ce307_row11_col0\" class=\"data row11 col0\" >14</td>\n",
       "                        <td id=\"T_ce307_row11_col1\" class=\"data row11 col1\" >2021-12-10 01:00:08.886689</td>\n",
       "                        <td id=\"T_ce307_row11_col2\" class=\"data row11 col2\" >Frequency2</td>\n",
       "                        <td id=\"T_ce307_row11_col3\" class=\"data row11 col3\" >LightFM</td>\n",
       "                        <td id=\"T_ce307_row11_col4\" class=\"data row11 col4\" >False</td>\n",
       "                        <td id=\"T_ce307_row11_col5\" class=\"data row11 col5\" >5</td>\n",
       "                        <td id=\"T_ce307_row11_col6\" class=\"data row11 col6\" >0.53</td>\n",
       "                        <td id=\"T_ce307_row11_col7\" class=\"data row11 col7\" >0.41</td>\n",
       "                        <td id=\"T_ce307_row11_col8\" class=\"data row11 col8\" >0.25</td>\n",
       "                        <td id=\"T_ce307_row11_col9\" class=\"data row11 col9\" >1256</td>\n",
       "                        <td id=\"T_ce307_row11_col10\" class=\"data row11 col10\" >1</td>\n",
       "                        <td id=\"T_ce307_row11_col11\" class=\"data row11 col11\" >4948</td>\n",
       "                        <td id=\"T_ce307_row11_col12\" class=\"data row11 col12\" >5.3e+02</td>\n",
       "                        <td id=\"T_ce307_row11_col13\" class=\"data row11 col13\" >1.0</td>\n",
       "                        <td id=\"T_ce307_row11_col14\" class=\"data row11 col14\" >0.62</td>\n",
       "                        <td id=\"T_ce307_row11_col15\" class=\"data row11 col15\" >0</td>\n",
       "            </tr>\n",
       "    </tbody></table>"
      ],
      "text/plain": [
       "<pandas.io.formats.style.Styler at 0x21497e4a130>"
      ]
     },
     "execution_count": 92,
     "metadata": {},
     "output_type": "execute_result"
    }
   ],
   "source": [
    "light=evaluation_log.loc[(evaluation_log['Algo']=='LightFM') & (evaluation_log['Leave_one_out']==False)]\n",
    "(light[light['Leave_one_out']==False].sort_values('Hit_rate',ascending=False).reset_index().style\n",
    " .background_gradient(cmap=cm, subset=['Precision@N','Recall@N','Hit_rate','Unique_TopN','Unique_Products'])\n",
    " .highlight_max(subset=['Precision@N','Recall@N','Hit_rate','Unique_TopN','Unique_Products'],color='orange')\n",
    " .set_caption('LightFM Results')\n",
    " .format({'Hit_rate': \"{:.2}\",'Precision@N': \"{:.2}\",'Recall@N': \"{:.2}\",\n",
    " 'Compute_time': \"{:.2}\",'Unique_TopN': \"{:.2}\",'Unique_Products': \"{:.2}\",'LOO_Rate': \"{:.2}\"})\n",
    " .set_table_styles(styles))\n"
   ]
  },
  {
   "cell_type": "code",
   "execution_count": 93,
   "metadata": {
    "cell_id": "00018-2fa39824-7746-4fc0-9aed-70937e9b841c",
    "deepnote_cell_type": "code",
    "deepnote_output_heights": [
     198.65625
    ],
    "deepnote_to_be_reexecuted": false,
    "execution_millis": 117,
    "execution_start": 1640598895701,
    "output_cleared": true,
    "source_hash": "c17e880b"
   },
   "outputs": [],
   "source": [
    "#find highest and lowest evaluation rate score for each rating column type\n",
    "data_max_min=light[['Data','Precision@N','Recall@N','Hit_rate','Unique_TopN','Unique_Products']].groupby('Data').agg(['min', 'max'])\n"
   ]
  },
  {
   "cell_type": "code",
   "execution_count": 136,
   "metadata": {
    "cell_id": "00020-4c154845-8dd6-45b8-904e-b2d6e9e6219b",
    "deepnote_cell_type": "code",
    "deepnote_output_heights": [
     475.984375,
     417.984375,
     417.984375
    ],
    "deepnote_to_be_reexecuted": false,
    "execution_millis": 6947,
    "execution_start": 1640604885741,
    "output_cleared": true,
    "source_hash": "baa53c08"
   },
   "outputs": [
    {
     "data": {
      "image/png": "[encoded data removed]",
      "text/plain": [
       "<Figure size 864x432 with 2 Axes>"
      ]
     },
     "metadata": {},
     "output_type": "display_data"
    },
    {
     "data": {
      "image/png": "[encoded data removed]",
      "text/plain": [
       "<Figure size 864x432 with 2 Axes>"
      ]
     },
     "metadata": {},
     "output_type": "display_data"
    },
    {
     "data": {
      "image/png": "[encoded data removed]",
      "text/plain": [
       "<Figure size 864x432 with 2 Axes>"
      ]
     },
     "metadata": {},
     "output_type": "display_data"
    }
   ],
   "source": [
    "def system_overview2(light):\n",
    "    \"\"\"\n",
    "    LightFM system PLOTS \n",
    "    \"\"\"\n",
    "    plt.style.use(plt.style.available[9])\n",
    "    # plt.grid(color='w', linestyle='solid')\n",
    "    \n",
    "    #create index list\n",
    "    light_x=[]\n",
    "    for i in range(1,light.shape[0]+1):\n",
    "        light_x.append('LightFM{0}'.format(i))\n",
    "    \n",
    "    light=light.reset_index()\n",
    "\n",
    "    fig, (ax1, ax2)= plt.subplots(nrows=1, ncols=2, sharey=False,figsize=(12,6))\n",
    "    ax1.bar(x=light_x, height=light['Hit_rate'].values)\n",
    "    #find max\n",
    "    max_index=light[light['Hit_rate']==light['Hit_rate'].max()].index\n",
    "    max_score=light['Hit_rate'].max()\n",
    "    ax1.bar(x='LightFM{0}'.format(max_index[0]+1),height=max_score, color='r')\n",
    "    ax1.bar(x='LightFM{0}'.format(max_index[1]+1),height=max_score, color='r')\n",
    "\n",
    "\n",
    "    #annotation\n",
    "    y=light['Hit_rate'].values\n",
    "    x=light_x\n",
    "    for a,b in zip(x,y): \n",
    "        ax1.annotate(str(b),xy=(a,b),size=11,ha='center', va=\"bottom\")\n",
    "\n",
    "    ax1.set_title(\"Hit Rate\", fontsize=12)\n",
    "    ax1.set_xlabel('Algorythm')\n",
    "    ax1.set_ylabel('Hit Rate')\n",
    " \n",
    "    fig.autofmt_xdate()\n",
    "\n",
    "    ax2.bar(x=light['Data'], height=light['Hit_rate'])\n",
    "    #find max\n",
    "    max_rating_column=light[light['Hit_rate']==light['Hit_rate'].max()]['Data'].values\n",
    "    max_score=light['Hit_rate'].max()\n",
    "    ax2.bar(x=max_rating_column[0], height=max_score, color='r')\n",
    "    ax2.bar(x=max_rating_column[1],height=max_score, color='r')\n",
    "\n",
    "    ax2.set_ylim((0.2,0.65))\n",
    "    #annotation\n",
    "    y=light['Hit_rate'].values\n",
    "    x=light['Data'].values\n",
    "    for a,b in zip(x,y): \n",
    "        ax2.annotate(str(b),xy=(a,b),size=11,ha='center', va=\"bottom\")\n",
    "\n",
    "    ax2.set_title(\"Hit Rate\", fontsize=12)\n",
    "    ax2.set_xlabel('Rating')\n",
    "    ax2.set_ylabel('Hit Rate')\n",
    "    \n",
    "    fig.autofmt_xdate()\n",
    "    fig.tight_layout()\n",
    "    plt.subplots_adjust(wspace=0.2, hspace=0.8)\n",
    "    fig.suptitle('LightFM Overview',y=1.1,fontsize='x-large')\n",
    "\n",
    "    plt.show();\n",
    "\n",
    "    fig, (ax3, ax4) = plt.subplots(nrows=1, ncols=2, sharey=False,figsize=(12,6))\n",
    "\n",
    "    ax3.bar(x=light['Data'], height=light['Precision@N'])\n",
    "    #find max\n",
    "    max_data=light[light['Precision@N']==light['Precision@N'].max()]['Data'].values[0]\n",
    "    max_score=light['Precision@N'].max()\n",
    "    ax3.bar(x=max_data,height=max_score, color='red')\n",
    "    ax3.set_ylim((0.4,0.65))\n",
    "\n",
    "    #annotation\n",
    "    y=light['Precision@N'].values\n",
    " \n",
    "    for a,b in zip(x,y): \n",
    "        ax3.annotate(str(b),xy=(a,b),size=11,ha='center', va=\"bottom\")\n",
    "\n",
    "    ax3.set_title(\"Precision\", fontsize=12)\n",
    "    ax3.set_xlabel('Rating')\n",
    "    ax3.set_ylabel('Precision')\n",
    "    fig.autofmt_xdate()\n",
    "\n",
    "\n",
    "\n",
    "    ax4.bar(x=light['Data'], height=light['Recall@N'])\n",
    "    #find max\n",
    "    max_data=light[light['Recall@N']==light['Recall@N'].max()]['Data'].values[0]\n",
    "    max_score=light['Recall@N'].max()\n",
    "    ax4.bar(x=max_data,height=max_score, color='r')\n",
    "    ax4.set_ylim((0.3,0.5))\n",
    "\n",
    "    #annotation\n",
    "    y=light['Recall@N'].values\n",
    "    for a,b in zip(x,y): \n",
    "        ax4.annotate(str(b),xy=(a,b),size=11,ha='center', va=\"bottom\")\n",
    "\n",
    "    ax4.set_title(\"Recall\", fontsize=12)\n",
    "    ax4.set_xlabel('Rating')\n",
    "    ax4.set_ylabel('Recall')\n",
    "    fig.autofmt_xdate()\n",
    "    fig.tight_layout()\n",
    "    plt.subplots_adjust(wspace=0.2, hspace=0.5)\n",
    "    plt.show()\n",
    "\n",
    "\n",
    "    fig, (ax5, ax6) = plt.subplots(nrows=1, ncols=2, sharey=False,figsize=(12,6))\n",
    "\n",
    "    ax5.bar(x=light['Data'], height=light['Unique_TopN'])\n",
    "    #find max\n",
    "    max_data=light[light['Unique_TopN']==light['Unique_TopN'].max()]['Data'].values[0]\n",
    "    max_score=light['Unique_TopN'].max()\n",
    "    ax5.bar(x=max_data,height=max_score, color='r')\n",
    "    ax5.set_ylim((0.994,1.010))\n",
    "    #annotation\n",
    "    y=light['Unique_TopN'].values\n",
    "    for a,b in zip(x,y): \n",
    "        ax5.annotate(str(b),xy=(a,b),size=11,ha='center', va=\"bottom\")\n",
    "\n",
    "    ax5.set_title(\"Unique Recommendations Per User\", fontsize=12)\n",
    "    ax5.set_xlabel('Rating')\n",
    "    ax5.set_ylabel('Uniqueness Rate')\n",
    "    fig.autofmt_xdate()\n",
    "\n",
    "\n",
    "\n",
    "    ax6.bar(x=light['Data'], height=light['Unique_Products'])\n",
    "    #find max\n",
    "    max_data=light[light['Unique_Products']==light['Unique_Products'].max()]['Data'].values[0]\n",
    "    max_score=light['Unique_Products'].max()\n",
    "    ax6.bar(x=max_data,height=max_score, color='r')\n",
    "    ax6.set_ylim((0.2,1.0))\n",
    "    #annotation\n",
    "    y=light['Unique_Products'].values\n",
    "    for a,b in zip(x,y): \n",
    "        ax6.annotate(str(b),xy=(a,b),size=11,ha='center', va=\"bottom\")\n",
    "\n",
    "    ax6.set_title(\"Products In Recommendations\", fontsize=12)\n",
    "    ax6.set_xlabel('Rating')\n",
    "    ax6.set_ylabel('Usage')\n",
    "    fig.autofmt_xdate()\n",
    "    fig.tight_layout()\n",
    "    plt.subplots_adjust(wspace=0.2, hspace=0.1)\n",
    "    plt.show()\n",
    "    return None   \n",
    "system_overview2(light=light)"
   ]
  },
  {
   "cell_type": "markdown",
   "metadata": {
    "cell_id": "00020-a7a61294-ca27-48db-ba61-0acd51a48954",
    "deepnote_cell_type": "markdown",
    "tags": []
   },
   "source": [
    "##### Best Run Details:"
   ]
  },
  {
   "cell_type": "code",
   "execution_count": 95,
   "metadata": {
    "cell_id": "00022-b1257aec-1a0e-49e8-ac0a-ca30a0cd390e",
    "deepnote_cell_type": "code",
    "deepnote_output_heights": [
     193.8125
    ],
    "deepnote_to_be_reexecuted": false,
    "execution_millis": 361,
    "execution_start": 1640599336692,
    "output_cleared": true,
    "source_hash": "d52674dd",
    "tags": []
   },
   "outputs": [
    {
     "data": {
      "text/html": [
       "<style  type=\"text/css\" >\n",
       "#T_bda9d_row0_col3,#T_bda9d_row1_col0,#T_bda9d_row1_col1,#T_bda9d_row1_col2,#T_bda9d_row1_col3,#T_bda9d_row2_col2,#T_bda9d_row2_col3,#T_bda9d_row2_col4{\n",
       "            background-color:  coral;\n",
       "        }#T_bda9d_row1_col4,#T_bda9d_row2_col0,#T_bda9d_row2_col1,#T_bda9d_row3_col0,#T_bda9d_row3_col2,#T_bda9d_row3_col3{\n",
       "            background-color:  lightgreen;\n",
       "        }</style><table id=\"T_bda9d_\" ><thead>    <tr>        <th class=\"blank level0\" ></th>        <th class=\"col_heading level0 col0\" >Precision@N</th>        <th class=\"col_heading level0 col1\" >Recall@N</th>        <th class=\"col_heading level0 col2\" >Hit_rate</th>        <th class=\"col_heading level0 col3\" >Unique_TopN</th>        <th class=\"col_heading level0 col4\" >Unique_Products</th>    </tr>    <tr>        <th class=\"blank level1\" ></th>        <th class=\"col_heading level1 col0\" >max</th>        <th class=\"col_heading level1 col1\" >max</th>        <th class=\"col_heading level1 col2\" >max</th>        <th class=\"col_heading level1 col3\" >max</th>        <th class=\"col_heading level1 col4\" >max</th>    </tr>    <tr>        <th class=\"index_name level0\" >Data</th>        <th class=\"blank\" ></th>        <th class=\"blank\" ></th>        <th class=\"blank\" ></th>        <th class=\"blank\" ></th>        <th class=\"blank\" ></th>    </tr></thead><tbody>\n",
       "                <tr>\n",
       "                        <th id=\"T_bda9d_level0_row0\" class=\"row_heading level0 row0\" >Frequency1</th>\n",
       "                        <td id=\"T_bda9d_row0_col0\" class=\"data row0 col0\" >0.51</td>\n",
       "                        <td id=\"T_bda9d_row0_col1\" class=\"data row0 col1\" >0.39</td>\n",
       "                        <td id=\"T_bda9d_row0_col2\" class=\"data row0 col2\" >0.59</td>\n",
       "                        <td id=\"T_bda9d_row0_col3\" class=\"data row0 col3\" >1.00</td>\n",
       "                        <td id=\"T_bda9d_row0_col4\" class=\"data row0 col4\" >0.81</td>\n",
       "            </tr>\n",
       "            <tr>\n",
       "                        <th id=\"T_bda9d_level0_row1\" class=\"row_heading level0 row1\" >Frequency2</th>\n",
       "                        <td id=\"T_bda9d_row1_col0\" class=\"data row1 col0\" >0.53</td>\n",
       "                        <td id=\"T_bda9d_row1_col1\" class=\"data row1 col1\" >0.41</td>\n",
       "                        <td id=\"T_bda9d_row1_col2\" class=\"data row1 col2\" >0.60</td>\n",
       "                        <td id=\"T_bda9d_row1_col3\" class=\"data row1 col3\" >1.00</td>\n",
       "                        <td id=\"T_bda9d_row1_col4\" class=\"data row1 col4\" >0.76</td>\n",
       "            </tr>\n",
       "            <tr>\n",
       "                        <th id=\"T_bda9d_level0_row2\" class=\"row_heading level0 row2\" >Quantity</th>\n",
       "                        <td id=\"T_bda9d_row2_col0\" class=\"data row2 col0\" >0.50</td>\n",
       "                        <td id=\"T_bda9d_row2_col1\" class=\"data row2 col1\" >0.38</td>\n",
       "                        <td id=\"T_bda9d_row2_col2\" class=\"data row2 col2\" >0.60</td>\n",
       "                        <td id=\"T_bda9d_row2_col3\" class=\"data row2 col3\" >1.00</td>\n",
       "                        <td id=\"T_bda9d_row2_col4\" class=\"data row2 col4\" >0.92</td>\n",
       "            </tr>\n",
       "            <tr>\n",
       "                        <th id=\"T_bda9d_level0_row3\" class=\"row_heading level0 row3\" >new_Frequency1</th>\n",
       "                        <td id=\"T_bda9d_row3_col0\" class=\"data row3 col0\" >0.50</td>\n",
       "                        <td id=\"T_bda9d_row3_col1\" class=\"data row3 col1\" >0.39</td>\n",
       "                        <td id=\"T_bda9d_row3_col2\" class=\"data row3 col2\" >0.46</td>\n",
       "                        <td id=\"T_bda9d_row3_col3\" class=\"data row3 col3\" >0.99</td>\n",
       "                        <td id=\"T_bda9d_row3_col4\" class=\"data row3 col4\" >0.84</td>\n",
       "            </tr>\n",
       "    </tbody></table>"
      ],
      "text/plain": [
       "<pandas.io.formats.style.Styler at 0x21495e78910>"
      ]
     },
     "execution_count": 95,
     "metadata": {},
     "output_type": "execute_result"
    }
   ],
   "source": [
    "#best LightFM Run\n",
    "data_max=data_max_min[data_max_min.columns[:][[1,3,5,7,9]]].style\\\n",
    "      .format('{:.2f}')\\\n",
    "      .highlight_max(color = 'coral')\\\n",
    "      .highlight_min(color = 'lightgreen')\\\n",
    "      .highlight_null(null_color='yellow')\n",
    "data_max"
   ]
  },
  {
   "cell_type": "code",
   "execution_count": 96,
   "metadata": {},
   "outputs": [
    {
     "data": {
      "text/html": [
       "<style  type=\"text/css\" >\n",
       "#T_6b330_row0_col8,#T_6b330_row1_col8{\n",
       "            background-color:  pink;\n",
       "        }</style><table id=\"T_6b330_\" ><thead>    <tr>        <th class=\"blank level0\" ></th>        <th class=\"col_heading level0 col0\" >index</th>        <th class=\"col_heading level0 col1\" >Date</th>        <th class=\"col_heading level0 col2\" >Data</th>        <th class=\"col_heading level0 col3\" >Algo</th>        <th class=\"col_heading level0 col4\" >Leave_one_out</th>        <th class=\"col_heading level0 col5\" >N</th>        <th class=\"col_heading level0 col6\" >Precision@N</th>        <th class=\"col_heading level0 col7\" >Recall@N</th>        <th class=\"col_heading level0 col8\" >Hit_rate</th>        <th class=\"col_heading level0 col9\" >Hits</th>        <th class=\"col_heading level0 col10\" >Hit_threshold</th>        <th class=\"col_heading level0 col11\" >Count_customers</th>        <th class=\"col_heading level0 col12\" >Compute_time</th>        <th class=\"col_heading level0 col13\" >Unique_TopN</th>        <th class=\"col_heading level0 col14\" >Unique_Products</th>        <th class=\"col_heading level0 col15\" >LOO_Rate</th>    </tr></thead><tbody>\n",
       "                <tr>\n",
       "                        <th id=\"T_6b330_level0_row0\" class=\"row_heading level0 row0\" >0</th>\n",
       "                        <td id=\"T_6b330_row0_col0\" class=\"data row0 col0\" >5</td>\n",
       "                        <td id=\"T_6b330_row0_col1\" class=\"data row0 col1\" >2021-12-09 20:16:26.641952</td>\n",
       "                        <td id=\"T_6b330_row0_col2\" class=\"data row0 col2\" >Quantity</td>\n",
       "                        <td id=\"T_6b330_row0_col3\" class=\"data row0 col3\" >LightFM</td>\n",
       "                        <td id=\"T_6b330_row0_col4\" class=\"data row0 col4\" >False</td>\n",
       "                        <td id=\"T_6b330_row0_col5\" class=\"data row0 col5\" >5</td>\n",
       "                        <td id=\"T_6b330_row0_col6\" class=\"data row0 col6\" >0.50</td>\n",
       "                        <td id=\"T_6b330_row0_col7\" class=\"data row0 col7\" >0.38</td>\n",
       "                        <td id=\"T_6b330_row0_col8\" class=\"data row0 col8\" >0.60</td>\n",
       "                        <td id=\"T_6b330_row0_col9\" class=\"data row0 col9\" >2973</td>\n",
       "                        <td id=\"T_6b330_row0_col10\" class=\"data row0 col10\" >1</td>\n",
       "                        <td id=\"T_6b330_row0_col11\" class=\"data row0 col11\" >4948</td>\n",
       "                        <td id=\"T_6b330_row0_col12\" class=\"data row0 col12\" >365.30</td>\n",
       "                        <td id=\"T_6b330_row0_col13\" class=\"data row0 col13\" >0.99</td>\n",
       "                        <td id=\"T_6b330_row0_col14\" class=\"data row0 col14\" >0.29</td>\n",
       "                        <td id=\"T_6b330_row0_col15\" class=\"data row0 col15\" >0</td>\n",
       "            </tr>\n",
       "            <tr>\n",
       "                        <th id=\"T_6b330_level0_row1\" class=\"row_heading level0 row1\" >1</th>\n",
       "                        <td id=\"T_6b330_row1_col0\" class=\"data row1 col0\" >13</td>\n",
       "                        <td id=\"T_6b330_row1_col1\" class=\"data row1 col1\" >2021-12-10 00:35:53.165678</td>\n",
       "                        <td id=\"T_6b330_row1_col2\" class=\"data row1 col2\" >Frequency2</td>\n",
       "                        <td id=\"T_6b330_row1_col3\" class=\"data row1 col3\" >LightFM</td>\n",
       "                        <td id=\"T_6b330_row1_col4\" class=\"data row1 col4\" >False</td>\n",
       "                        <td id=\"T_6b330_row1_col5\" class=\"data row1 col5\" >5</td>\n",
       "                        <td id=\"T_6b330_row1_col6\" class=\"data row1 col6\" >0.50</td>\n",
       "                        <td id=\"T_6b330_row1_col7\" class=\"data row1 col7\" >0.38</td>\n",
       "                        <td id=\"T_6b330_row1_col8\" class=\"data row1 col8\" >0.60</td>\n",
       "                        <td id=\"T_6b330_row1_col9\" class=\"data row1 col9\" >2990</td>\n",
       "                        <td id=\"T_6b330_row1_col10\" class=\"data row1 col10\" >1</td>\n",
       "                        <td id=\"T_6b330_row1_col11\" class=\"data row1 col11\" >4948</td>\n",
       "                        <td id=\"T_6b330_row1_col12\" class=\"data row1 col12\" >482.18</td>\n",
       "                        <td id=\"T_6b330_row1_col13\" class=\"data row1 col13\" >1.00</td>\n",
       "                        <td id=\"T_6b330_row1_col14\" class=\"data row1 col14\" >0.29</td>\n",
       "                        <td id=\"T_6b330_row1_col15\" class=\"data row1 col15\" >0</td>\n",
       "            </tr>\n",
       "    </tbody></table>"
      ],
      "text/plain": [
       "<pandas.io.formats.style.Styler at 0x21495892c10>"
      ]
     },
     "execution_count": 96,
     "metadata": {},
     "output_type": "execute_result"
    }
   ],
   "source": [
    "#best runs\n",
    "evaluation_log[(evaluation_log['Leave_one_out']==False) & \n",
    " (evaluation_log['Algo']=='LightFM')].sort_values(by='Hit_rate',ascending=False).reset_index()[:2].style\\\n",
    " .format('{:.2f}',subset=['Precision@N','Recall@N','Hit_rate','Compute_time', 'Unique_TopN','Unique_Products'])\\\n",
    " .set_properties(**{'background-color': 'pink'}, subset=['Hit_rate'])\n"
   ]
  },
  {
   "cell_type": "code",
   "execution_count": 97,
   "metadata": {
    "cell_id": "00021-14c578c1-7bd0-4b97-903b-d0ef05971100",
    "deepnote_cell_type": "code",
    "deepnote_to_be_reexecuted": false,
    "execution_millis": 203,
    "execution_start": 1640602470197,
    "output_cleared": true,
    "source_hash": "61559a4d",
    "tags": []
   },
   "outputs": [
    {
     "data": {
      "text/html": [
       "<style  type=\"text/css\" >\n",
       "#T_fe113_row0_col8,#T_fe113_row1_col8,#T_fe113_row2_col8{\n",
       "            background-color:  pink;\n",
       "        }</style><table id=\"T_fe113_\" ><thead>    <tr>        <th class=\"blank level0\" ></th>        <th class=\"col_heading level0 col0\" >index</th>        <th class=\"col_heading level0 col1\" >Date</th>        <th class=\"col_heading level0 col2\" >Data</th>        <th class=\"col_heading level0 col3\" >Algo</th>        <th class=\"col_heading level0 col4\" >Leave_one_out</th>        <th class=\"col_heading level0 col5\" >N</th>        <th class=\"col_heading level0 col6\" >Precision@N</th>        <th class=\"col_heading level0 col7\" >Recall@N</th>        <th class=\"col_heading level0 col8\" >Hit_rate</th>        <th class=\"col_heading level0 col9\" >Hits</th>        <th class=\"col_heading level0 col10\" >Hit_threshold</th>        <th class=\"col_heading level0 col11\" >Count_customers</th>        <th class=\"col_heading level0 col12\" >Compute_time</th>        <th class=\"col_heading level0 col13\" >Unique_TopN</th>        <th class=\"col_heading level0 col14\" >Unique_Products</th>        <th class=\"col_heading level0 col15\" >LOO_Rate</th>    </tr></thead><tbody>\n",
       "                <tr>\n",
       "                        <th id=\"T_fe113_level0_row0\" class=\"row_heading level0 row0\" >0</th>\n",
       "                        <td id=\"T_fe113_row0_col0\" class=\"data row0 col0\" >13</td>\n",
       "                        <td id=\"T_fe113_row0_col1\" class=\"data row0 col1\" >2021-12-10 00:35:53.165678</td>\n",
       "                        <td id=\"T_fe113_row0_col2\" class=\"data row0 col2\" >Frequency2</td>\n",
       "                        <td id=\"T_fe113_row0_col3\" class=\"data row0 col3\" >LightFM</td>\n",
       "                        <td id=\"T_fe113_row0_col4\" class=\"data row0 col4\" >False</td>\n",
       "                        <td id=\"T_fe113_row0_col5\" class=\"data row0 col5\" >5</td>\n",
       "                        <td id=\"T_fe113_row0_col6\" class=\"data row0 col6\" >0.50</td>\n",
       "                        <td id=\"T_fe113_row0_col7\" class=\"data row0 col7\" >0.38</td>\n",
       "                        <td id=\"T_fe113_row0_col8\" class=\"data row0 col8\" >0.60</td>\n",
       "                        <td id=\"T_fe113_row0_col9\" class=\"data row0 col9\" >2990</td>\n",
       "                        <td id=\"T_fe113_row0_col10\" class=\"data row0 col10\" >1</td>\n",
       "                        <td id=\"T_fe113_row0_col11\" class=\"data row0 col11\" >4948</td>\n",
       "                        <td id=\"T_fe113_row0_col12\" class=\"data row0 col12\" >482.18</td>\n",
       "                        <td id=\"T_fe113_row0_col13\" class=\"data row0 col13\" >1.00</td>\n",
       "                        <td id=\"T_fe113_row0_col14\" class=\"data row0 col14\" >0.29</td>\n",
       "                        <td id=\"T_fe113_row0_col15\" class=\"data row0 col15\" >0</td>\n",
       "            </tr>\n",
       "            <tr>\n",
       "                        <th id=\"T_fe113_level0_row1\" class=\"row_heading level0 row1\" >1</th>\n",
       "                        <td id=\"T_fe113_row1_col0\" class=\"data row1 col0\" >14</td>\n",
       "                        <td id=\"T_fe113_row1_col1\" class=\"data row1 col1\" >2021-12-10 01:00:08.886689</td>\n",
       "                        <td id=\"T_fe113_row1_col2\" class=\"data row1 col2\" >Frequency2</td>\n",
       "                        <td id=\"T_fe113_row1_col3\" class=\"data row1 col3\" >LightFM</td>\n",
       "                        <td id=\"T_fe113_row1_col4\" class=\"data row1 col4\" >False</td>\n",
       "                        <td id=\"T_fe113_row1_col5\" class=\"data row1 col5\" >5</td>\n",
       "                        <td id=\"T_fe113_row1_col6\" class=\"data row1 col6\" >0.53</td>\n",
       "                        <td id=\"T_fe113_row1_col7\" class=\"data row1 col7\" >0.41</td>\n",
       "                        <td id=\"T_fe113_row1_col8\" class=\"data row1 col8\" >0.25</td>\n",
       "                        <td id=\"T_fe113_row1_col9\" class=\"data row1 col9\" >1256</td>\n",
       "                        <td id=\"T_fe113_row1_col10\" class=\"data row1 col10\" >1</td>\n",
       "                        <td id=\"T_fe113_row1_col11\" class=\"data row1 col11\" >4948</td>\n",
       "                        <td id=\"T_fe113_row1_col12\" class=\"data row1 col12\" >534.19</td>\n",
       "                        <td id=\"T_fe113_row1_col13\" class=\"data row1 col13\" >1.00</td>\n",
       "                        <td id=\"T_fe113_row1_col14\" class=\"data row1 col14\" >0.62</td>\n",
       "                        <td id=\"T_fe113_row1_col15\" class=\"data row1 col15\" >0</td>\n",
       "            </tr>\n",
       "            <tr>\n",
       "                        <th id=\"T_fe113_level0_row2\" class=\"row_heading level0 row2\" >2</th>\n",
       "                        <td id=\"T_fe113_row2_col0\" class=\"data row2 col0\" >18</td>\n",
       "                        <td id=\"T_fe113_row2_col1\" class=\"data row2 col1\" >2021-12-10 10:40:13.579634</td>\n",
       "                        <td id=\"T_fe113_row2_col2\" class=\"data row2 col2\" >Frequency2</td>\n",
       "                        <td id=\"T_fe113_row2_col3\" class=\"data row2 col3\" >LightFM</td>\n",
       "                        <td id=\"T_fe113_row2_col4\" class=\"data row2 col4\" >False</td>\n",
       "                        <td id=\"T_fe113_row2_col5\" class=\"data row2 col5\" >5</td>\n",
       "                        <td id=\"T_fe113_row2_col6\" class=\"data row2 col6\" >0.51</td>\n",
       "                        <td id=\"T_fe113_row2_col7\" class=\"data row2 col7\" >0.39</td>\n",
       "                        <td id=\"T_fe113_row2_col8\" class=\"data row2 col8\" >0.53</td>\n",
       "                        <td id=\"T_fe113_row2_col9\" class=\"data row2 col9\" >2608</td>\n",
       "                        <td id=\"T_fe113_row2_col10\" class=\"data row2 col10\" >1</td>\n",
       "                        <td id=\"T_fe113_row2_col11\" class=\"data row2 col11\" >4948</td>\n",
       "                        <td id=\"T_fe113_row2_col12\" class=\"data row2 col12\" >347.12</td>\n",
       "                        <td id=\"T_fe113_row2_col13\" class=\"data row2 col13\" >1.00</td>\n",
       "                        <td id=\"T_fe113_row2_col14\" class=\"data row2 col14\" >0.76</td>\n",
       "                        <td id=\"T_fe113_row2_col15\" class=\"data row2 col15\" >0</td>\n",
       "            </tr>\n",
       "    </tbody></table>"
      ],
      "text/plain": [
       "<pandas.io.formats.style.Styler at 0x214959cf8e0>"
      ]
     },
     "execution_count": 97,
     "metadata": {},
     "output_type": "execute_result"
    }
   ],
   "source": [
    "light_train=train_log2[train_log2['Leave_one_out']==False]\n",
    "#Evaluation Runs using Frequency2 data\n",
    "results_max=evaluation_log[(evaluation_log['Data']=='Frequency2') & (evaluation_log['Leave_one_out']==False) & \n",
    "                            (evaluation_log['Algo']=='LightFM')].reset_index()\n",
    "results_max.style\\\n",
    " .format('{:.2f}',subset=['Precision@N','Recall@N','Hit_rate','Compute_time', 'Unique_TopN','Unique_Products'])\\\n",
    " .set_properties(**{'background-color': 'pink'}, subset=['Hit_rate'])                           "
   ]
  },
  {
   "cell_type": "code",
   "execution_count": 98,
   "metadata": {
    "cell_id": "00023-b7802c8a-1b59-4266-bab5-9b51f565ce1d",
    "deepnote_cell_type": "code",
    "deepnote_to_be_reexecuted": false,
    "execution_millis": 3,
    "execution_start": 1640602766921,
    "output_cleared": true,
    "source_hash": "ca51d57c",
    "tags": []
   },
   "outputs": [],
   "source": [
    "#find highest Hit Rate index\n",
    "hhr_index=results_max[(results_max['Hit_rate']==0.6) & (results_max['Data']=='Frequency2')].index[0]"
   ]
  },
  {
   "cell_type": "code",
   "execution_count": 99,
   "metadata": {
    "cell_id": "00024-efa21a90-f81b-4532-b918-a26055887d4a",
    "deepnote_cell_type": "code",
    "deepnote_output_heights": [
     231.078125
    ],
    "deepnote_to_be_reexecuted": false,
    "execution_millis": 166,
    "execution_start": 1640602842612,
    "output_cleared": true,
    "source_hash": "28a7f789",
    "tags": []
   },
   "outputs": [
    {
     "data": {
      "text/plain": [
       "index                                          9\n",
       "Date                  2021-12-10 00:35:53.070734\n",
       "Data                                  Frequency2\n",
       "Algo                                     LightFM\n",
       "Tunning                                    False\n",
       "Tunning_time                                   -\n",
       "Tuning_Samples                                 -\n",
       "Parameters        {'epochs': 30, 'loss': 'warp'}\n",
       "Tuning_Metric                                  -\n",
       "Tuning_score                                   -\n",
       "Leave_one_out                              False\n",
       "Name: 0, dtype: object"
      ]
     },
     "execution_count": 99,
     "metadata": {},
     "output_type": "execute_result"
    }
   ],
   "source": [
    "#Training Runs using Quantity data \n",
    "run_details=light_train.loc[(light_train['Data']=='Frequency2')].reset_index().loc[hhr_index]\n",
    "run_details"
   ]
  },
  {
   "cell_type": "code",
   "execution_count": 100,
   "metadata": {
    "cell_id": "00026-502fd8d1-02ab-43a2-9835-4a2a59eda111",
    "deepnote_cell_type": "code",
    "deepnote_output_heights": [
     21.078125
    ],
    "deepnote_to_be_reexecuted": false,
    "execution_millis": 18,
    "execution_start": 1640599673404,
    "output_cleared": true,
    "source_hash": "ab890120",
    "tags": []
   },
   "outputs": [
    {
     "data": {
      "text/plain": [
       "{'epochs': 30, 'loss': 'warp'}"
      ]
     },
     "execution_count": 100,
     "metadata": {},
     "output_type": "execute_result"
    }
   ],
   "source": [
    "run_details['Parameters']"
   ]
  },
  {
   "cell_type": "markdown",
   "metadata": {
    "cell_id": "00027-4d6190ae-77f6-4a14-8d05-42cf01b5d4a9",
    "deepnote_cell_type": "markdown",
    "tags": []
   },
   "source": [
    "***\n",
    "To our surprise, less is better when it comes to LighFM model. Both highest Hit Rate scores were made using, loss function as **warp** and 30 epochs. Regardless of the data type, Frequency2 or Quantity, simplicity seems to do the trick! \n",
    "\n",
    "The rest parameters have their default values, which are: \n",
    "* number of components:   10,\n",
    "* learning rate schedule: adagrad, adadelta,  \n",
    "* learning rate:          0.05,  \n",
    "* item alpha:             0.0,  \n",
    "* user alpha:             0.0,  \n",
    "* max sampled:            10\n",
    " \n",
    "***"
   ]
  },
  {
   "cell_type": "markdown",
   "metadata": {
    "cell_id": "00028-472e8418-014e-4d52-9f88-c39c2e6d341a",
    "deepnote_cell_type": "markdown",
    "tags": []
   },
   "source": [
    "##### Alternatively:"
   ]
  },
  {
   "cell_type": "code",
   "execution_count": 101,
   "metadata": {
    "cell_id": "00027-eebfdb2f-57b4-409c-b80b-90ecc5385a98",
    "deepnote_cell_type": "code",
    "deepnote_to_be_reexecuted": false,
    "execution_millis": 173,
    "execution_start": 1640602194684,
    "output_cleared": true,
    "source_hash": "9672b328",
    "tags": []
   },
   "outputs": [
    {
     "data": {
      "text/html": [
       "<style  type=\"text/css\" >\n",
       "#T_1c1f9_row0_col8,#T_1c1f9_row1_col8,#T_1c1f9_row2_col8,#T_1c1f9_row3_col8,#T_1c1f9_row4_col8,#T_1c1f9_row5_col8{\n",
       "            background-color:  pink;\n",
       "        }</style><table id=\"T_1c1f9_\" ><thead>    <tr>        <th class=\"blank level0\" ></th>        <th class=\"col_heading level0 col0\" >index</th>        <th class=\"col_heading level0 col1\" >Date</th>        <th class=\"col_heading level0 col2\" >Data</th>        <th class=\"col_heading level0 col3\" >Algo</th>        <th class=\"col_heading level0 col4\" >Leave_one_out</th>        <th class=\"col_heading level0 col5\" >N</th>        <th class=\"col_heading level0 col6\" >Precision@N</th>        <th class=\"col_heading level0 col7\" >Recall@N</th>        <th class=\"col_heading level0 col8\" >Hit_rate</th>        <th class=\"col_heading level0 col9\" >Hits</th>        <th class=\"col_heading level0 col10\" >Hit_threshold</th>        <th class=\"col_heading level0 col11\" >Count_customers</th>        <th class=\"col_heading level0 col12\" >Compute_time</th>        <th class=\"col_heading level0 col13\" >Unique_TopN</th>        <th class=\"col_heading level0 col14\" >Unique_Products</th>        <th class=\"col_heading level0 col15\" >LOO_Rate</th>    </tr></thead><tbody>\n",
       "                <tr>\n",
       "                        <th id=\"T_1c1f9_level0_row0\" class=\"row_heading level0 row0\" >0</th>\n",
       "                        <td id=\"T_1c1f9_row0_col0\" class=\"data row0 col0\" >1</td>\n",
       "                        <td id=\"T_1c1f9_row0_col1\" class=\"data row0 col1\" >2021-12-09 16:31:09.354582</td>\n",
       "                        <td id=\"T_1c1f9_row0_col2\" class=\"data row0 col2\" >Quantity</td>\n",
       "                        <td id=\"T_1c1f9_row0_col3\" class=\"data row0 col3\" >LightFM</td>\n",
       "                        <td id=\"T_1c1f9_row0_col4\" class=\"data row0 col4\" >False</td>\n",
       "                        <td id=\"T_1c1f9_row0_col5\" class=\"data row0 col5\" >5</td>\n",
       "                        <td id=\"T_1c1f9_row0_col6\" class=\"data row0 col6\" >0.49</td>\n",
       "                        <td id=\"T_1c1f9_row0_col7\" class=\"data row0 col7\" >0.37</td>\n",
       "                        <td id=\"T_1c1f9_row0_col8\" class=\"data row0 col8\" >0.45</td>\n",
       "                        <td id=\"T_1c1f9_row0_col9\" class=\"data row0 col9\" >2231</td>\n",
       "                        <td id=\"T_1c1f9_row0_col10\" class=\"data row0 col10\" >1</td>\n",
       "                        <td id=\"T_1c1f9_row0_col11\" class=\"data row0 col11\" >4948</td>\n",
       "                        <td id=\"T_1c1f9_row0_col12\" class=\"data row0 col12\" >318.13</td>\n",
       "                        <td id=\"T_1c1f9_row0_col13\" class=\"data row0 col13\" >1.00</td>\n",
       "                        <td id=\"T_1c1f9_row0_col14\" class=\"data row0 col14\" >0.57</td>\n",
       "                        <td id=\"T_1c1f9_row0_col15\" class=\"data row0 col15\" >0</td>\n",
       "            </tr>\n",
       "            <tr>\n",
       "                        <th id=\"T_1c1f9_level0_row1\" class=\"row_heading level0 row1\" >1</th>\n",
       "                        <td id=\"T_1c1f9_row1_col0\" class=\"data row1 col0\" >2</td>\n",
       "                        <td id=\"T_1c1f9_row1_col1\" class=\"data row1 col1\" >2021-12-09 16:46:35.756778</td>\n",
       "                        <td id=\"T_1c1f9_row1_col2\" class=\"data row1 col2\" >Quantity</td>\n",
       "                        <td id=\"T_1c1f9_row1_col3\" class=\"data row1 col3\" >LightFM</td>\n",
       "                        <td id=\"T_1c1f9_row1_col4\" class=\"data row1 col4\" >False</td>\n",
       "                        <td id=\"T_1c1f9_row1_col5\" class=\"data row1 col5\" >5</td>\n",
       "                        <td id=\"T_1c1f9_row1_col6\" class=\"data row1 col6\" >0.49</td>\n",
       "                        <td id=\"T_1c1f9_row1_col7\" class=\"data row1 col7\" >0.38</td>\n",
       "                        <td id=\"T_1c1f9_row1_col8\" class=\"data row1 col8\" >0.40</td>\n",
       "                        <td id=\"T_1c1f9_row1_col9\" class=\"data row1 col9\" >1971</td>\n",
       "                        <td id=\"T_1c1f9_row1_col10\" class=\"data row1 col10\" >1</td>\n",
       "                        <td id=\"T_1c1f9_row1_col11\" class=\"data row1 col11\" >4948</td>\n",
       "                        <td id=\"T_1c1f9_row1_col12\" class=\"data row1 col12\" >358.38</td>\n",
       "                        <td id=\"T_1c1f9_row1_col13\" class=\"data row1 col13\" >1.00</td>\n",
       "                        <td id=\"T_1c1f9_row1_col14\" class=\"data row1 col14\" >0.57</td>\n",
       "                        <td id=\"T_1c1f9_row1_col15\" class=\"data row1 col15\" >0</td>\n",
       "            </tr>\n",
       "            <tr>\n",
       "                        <th id=\"T_1c1f9_level0_row2\" class=\"row_heading level0 row2\" >2</th>\n",
       "                        <td id=\"T_1c1f9_row2_col0\" class=\"data row2 col0\" >3</td>\n",
       "                        <td id=\"T_1c1f9_row2_col1\" class=\"data row2 col1\" >2021-12-09 16:57:48.179646</td>\n",
       "                        <td id=\"T_1c1f9_row2_col2\" class=\"data row2 col2\" >Quantity</td>\n",
       "                        <td id=\"T_1c1f9_row2_col3\" class=\"data row2 col3\" >LightFM</td>\n",
       "                        <td id=\"T_1c1f9_row2_col4\" class=\"data row2 col4\" >False</td>\n",
       "                        <td id=\"T_1c1f9_row2_col5\" class=\"data row2 col5\" >5</td>\n",
       "                        <td id=\"T_1c1f9_row2_col6\" class=\"data row2 col6\" >0.48</td>\n",
       "                        <td id=\"T_1c1f9_row2_col7\" class=\"data row2 col7\" >0.37</td>\n",
       "                        <td id=\"T_1c1f9_row2_col8\" class=\"data row2 col8\" >0.46</td>\n",
       "                        <td id=\"T_1c1f9_row2_col9\" class=\"data row2 col9\" >2275</td>\n",
       "                        <td id=\"T_1c1f9_row2_col10\" class=\"data row2 col10\" >1</td>\n",
       "                        <td id=\"T_1c1f9_row2_col11\" class=\"data row2 col11\" >4948</td>\n",
       "                        <td id=\"T_1c1f9_row2_col12\" class=\"data row2 col12\" >304.21</td>\n",
       "                        <td id=\"T_1c1f9_row2_col13\" class=\"data row2 col13\" >1.00</td>\n",
       "                        <td id=\"T_1c1f9_row2_col14\" class=\"data row2 col14\" >0.54</td>\n",
       "                        <td id=\"T_1c1f9_row2_col15\" class=\"data row2 col15\" >0</td>\n",
       "            </tr>\n",
       "            <tr>\n",
       "                        <th id=\"T_1c1f9_level0_row3\" class=\"row_heading level0 row3\" >3</th>\n",
       "                        <td id=\"T_1c1f9_row3_col0\" class=\"data row3 col0\" >4</td>\n",
       "                        <td id=\"T_1c1f9_row3_col1\" class=\"data row3 col1\" >2021-12-09 17:23:57.331810</td>\n",
       "                        <td id=\"T_1c1f9_row3_col2\" class=\"data row3 col2\" >Quantity</td>\n",
       "                        <td id=\"T_1c1f9_row3_col3\" class=\"data row3 col3\" >LightFM</td>\n",
       "                        <td id=\"T_1c1f9_row3_col4\" class=\"data row3 col4\" >False</td>\n",
       "                        <td id=\"T_1c1f9_row3_col5\" class=\"data row3 col5\" >5</td>\n",
       "                        <td id=\"T_1c1f9_row3_col6\" class=\"data row3 col6\" >0.49</td>\n",
       "                        <td id=\"T_1c1f9_row3_col7\" class=\"data row3 col7\" >0.38</td>\n",
       "                        <td id=\"T_1c1f9_row3_col8\" class=\"data row3 col8\" >0.38</td>\n",
       "                        <td id=\"T_1c1f9_row3_col9\" class=\"data row3 col9\" >1884</td>\n",
       "                        <td id=\"T_1c1f9_row3_col10\" class=\"data row3 col10\" >1</td>\n",
       "                        <td id=\"T_1c1f9_row3_col11\" class=\"data row3 col11\" >4948</td>\n",
       "                        <td id=\"T_1c1f9_row3_col12\" class=\"data row3 col12\" >331.66</td>\n",
       "                        <td id=\"T_1c1f9_row3_col13\" class=\"data row3 col13\" >1.00</td>\n",
       "                        <td id=\"T_1c1f9_row3_col14\" class=\"data row3 col14\" >0.92</td>\n",
       "                        <td id=\"T_1c1f9_row3_col15\" class=\"data row3 col15\" >0</td>\n",
       "            </tr>\n",
       "            <tr>\n",
       "                        <th id=\"T_1c1f9_level0_row4\" class=\"row_heading level0 row4\" >4</th>\n",
       "                        <td id=\"T_1c1f9_row4_col0\" class=\"data row4 col0\" >5</td>\n",
       "                        <td id=\"T_1c1f9_row4_col1\" class=\"data row4 col1\" >2021-12-09 20:16:26.641952</td>\n",
       "                        <td id=\"T_1c1f9_row4_col2\" class=\"data row4 col2\" >Quantity</td>\n",
       "                        <td id=\"T_1c1f9_row4_col3\" class=\"data row4 col3\" >LightFM</td>\n",
       "                        <td id=\"T_1c1f9_row4_col4\" class=\"data row4 col4\" >False</td>\n",
       "                        <td id=\"T_1c1f9_row4_col5\" class=\"data row4 col5\" >5</td>\n",
       "                        <td id=\"T_1c1f9_row4_col6\" class=\"data row4 col6\" >0.50</td>\n",
       "                        <td id=\"T_1c1f9_row4_col7\" class=\"data row4 col7\" >0.38</td>\n",
       "                        <td id=\"T_1c1f9_row4_col8\" class=\"data row4 col8\" >0.60</td>\n",
       "                        <td id=\"T_1c1f9_row4_col9\" class=\"data row4 col9\" >2973</td>\n",
       "                        <td id=\"T_1c1f9_row4_col10\" class=\"data row4 col10\" >1</td>\n",
       "                        <td id=\"T_1c1f9_row4_col11\" class=\"data row4 col11\" >4948</td>\n",
       "                        <td id=\"T_1c1f9_row4_col12\" class=\"data row4 col12\" >365.30</td>\n",
       "                        <td id=\"T_1c1f9_row4_col13\" class=\"data row4 col13\" >0.99</td>\n",
       "                        <td id=\"T_1c1f9_row4_col14\" class=\"data row4 col14\" >0.29</td>\n",
       "                        <td id=\"T_1c1f9_row4_col15\" class=\"data row4 col15\" >0</td>\n",
       "            </tr>\n",
       "            <tr>\n",
       "                        <th id=\"T_1c1f9_level0_row5\" class=\"row_heading level0 row5\" >5</th>\n",
       "                        <td id=\"T_1c1f9_row5_col0\" class=\"data row5 col0\" >38</td>\n",
       "                        <td id=\"T_1c1f9_row5_col1\" class=\"data row5 col1\" >2022-01-03 15:03:56.366762</td>\n",
       "                        <td id=\"T_1c1f9_row5_col2\" class=\"data row5 col2\" >Quantity</td>\n",
       "                        <td id=\"T_1c1f9_row5_col3\" class=\"data row5 col3\" >LightFM</td>\n",
       "                        <td id=\"T_1c1f9_row5_col4\" class=\"data row5 col4\" >False</td>\n",
       "                        <td id=\"T_1c1f9_row5_col5\" class=\"data row5 col5\" >5</td>\n",
       "                        <td id=\"T_1c1f9_row5_col6\" class=\"data row5 col6\" >0.49</td>\n",
       "                        <td id=\"T_1c1f9_row5_col7\" class=\"data row5 col7\" >0.38</td>\n",
       "                        <td id=\"T_1c1f9_row5_col8\" class=\"data row5 col8\" >0.48</td>\n",
       "                        <td id=\"T_1c1f9_row5_col9\" class=\"data row5 col9\" >2359</td>\n",
       "                        <td id=\"T_1c1f9_row5_col10\" class=\"data row5 col10\" >1</td>\n",
       "                        <td id=\"T_1c1f9_row5_col11\" class=\"data row5 col11\" >4948</td>\n",
       "                        <td id=\"T_1c1f9_row5_col12\" class=\"data row5 col12\" >344.49</td>\n",
       "                        <td id=\"T_1c1f9_row5_col13\" class=\"data row5 col13\" >0.99</td>\n",
       "                        <td id=\"T_1c1f9_row5_col14\" class=\"data row5 col14\" >0.88</td>\n",
       "                        <td id=\"T_1c1f9_row5_col15\" class=\"data row5 col15\" >0</td>\n",
       "            </tr>\n",
       "    </tbody></table>"
      ],
      "text/plain": [
       "<pandas.io.formats.style.Styler at 0x214959cf2b0>"
      ]
     },
     "execution_count": 101,
     "metadata": {},
     "output_type": "execute_result"
    }
   ],
   "source": [
    "#Evaluation Runs using Quantity data\n",
    "results_max=evaluation_log[(evaluation_log['Data']=='Quantity') & (evaluation_log['Leave_one_out']==False) & \n",
    "                            (evaluation_log['Algo']=='LightFM')].reset_index()\n",
    "results_max.style\\\n",
    " .format('{:.2f}',subset=['Precision@N','Recall@N','Hit_rate','Compute_time', 'Unique_TopN','Unique_Products'])\\\n",
    " .set_properties(**{'background-color': 'pink'}, subset=['Hit_rate'])                         "
   ]
  },
  {
   "cell_type": "code",
   "execution_count": 102,
   "metadata": {
    "cell_id": "00027-d9f01af1-dd43-45a6-971c-2de0384bde94",
    "deepnote_cell_type": "code",
    "deepnote_output_heights": [
     21.078125
    ],
    "deepnote_to_be_reexecuted": false,
    "execution_millis": 8,
    "execution_start": 1640603050215,
    "output_cleared": true,
    "source_hash": "c0935076",
    "tags": []
   },
   "outputs": [],
   "source": [
    "#find highest Hit Rate index\n",
    "hhr_index=results_max[(results_max['Hit_rate']==0.6) & (results_max['Data']=='Quantity')].index[0]"
   ]
  },
  {
   "cell_type": "code",
   "execution_count": 103,
   "metadata": {
    "cell_id": "00029-9547aa25-4a8d-46fc-b5e1-ef17e316a093",
    "deepnote_cell_type": "code",
    "deepnote_output_heights": [
     211.984375
    ],
    "deepnote_to_be_reexecuted": false,
    "execution_millis": 21,
    "execution_start": 1640603052386,
    "output_cleared": true,
    "source_hash": "2ba28f70",
    "tags": []
   },
   "outputs": [
    {
     "data": {
      "text/plain": [
       "Date                  2021-12-09 23:30:59.326916\n",
       "Data                                    Quantity\n",
       "Algo                                     LightFM\n",
       "Tunning                                    False\n",
       "Tunning_time                                   -\n",
       "Tuning_Samples                                 -\n",
       "Parameters        {'epochs': 30, 'loss': 'warp'}\n",
       "Tuning_Metric                                  -\n",
       "Tuning_score                                   -\n",
       "Leave_one_out                              False\n",
       "Name: 6, dtype: object"
      ]
     },
     "execution_count": 103,
     "metadata": {},
     "output_type": "execute_result"
    }
   ],
   "source": [
    "#Training Runs using Quantity data \n",
    "run_details=light_train.loc[(light_train['Data']=='Quantity')].loc[hhr_index+2]\n",
    "run_details"
   ]
  },
  {
   "cell_type": "code",
   "execution_count": 104,
   "metadata": {
    "cell_id": "00031-2b876ee2-851e-4e84-b318-d4358af082e4",
    "deepnote_cell_type": "code",
    "deepnote_output_heights": [
     21.078125
    ],
    "deepnote_to_be_reexecuted": false,
    "execution_millis": 2,
    "execution_start": 1640603067713,
    "output_cleared": true,
    "source_hash": "a3a1cfbf",
    "tags": []
   },
   "outputs": [
    {
     "data": {
      "text/plain": [
       "{'epochs': 30, 'loss': 'warp'}"
      ]
     },
     "execution_count": 104,
     "metadata": {},
     "output_type": "execute_result"
    }
   ],
   "source": [
    "run_details['Parameters']"
   ]
  },
  {
   "cell_type": "markdown",
   "metadata": {
    "cell_id": "00021-8d72198e-211f-49ca-8ae3-073a8ace8ed2",
    "deepnote_cell_type": "markdown",
    "tags": []
   },
   "source": [
    "##### Lowest Rate Run Details:"
   ]
  },
  {
   "cell_type": "code",
   "execution_count": 105,
   "metadata": {
    "cell_id": "00020-55fa7897-a664-4d53-a707-3054acf7152c",
    "deepnote_cell_type": "code",
    "deepnote_output_heights": [
     193.8125
    ],
    "deepnote_to_be_reexecuted": false,
    "execution_millis": 217,
    "execution_start": 1640598418291,
    "output_cleared": true,
    "source_hash": "4b270d9",
    "tags": []
   },
   "outputs": [
    {
     "data": {
      "text/html": [
       "<style  type=\"text/css\" >\n",
       "#T_02554_row0_col0,#T_02554_row0_col2,#T_02554_row0_col3,#T_02554_row1_col0,#T_02554_row3_col0,#T_02554_row3_col1,#T_02554_row3_col4{\n",
       "            background-color:  lightgreen;\n",
       "        }#T_02554_row0_col4,#T_02554_row1_col2,#T_02554_row2_col0,#T_02554_row2_col1,#T_02554_row2_col3{\n",
       "            background-color:  coral;\n",
       "        }</style><table id=\"T_02554_\" ><thead>    <tr>        <th class=\"blank level0\" ></th>        <th class=\"col_heading level0 col0\" >Precision@N</th>        <th class=\"col_heading level0 col1\" >Recall@N</th>        <th class=\"col_heading level0 col2\" >Hit_rate</th>        <th class=\"col_heading level0 col3\" >Unique_TopN</th>        <th class=\"col_heading level0 col4\" >Unique_Products</th>    </tr>    <tr>        <th class=\"blank level1\" ></th>        <th class=\"col_heading level1 col0\" >min</th>        <th class=\"col_heading level1 col1\" >min</th>        <th class=\"col_heading level1 col2\" >min</th>        <th class=\"col_heading level1 col3\" >min</th>        <th class=\"col_heading level1 col4\" >min</th>    </tr>    <tr>        <th class=\"index_name level0\" >Data</th>        <th class=\"blank\" ></th>        <th class=\"blank\" ></th>        <th class=\"blank\" ></th>        <th class=\"blank\" ></th>        <th class=\"blank\" ></th>    </tr></thead><tbody>\n",
       "                <tr>\n",
       "                        <th id=\"T_02554_level0_row0\" class=\"row_heading level0 row0\" >Frequency1</th>\n",
       "                        <td id=\"T_02554_row0_col0\" class=\"data row0 col0\" >0.50</td>\n",
       "                        <td id=\"T_02554_row0_col1\" class=\"data row0 col1\" >0.38</td>\n",
       "                        <td id=\"T_02554_row0_col2\" class=\"data row0 col2\" >0.48</td>\n",
       "                        <td id=\"T_02554_row0_col3\" class=\"data row0 col3\" >1.00</td>\n",
       "                        <td id=\"T_02554_row0_col4\" class=\"data row0 col4\" >0.28</td>\n",
       "            </tr>\n",
       "            <tr>\n",
       "                        <th id=\"T_02554_level0_row1\" class=\"row_heading level0 row1\" >Frequency2</th>\n",
       "                        <td id=\"T_02554_row1_col0\" class=\"data row1 col0\" >0.50</td>\n",
       "                        <td id=\"T_02554_row1_col1\" class=\"data row1 col1\" >0.38</td>\n",
       "                        <td id=\"T_02554_row1_col2\" class=\"data row1 col2\" >0.25</td>\n",
       "                        <td id=\"T_02554_row1_col3\" class=\"data row1 col3\" >1.00</td>\n",
       "                        <td id=\"T_02554_row1_col4\" class=\"data row1 col4\" >0.29</td>\n",
       "            </tr>\n",
       "            <tr>\n",
       "                        <th id=\"T_02554_level0_row2\" class=\"row_heading level0 row2\" >Quantity</th>\n",
       "                        <td id=\"T_02554_row2_col0\" class=\"data row2 col0\" >0.48</td>\n",
       "                        <td id=\"T_02554_row2_col1\" class=\"data row2 col1\" >0.37</td>\n",
       "                        <td id=\"T_02554_row2_col2\" class=\"data row2 col2\" >0.38</td>\n",
       "                        <td id=\"T_02554_row2_col3\" class=\"data row2 col3\" >0.99</td>\n",
       "                        <td id=\"T_02554_row2_col4\" class=\"data row2 col4\" >0.29</td>\n",
       "            </tr>\n",
       "            <tr>\n",
       "                        <th id=\"T_02554_level0_row3\" class=\"row_heading level0 row3\" >new_Frequency1</th>\n",
       "                        <td id=\"T_02554_row3_col0\" class=\"data row3 col0\" >0.50</td>\n",
       "                        <td id=\"T_02554_row3_col1\" class=\"data row3 col1\" >0.39</td>\n",
       "                        <td id=\"T_02554_row3_col2\" class=\"data row3 col2\" >0.46</td>\n",
       "                        <td id=\"T_02554_row3_col3\" class=\"data row3 col3\" >0.99</td>\n",
       "                        <td id=\"T_02554_row3_col4\" class=\"data row3 col4\" >0.84</td>\n",
       "            </tr>\n",
       "    </tbody></table>"
      ],
      "text/plain": [
       "<pandas.io.formats.style.Styler at 0x214959cf280>"
      ]
     },
     "execution_count": 105,
     "metadata": {},
     "output_type": "execute_result"
    }
   ],
   "source": [
    "#worst LightFM run\n",
    "data_min=data_max_min[data_max_min.columns[:][[0,2,4,6,8]]].style\\\n",
    "      .format('{:.2f}')\\\n",
    "      .highlight_max(color = 'lightgreen')\\\n",
    "      .highlight_min(color = 'coral')\\\n",
    "      .highlight_null(null_color='yellow')\n",
    "data_min\n",
    "\n",
    "#Most important rate is hit rate so accorging to following table results, the weakest rate was: 0,25(25%) which uses Frequency2\n",
    "#as rating column.\n"
   ]
  },
  {
   "cell_type": "code",
   "execution_count": 106,
   "metadata": {
    "cell_id": "00021-740dbc44-b97c-4dd6-974b-f4561a3b6ca9",
    "deepnote_cell_type": "code",
    "deepnote_to_be_reexecuted": false,
    "execution_millis": 340,
    "execution_start": 1640604264541,
    "output_cleared": true,
    "source_hash": "4d90cb70",
    "tags": []
   },
   "outputs": [
    {
     "data": {
      "text/html": [
       "<style  type=\"text/css\" >\n",
       "#T_a4fdb_row0_col8,#T_a4fdb_row1_col8,#T_a4fdb_row2_col8{\n",
       "            background-color:  pink;\n",
       "        }</style><table id=\"T_a4fdb_\" ><thead>    <tr>        <th class=\"blank level0\" ></th>        <th class=\"col_heading level0 col0\" >index</th>        <th class=\"col_heading level0 col1\" >Date</th>        <th class=\"col_heading level0 col2\" >Data</th>        <th class=\"col_heading level0 col3\" >Algo</th>        <th class=\"col_heading level0 col4\" >Leave_one_out</th>        <th class=\"col_heading level0 col5\" >N</th>        <th class=\"col_heading level0 col6\" >Precision@N</th>        <th class=\"col_heading level0 col7\" >Recall@N</th>        <th class=\"col_heading level0 col8\" >Hit_rate</th>        <th class=\"col_heading level0 col9\" >Hits</th>        <th class=\"col_heading level0 col10\" >Hit_threshold</th>        <th class=\"col_heading level0 col11\" >Count_customers</th>        <th class=\"col_heading level0 col12\" >Compute_time</th>        <th class=\"col_heading level0 col13\" >Unique_TopN</th>        <th class=\"col_heading level0 col14\" >Unique_Products</th>        <th class=\"col_heading level0 col15\" >LOO_Rate</th>    </tr></thead><tbody>\n",
       "                <tr>\n",
       "                        <th id=\"T_a4fdb_level0_row0\" class=\"row_heading level0 row0\" >0</th>\n",
       "                        <td id=\"T_a4fdb_row0_col0\" class=\"data row0 col0\" >13</td>\n",
       "                        <td id=\"T_a4fdb_row0_col1\" class=\"data row0 col1\" >2021-12-10 00:35:53.165678</td>\n",
       "                        <td id=\"T_a4fdb_row0_col2\" class=\"data row0 col2\" >Frequency2</td>\n",
       "                        <td id=\"T_a4fdb_row0_col3\" class=\"data row0 col3\" >LightFM</td>\n",
       "                        <td id=\"T_a4fdb_row0_col4\" class=\"data row0 col4\" >False</td>\n",
       "                        <td id=\"T_a4fdb_row0_col5\" class=\"data row0 col5\" >5</td>\n",
       "                        <td id=\"T_a4fdb_row0_col6\" class=\"data row0 col6\" >0.50</td>\n",
       "                        <td id=\"T_a4fdb_row0_col7\" class=\"data row0 col7\" >0.38</td>\n",
       "                        <td id=\"T_a4fdb_row0_col8\" class=\"data row0 col8\" >0.60</td>\n",
       "                        <td id=\"T_a4fdb_row0_col9\" class=\"data row0 col9\" >2990</td>\n",
       "                        <td id=\"T_a4fdb_row0_col10\" class=\"data row0 col10\" >1</td>\n",
       "                        <td id=\"T_a4fdb_row0_col11\" class=\"data row0 col11\" >4948</td>\n",
       "                        <td id=\"T_a4fdb_row0_col12\" class=\"data row0 col12\" >482.18</td>\n",
       "                        <td id=\"T_a4fdb_row0_col13\" class=\"data row0 col13\" >1.00</td>\n",
       "                        <td id=\"T_a4fdb_row0_col14\" class=\"data row0 col14\" >0.29</td>\n",
       "                        <td id=\"T_a4fdb_row0_col15\" class=\"data row0 col15\" >0</td>\n",
       "            </tr>\n",
       "            <tr>\n",
       "                        <th id=\"T_a4fdb_level0_row1\" class=\"row_heading level0 row1\" >1</th>\n",
       "                        <td id=\"T_a4fdb_row1_col0\" class=\"data row1 col0\" >14</td>\n",
       "                        <td id=\"T_a4fdb_row1_col1\" class=\"data row1 col1\" >2021-12-10 01:00:08.886689</td>\n",
       "                        <td id=\"T_a4fdb_row1_col2\" class=\"data row1 col2\" >Frequency2</td>\n",
       "                        <td id=\"T_a4fdb_row1_col3\" class=\"data row1 col3\" >LightFM</td>\n",
       "                        <td id=\"T_a4fdb_row1_col4\" class=\"data row1 col4\" >False</td>\n",
       "                        <td id=\"T_a4fdb_row1_col5\" class=\"data row1 col5\" >5</td>\n",
       "                        <td id=\"T_a4fdb_row1_col6\" class=\"data row1 col6\" >0.53</td>\n",
       "                        <td id=\"T_a4fdb_row1_col7\" class=\"data row1 col7\" >0.41</td>\n",
       "                        <td id=\"T_a4fdb_row1_col8\" class=\"data row1 col8\" >0.25</td>\n",
       "                        <td id=\"T_a4fdb_row1_col9\" class=\"data row1 col9\" >1256</td>\n",
       "                        <td id=\"T_a4fdb_row1_col10\" class=\"data row1 col10\" >1</td>\n",
       "                        <td id=\"T_a4fdb_row1_col11\" class=\"data row1 col11\" >4948</td>\n",
       "                        <td id=\"T_a4fdb_row1_col12\" class=\"data row1 col12\" >534.19</td>\n",
       "                        <td id=\"T_a4fdb_row1_col13\" class=\"data row1 col13\" >1.00</td>\n",
       "                        <td id=\"T_a4fdb_row1_col14\" class=\"data row1 col14\" >0.62</td>\n",
       "                        <td id=\"T_a4fdb_row1_col15\" class=\"data row1 col15\" >0</td>\n",
       "            </tr>\n",
       "            <tr>\n",
       "                        <th id=\"T_a4fdb_level0_row2\" class=\"row_heading level0 row2\" >2</th>\n",
       "                        <td id=\"T_a4fdb_row2_col0\" class=\"data row2 col0\" >18</td>\n",
       "                        <td id=\"T_a4fdb_row2_col1\" class=\"data row2 col1\" >2021-12-10 10:40:13.579634</td>\n",
       "                        <td id=\"T_a4fdb_row2_col2\" class=\"data row2 col2\" >Frequency2</td>\n",
       "                        <td id=\"T_a4fdb_row2_col3\" class=\"data row2 col3\" >LightFM</td>\n",
       "                        <td id=\"T_a4fdb_row2_col4\" class=\"data row2 col4\" >False</td>\n",
       "                        <td id=\"T_a4fdb_row2_col5\" class=\"data row2 col5\" >5</td>\n",
       "                        <td id=\"T_a4fdb_row2_col6\" class=\"data row2 col6\" >0.51</td>\n",
       "                        <td id=\"T_a4fdb_row2_col7\" class=\"data row2 col7\" >0.39</td>\n",
       "                        <td id=\"T_a4fdb_row2_col8\" class=\"data row2 col8\" >0.53</td>\n",
       "                        <td id=\"T_a4fdb_row2_col9\" class=\"data row2 col9\" >2608</td>\n",
       "                        <td id=\"T_a4fdb_row2_col10\" class=\"data row2 col10\" >1</td>\n",
       "                        <td id=\"T_a4fdb_row2_col11\" class=\"data row2 col11\" >4948</td>\n",
       "                        <td id=\"T_a4fdb_row2_col12\" class=\"data row2 col12\" >347.12</td>\n",
       "                        <td id=\"T_a4fdb_row2_col13\" class=\"data row2 col13\" >1.00</td>\n",
       "                        <td id=\"T_a4fdb_row2_col14\" class=\"data row2 col14\" >0.76</td>\n",
       "                        <td id=\"T_a4fdb_row2_col15\" class=\"data row2 col15\" >0</td>\n",
       "            </tr>\n",
       "    </tbody></table>"
      ],
      "text/plain": [
       "<pandas.io.formats.style.Styler at 0x21495aa24f0>"
      ]
     },
     "execution_count": 106,
     "metadata": {},
     "output_type": "execute_result"
    }
   ],
   "source": [
    "#Evaluation Runs using Quantity data\n",
    "results_min=evaluation_log[(evaluation_log['Data']=='Frequency2') & (evaluation_log['Leave_one_out']==False) & \n",
    "                            (evaluation_log['Algo']=='LightFM')].reset_index()\n",
    "results_min.style\\\n",
    " .format('{:.2f}',subset=['Precision@N','Recall@N','Hit_rate','Compute_time', 'Unique_TopN','Unique_Products'])\\\n",
    " .set_properties(**{'background-color': 'pink'}, subset=['Hit_rate'])"
   ]
  },
  {
   "cell_type": "code",
   "execution_count": 107,
   "metadata": {
    "cell_id": "00035-56cf8ff2-7f38-4ea1-ac0f-4875449f1c57",
    "deepnote_cell_type": "code",
    "deepnote_output_heights": [
     21.078125
    ],
    "deepnote_to_be_reexecuted": false,
    "execution_millis": 12,
    "execution_start": 1640604285455,
    "output_cleared": true,
    "source_hash": "f62896c3",
    "tags": []
   },
   "outputs": [],
   "source": [
    "#Find lowest Hit Rate index\n",
    "hhr_index=results_min[(results_min['Hit_rate']==0.25) & (results_min['Data']=='Frequency2')].index[0]\n"
   ]
  },
  {
   "cell_type": "code",
   "execution_count": 108,
   "metadata": {
    "cell_id": "00036-8f55da94-d093-44dc-9cb7-de7a4c75dbf3",
    "deepnote_cell_type": "code",
    "deepnote_output_heights": [
     231.078125
    ],
    "deepnote_to_be_reexecuted": false,
    "execution_millis": 17,
    "execution_start": 1640604496611,
    "output_cleared": true,
    "source_hash": "f27f86f2",
    "tags": []
   },
   "outputs": [
    {
     "data": {
      "text/plain": [
       "index                                                            10\n",
       "Date                                     2021-12-10 01:00:08.758762\n",
       "Data                                                     Frequency2\n",
       "Algo                                                        LightFM\n",
       "Tunning                                                        True\n",
       "Tunning_time                                                 490.19\n",
       "Tuning_Samples                                                   12\n",
       "Parameters        {'no_components': 54, 'learning_schedule': 'ad...\n",
       "Tuning_Metric                                             Precision\n",
       "Tuning_score                                                   0.53\n",
       "Leave_one_out                                                 False\n",
       "Name: 1, dtype: object"
      ]
     },
     "execution_count": 108,
     "metadata": {},
     "output_type": "execute_result"
    }
   ],
   "source": [
    "#Training Runs using Frequency2 data \n",
    "run_details=light_train.loc[(light_train['Data']=='Frequency2')].reset_index().loc[hhr_index]\n",
    "run_details"
   ]
  },
  {
   "cell_type": "code",
   "execution_count": 109,
   "metadata": {
    "cell_id": "00036-71d0accf-0fa1-434e-ab7f-bd472cb5c8dc",
    "deepnote_cell_type": "code",
    "deepnote_output_heights": [
     154.71875
    ],
    "deepnote_to_be_reexecuted": false,
    "execution_millis": 9,
    "execution_start": 1640604503682,
    "output_cleared": true,
    "source_hash": "bf01fdaa",
    "tags": []
   },
   "outputs": [
    {
     "data": {
      "text/plain": [
       "{'no_components': 54,\n",
       " 'learning_schedule': 'adadelta',\n",
       " 'loss': 'bpr',\n",
       " 'learning_rate': 0.10191660788999382,\n",
       " 'item_alpha': 2.7764289102227284e-08,\n",
       " 'user_alpha': 1.7419439847715242e-08,\n",
       " 'max_sampled': 12,\n",
       " 'num_epochs': 43}"
      ]
     },
     "execution_count": 109,
     "metadata": {},
     "output_type": "execute_result"
    }
   ],
   "source": [
    "run_details['Parameters']"
   ]
  },
  {
   "cell_type": "markdown",
   "metadata": {
    "cell_id": "00021-187a08c8-33fc-4b6c-b052-de2a82c9997e",
    "deepnote_cell_type": "markdown",
    "deepnote_to_be_reexecuted": false,
    "execution_millis": 261,
    "execution_start": 1640596177557,
    "output_cleared": true,
    "source_hash": "c759f441",
    "tags": []
   },
   "source": [
    "***\n",
    "Frequency2 values are concentrated around (0,1)* , it is clear that **bpr** loss function was not the best choice out of : wrap, wrap_kos, bpr.\n",
    "\n",
    "* BPR: Bayesian Personalised Ranking pairwise loss. Maximises the prediction difference between a positive example and a randomly chosen negative example.  Useful when only positive interactions are present and optimising ROC AUC is desired.\n",
    "\n",
    "* WARP: Weighted Approximate-Rank Pairwise loss. Maximises the rank of positive examples by repeatedly sampling negative examples until rank violating one is found. Useful when only positive interactions are present and optimising the top of the recommendation list (precision@k) is desired.\n",
    "\n",
    "* k-OS WARP: k-th order statistic loss. A modification of WARP that uses the k-th positive example for any given user as a basis for pairwise updates.\n",
    "\n",
    "**for more details about the rating columns look into Data_Preprocessing.ipynb*\n",
    "***"
   ]
  },
  {
   "cell_type": "markdown",
   "metadata": {
    "cell_id": "00021-3c363fe2-fafd-4c15-bdb7-d028d40d5e3f",
    "deepnote_cell_type": "markdown",
    "tags": []
   },
   "source": [
    "### Surprise Evaluation\n",
    "*(Leave One Out results not icluded*)"
   ]
  },
  {
   "cell_type": "markdown",
   "metadata": {
    "cell_id": "00040-6b794c1a-d1e5-4d44-b21c-6672214ae1ca",
    "deepnote_cell_type": "markdown",
    "tags": []
   },
   "source": [
    " ***\n",
    "Surprise is a mainstream Python library used for simple recommendation collaborative system implementations.\n",
    "It supports a plethora of algorithms from **KNN neighbor models, matrix factorization techniques to simple algorithms like BaselineOnly**.\n",
    "What makes Surprise stand out from other recommender system libraries is the different models and straightforward building it has, which is based on Scikit-Learn. Although it did not produce the most promising results it is the best choice when it comes to new-comers to learn the basics not only from a theoretical point of view but to also comprehend each step of the execution process.\n",
    "\n",
    "In detail Surprise supports the following algorithms:\n",
    "* Normal Predictor\n",
    "* Baseline Only\n",
    "* KNN Basic\n",
    "* KNN With Z-Score\n",
    "* KNN With Means\n",
    "* KNN Baseline \n",
    "* SVD\n",
    "* SVDpp\n",
    "* NMF\n",
    "* Slope One\n",
    "* Co Clusterng\n",
    "***"
   ]
  },
  {
   "cell_type": "code",
   "execution_count": 110,
   "metadata": {
    "cell_id": "00041-c5a3893f-1085-4f2e-8665-50fe8f71a4c0",
    "deepnote_cell_type": "code",
    "deepnote_output_heights": [
     589.59375
    ],
    "deepnote_to_be_reexecuted": false,
    "execution_millis": 108,
    "execution_start": 1640610748920,
    "output_cleared": true,
    "source_hash": "6c74c1f",
    "tags": []
   },
   "outputs": [
    {
     "data": {
      "text/html": [
       "<style  type=\"text/css\" >\n",
       "    #T_034fc_ th {\n",
       "          font-size: 11px;\n",
       "          text-align: center;\n",
       "          font-weight: bold;\n",
       "          color: #6d6d6d;\n",
       "          background-color: #f7f7f9;\n",
       "    }    #T_034fc_ td {\n",
       "          font-size: 11px;\n",
       "    }#T_034fc_row0_col6,#T_034fc_row0_col7,#T_034fc_row0_col8,#T_034fc_row8_col14,#T_034fc_row17_col13{\n",
       "            background-color:  #008000;\n",
       "            color:  #f1f1f1;\n",
       "            background-color:  orange;\n",
       "        }#T_034fc_row0_col13{\n",
       "            background-color:  #d2e7d2;\n",
       "            color:  #000000;\n",
       "        }#T_034fc_row0_col14{\n",
       "            background-color:  #e0eedf;\n",
       "            color:  #000000;\n",
       "        }#T_034fc_row1_col6{\n",
       "            background-color:  #1a8d1a;\n",
       "            color:  #000000;\n",
       "        }#T_034fc_row1_col7{\n",
       "            background-color:  #2f972f;\n",
       "            color:  #000000;\n",
       "        }#T_034fc_row1_col8{\n",
       "            background-color:  #269226;\n",
       "            color:  #000000;\n",
       "        }#T_034fc_row1_col13{\n",
       "            background-color:  #b0d6b0;\n",
       "            color:  #000000;\n",
       "        }#T_034fc_row1_col14,#T_034fc_row14_col14{\n",
       "            background-color:  #e5f0e5;\n",
       "            color:  #000000;\n",
       "        }#T_034fc_row2_col6,#T_034fc_row3_col6,#T_034fc_row4_col6,#T_034fc_row5_col6,#T_034fc_row6_col6,#T_034fc_row7_col6{\n",
       "            background-color:  #68b368;\n",
       "            color:  #000000;\n",
       "        }#T_034fc_row2_col7{\n",
       "            background-color:  #5eae5e;\n",
       "            color:  #000000;\n",
       "        }#T_034fc_row2_col8{\n",
       "            background-color:  #58ab58;\n",
       "            color:  #000000;\n",
       "        }#T_034fc_row2_col13{\n",
       "            background-color:  #028102;\n",
       "            color:  #f1f1f1;\n",
       "        }#T_034fc_row2_col14{\n",
       "            background-color:  #5bad5b;\n",
       "            color:  #000000;\n",
       "        }#T_034fc_row3_col7,#T_034fc_row4_col7,#T_034fc_row5_col7,#T_034fc_row6_col7,#T_034fc_row7_col7,#T_034fc_row8_col7,#T_034fc_row9_col7{\n",
       "            background-color:  #6db66d;\n",
       "            color:  #000000;\n",
       "        }#T_034fc_row3_col8{\n",
       "            background-color:  #5fae5f;\n",
       "            color:  #000000;\n",
       "        }#T_034fc_row3_col13,#T_034fc_row16_col13{\n",
       "            background-color:  #068306;\n",
       "            color:  #f1f1f1;\n",
       "        }#T_034fc_row3_col14,#T_034fc_row12_col14{\n",
       "            background-color:  #c3e0c3;\n",
       "            color:  #000000;\n",
       "        }#T_034fc_row4_col8,#T_034fc_row5_col8,#T_034fc_row6_col8,#T_034fc_row7_col8{\n",
       "            background-color:  #65b265;\n",
       "            color:  #000000;\n",
       "        }#T_034fc_row4_col13,#T_034fc_row7_col13{\n",
       "            background-color:  #e9f2e9;\n",
       "            color:  #000000;\n",
       "        }#T_034fc_row4_col14,#T_034fc_row5_col14,#T_034fc_row7_col14,#T_034fc_row10_col13,#T_034fc_row10_col14,#T_034fc_row11_col14,#T_034fc_row19_col6,#T_034fc_row19_col7,#T_034fc_row19_col8{\n",
       "            background-color:  #ebf3eb;\n",
       "            color:  #000000;\n",
       "        }#T_034fc_row5_col13{\n",
       "            background-color:  #e8f2e8;\n",
       "            color:  #000000;\n",
       "        }#T_034fc_row6_col13{\n",
       "            background-color:  #138913;\n",
       "            color:  #f1f1f1;\n",
       "        }#T_034fc_row6_col14{\n",
       "            background-color:  #2d962d;\n",
       "            color:  #000000;\n",
       "        }#T_034fc_row8_col6,#T_034fc_row9_col6,#T_034fc_row10_col6{\n",
       "            background-color:  #83c083;\n",
       "            color:  #000000;\n",
       "        }#T_034fc_row8_col8,#T_034fc_row9_col8{\n",
       "            background-color:  #6cb56c;\n",
       "            color:  #000000;\n",
       "        }#T_034fc_row8_col13{\n",
       "            background-color:  #48a348;\n",
       "            color:  #000000;\n",
       "        }#T_034fc_row9_col13{\n",
       "            background-color:  #d6e9d6;\n",
       "            color:  #000000;\n",
       "        }#T_034fc_row9_col14{\n",
       "            background-color:  #cee5ce;\n",
       "            color:  #000000;\n",
       "        }#T_034fc_row10_col7{\n",
       "            background-color:  #7dbd7d;\n",
       "            color:  #000000;\n",
       "        }#T_034fc_row10_col8,#T_034fc_row19_col13{\n",
       "            background-color:  #78bb78;\n",
       "            color:  #000000;\n",
       "        }#T_034fc_row11_col6,#T_034fc_row12_col6,#T_034fc_row12_col7,#T_034fc_row13_col7,#T_034fc_row14_col7{\n",
       "            background-color:  #9ccd9c;\n",
       "            color:  #000000;\n",
       "        }#T_034fc_row11_col7{\n",
       "            background-color:  #8dc58d;\n",
       "            color:  #000000;\n",
       "        }#T_034fc_row11_col8{\n",
       "            background-color:  #8cc58c;\n",
       "            color:  #000000;\n",
       "        }#T_034fc_row11_col13{\n",
       "            background-color:  #eaf2ea;\n",
       "            color:  #000000;\n",
       "        }#T_034fc_row12_col8{\n",
       "            background-color:  #92c892;\n",
       "            color:  #000000;\n",
       "        }#T_034fc_row12_col13{\n",
       "            background-color:  #85c185;\n",
       "            color:  #000000;\n",
       "        }#T_034fc_row13_col6,#T_034fc_row14_col6,#T_034fc_row15_col6,#T_034fc_row16_col6,#T_034fc_row17_col6{\n",
       "            background-color:  #b7dab7;\n",
       "            color:  #000000;\n",
       "        }#T_034fc_row13_col8,#T_034fc_row14_col8{\n",
       "            background-color:  #9ece9e;\n",
       "            color:  #000000;\n",
       "        }#T_034fc_row13_col13{\n",
       "            background-color:  #a0cea0;\n",
       "            color:  #000000;\n",
       "        }#T_034fc_row13_col14{\n",
       "            background-color:  #d4e8d4;\n",
       "            color:  #000000;\n",
       "        }#T_034fc_row14_col13{\n",
       "            background-color:  #cfe5cf;\n",
       "            color:  #000000;\n",
       "        }#T_034fc_row15_col7,#T_034fc_row16_col7,#T_034fc_row17_col7{\n",
       "            background-color:  #acd4ac;\n",
       "            color:  #000000;\n",
       "        }#T_034fc_row15_col8{\n",
       "            background-color:  #a5d1a5;\n",
       "            color:  #000000;\n",
       "        }#T_034fc_row15_col13{\n",
       "            background-color:  #008000;\n",
       "            color:  #f1f1f1;\n",
       "        }#T_034fc_row15_col14,#T_034fc_row18_col14{\n",
       "            background-color:  #72b872;\n",
       "            color:  #000000;\n",
       "        }#T_034fc_row16_col8{\n",
       "            background-color:  #abd4ab;\n",
       "            color:  #000000;\n",
       "        }#T_034fc_row16_col14{\n",
       "            background-color:  #61b061;\n",
       "            color:  #000000;\n",
       "        }#T_034fc_row17_col8{\n",
       "            background-color:  #b2d7b1;\n",
       "            color:  #000000;\n",
       "        }#T_034fc_row17_col14{\n",
       "            background-color:  #56aa56;\n",
       "            color:  #000000;\n",
       "        }#T_034fc_row18_col6{\n",
       "            background-color:  #d1e6d1;\n",
       "            color:  #000000;\n",
       "        }#T_034fc_row18_col7{\n",
       "            background-color:  #bcdcbc;\n",
       "            color:  #000000;\n",
       "        }#T_034fc_row18_col8{\n",
       "            background-color:  #b8dab8;\n",
       "            color:  #000000;\n",
       "        }#T_034fc_row18_col13{\n",
       "            background-color:  #018001;\n",
       "            color:  #f1f1f1;\n",
       "        }#T_034fc_row19_col14{\n",
       "            background-color:  #c9e2c8;\n",
       "            color:  #000000;\n",
       "        }</style><table id=\"T_034fc_\" ><caption>Surprise Results</caption><thead>    <tr>        <th class=\"blank level0\" ></th>        <th class=\"col_heading level0 col0\" >index</th>        <th class=\"col_heading level0 col1\" >Date</th>        <th class=\"col_heading level0 col2\" >Data</th>        <th class=\"col_heading level0 col3\" >Algo</th>        <th class=\"col_heading level0 col4\" >Leave_one_out</th>        <th class=\"col_heading level0 col5\" >N</th>        <th class=\"col_heading level0 col6\" >Precision@N</th>        <th class=\"col_heading level0 col7\" >Recall@N</th>        <th class=\"col_heading level0 col8\" >Hit_rate</th>        <th class=\"col_heading level0 col9\" >Hits</th>        <th class=\"col_heading level0 col10\" >Hit_threshold</th>        <th class=\"col_heading level0 col11\" >Count_customers</th>        <th class=\"col_heading level0 col12\" >Compute_time</th>        <th class=\"col_heading level0 col13\" >Unique_TopN</th>        <th class=\"col_heading level0 col14\" >Unique_Products</th>        <th class=\"col_heading level0 col15\" >LOO_Rate</th>    </tr></thead><tbody>\n",
       "                <tr>\n",
       "                        <th id=\"T_034fc_level0_row0\" class=\"row_heading level0 row0\" >0</th>\n",
       "                        <td id=\"T_034fc_row0_col0\" class=\"data row0 col0\" >8</td>\n",
       "                        <td id=\"T_034fc_row0_col1\" class=\"data row0 col1\" >2021-12-09 23:10:18.561622</td>\n",
       "                        <td id=\"T_034fc_row0_col2\" class=\"data row0 col2\" >Quantity</td>\n",
       "                        <td id=\"T_034fc_row0_col3\" class=\"data row0 col3\" >SVD</td>\n",
       "                        <td id=\"T_034fc_row0_col4\" class=\"data row0 col4\" >False</td>\n",
       "                        <td id=\"T_034fc_row0_col5\" class=\"data row0 col5\" >5</td>\n",
       "                        <td id=\"T_034fc_row0_col6\" class=\"data row0 col6\" >0.11</td>\n",
       "                        <td id=\"T_034fc_row0_col7\" class=\"data row0 col7\" >0.17</td>\n",
       "                        <td id=\"T_034fc_row0_col8\" class=\"data row0 col8\" >0.45</td>\n",
       "                        <td id=\"T_034fc_row0_col9\" class=\"data row0 col9\" >2210</td>\n",
       "                        <td id=\"T_034fc_row0_col10\" class=\"data row0 col10\" >1</td>\n",
       "                        <td id=\"T_034fc_row0_col11\" class=\"data row0 col11\" >4948</td>\n",
       "                        <td id=\"T_034fc_row0_col12\" class=\"data row0 col12\" >3.6e+02</td>\n",
       "                        <td id=\"T_034fc_row0_col13\" class=\"data row0 col13\" >0.12</td>\n",
       "                        <td id=\"T_034fc_row0_col14\" class=\"data row0 col14\" >0.06</td>\n",
       "                        <td id=\"T_034fc_row0_col15\" class=\"data row0 col15\" >0</td>\n",
       "            </tr>\n",
       "            <tr>\n",
       "                        <th id=\"T_034fc_level0_row1\" class=\"row_heading level0 row1\" >1</th>\n",
       "                        <td id=\"T_034fc_row1_col0\" class=\"data row1 col0\" >9</td>\n",
       "                        <td id=\"T_034fc_row1_col1\" class=\"data row1 col1\" >2021-12-09 23:31:41.798261</td>\n",
       "                        <td id=\"T_034fc_row1_col2\" class=\"data row1 col2\" >Quantity</td>\n",
       "                        <td id=\"T_034fc_row1_col3\" class=\"data row1 col3\" >SVDpp</td>\n",
       "                        <td id=\"T_034fc_row1_col4\" class=\"data row1 col4\" >False</td>\n",
       "                        <td id=\"T_034fc_row1_col5\" class=\"data row1 col5\" >5</td>\n",
       "                        <td id=\"T_034fc_row1_col6\" class=\"data row1 col6\" >0.1</td>\n",
       "                        <td id=\"T_034fc_row1_col7\" class=\"data row1 col7\" >0.14</td>\n",
       "                        <td id=\"T_034fc_row1_col8\" class=\"data row1 col8\" >0.39</td>\n",
       "                        <td id=\"T_034fc_row1_col9\" class=\"data row1 col9\" >1935</td>\n",
       "                        <td id=\"T_034fc_row1_col10\" class=\"data row1 col10\" >1</td>\n",
       "                        <td id=\"T_034fc_row1_col11\" class=\"data row1 col11\" >4948</td>\n",
       "                        <td id=\"T_034fc_row1_col12\" class=\"data row1 col12\" >4.1e+02</td>\n",
       "                        <td id=\"T_034fc_row1_col13\" class=\"data row1 col13\" >0.26</td>\n",
       "                        <td id=\"T_034fc_row1_col14\" class=\"data row1 col14\" >0.05</td>\n",
       "                        <td id=\"T_034fc_row1_col15\" class=\"data row1 col15\" >0</td>\n",
       "            </tr>\n",
       "            <tr>\n",
       "                        <th id=\"T_034fc_level0_row2\" class=\"row_heading level0 row2\" >2</th>\n",
       "                        <td id=\"T_034fc_row2_col0\" class=\"data row2 col0\" >27</td>\n",
       "                        <td id=\"T_034fc_row2_col1\" class=\"data row2 col1\" >2021-12-11 18:41:31.683068</td>\n",
       "                        <td id=\"T_034fc_row2_col2\" class=\"data row2 col2\" >Frequency1</td>\n",
       "                        <td id=\"T_034fc_row2_col3\" class=\"data row2 col3\" >KNNBasic</td>\n",
       "                        <td id=\"T_034fc_row2_col4\" class=\"data row2 col4\" >False</td>\n",
       "                        <td id=\"T_034fc_row2_col5\" class=\"data row2 col5\" >5</td>\n",
       "                        <td id=\"T_034fc_row2_col6\" class=\"data row2 col6\" >0.07</td>\n",
       "                        <td id=\"T_034fc_row2_col7\" class=\"data row2 col7\" >0.11</td>\n",
       "                        <td id=\"T_034fc_row2_col8\" class=\"data row2 col8\" >0.31</td>\n",
       "                        <td id=\"T_034fc_row2_col9\" class=\"data row2 col9\" >1530</td>\n",
       "                        <td id=\"T_034fc_row2_col10\" class=\"data row2 col10\" >1</td>\n",
       "                        <td id=\"T_034fc_row2_col11\" class=\"data row2 col11\" >4948</td>\n",
       "                        <td id=\"T_034fc_row2_col12\" class=\"data row2 col12\" >3.7e+02</td>\n",
       "                        <td id=\"T_034fc_row2_col13\" class=\"data row2 col13\" >0.97</td>\n",
       "                        <td id=\"T_034fc_row2_col14\" class=\"data row2 col14\" >0.29</td>\n",
       "                        <td id=\"T_034fc_row2_col15\" class=\"data row2 col15\" >0</td>\n",
       "            </tr>\n",
       "            <tr>\n",
       "                        <th id=\"T_034fc_level0_row3\" class=\"row_heading level0 row3\" >3</th>\n",
       "                        <td id=\"T_034fc_row3_col0\" class=\"data row3 col0\" >24</td>\n",
       "                        <td id=\"T_034fc_row3_col1\" class=\"data row3 col1\" >2021-12-10 17:14:14.326315</td>\n",
       "                        <td id=\"T_034fc_row3_col2\" class=\"data row3 col2\" >new_Frequency1</td>\n",
       "                        <td id=\"T_034fc_row3_col3\" class=\"data row3 col3\" >KNNBasic</td>\n",
       "                        <td id=\"T_034fc_row3_col4\" class=\"data row3 col4\" >False</td>\n",
       "                        <td id=\"T_034fc_row3_col5\" class=\"data row3 col5\" >5</td>\n",
       "                        <td id=\"T_034fc_row3_col6\" class=\"data row3 col6\" >0.07</td>\n",
       "                        <td id=\"T_034fc_row3_col7\" class=\"data row3 col7\" >0.1</td>\n",
       "                        <td id=\"T_034fc_row3_col8\" class=\"data row3 col8\" >0.3</td>\n",
       "                        <td id=\"T_034fc_row3_col9\" class=\"data row3 col9\" >1473</td>\n",
       "                        <td id=\"T_034fc_row3_col10\" class=\"data row3 col10\" >1</td>\n",
       "                        <td id=\"T_034fc_row3_col11\" class=\"data row3 col11\" >4948</td>\n",
       "                        <td id=\"T_034fc_row3_col12\" class=\"data row3 col12\" >3.5e+02</td>\n",
       "                        <td id=\"T_034fc_row3_col13\" class=\"data row3 col13\" >0.95</td>\n",
       "                        <td id=\"T_034fc_row3_col14\" class=\"data row3 col14\" >0.11</td>\n",
       "                        <td id=\"T_034fc_row3_col15\" class=\"data row3 col15\" >0</td>\n",
       "            </tr>\n",
       "            <tr>\n",
       "                        <th id=\"T_034fc_level0_row4\" class=\"row_heading level0 row4\" >4</th>\n",
       "                        <td id=\"T_034fc_row4_col0\" class=\"data row4 col0\" >25</td>\n",
       "                        <td id=\"T_034fc_row4_col1\" class=\"data row4 col1\" >2021-12-10 17:27:17.934444</td>\n",
       "                        <td id=\"T_034fc_row4_col2\" class=\"data row4 col2\" >new_Frequency1</td>\n",
       "                        <td id=\"T_034fc_row4_col3\" class=\"data row4 col3\" >BaselineOnly</td>\n",
       "                        <td id=\"T_034fc_row4_col4\" class=\"data row4 col4\" >False</td>\n",
       "                        <td id=\"T_034fc_row4_col5\" class=\"data row4 col5\" >5</td>\n",
       "                        <td id=\"T_034fc_row4_col6\" class=\"data row4 col6\" >0.07</td>\n",
       "                        <td id=\"T_034fc_row4_col7\" class=\"data row4 col7\" >0.1</td>\n",
       "                        <td id=\"T_034fc_row4_col8\" class=\"data row4 col8\" >0.29</td>\n",
       "                        <td id=\"T_034fc_row4_col9\" class=\"data row4 col9\" >1435</td>\n",
       "                        <td id=\"T_034fc_row4_col10\" class=\"data row4 col10\" >1</td>\n",
       "                        <td id=\"T_034fc_row4_col11\" class=\"data row4 col11\" >4948</td>\n",
       "                        <td id=\"T_034fc_row4_col12\" class=\"data row4 col12\" >3.1e+02</td>\n",
       "                        <td id=\"T_034fc_row4_col13\" class=\"data row4 col13\" >0.026</td>\n",
       "                        <td id=\"T_034fc_row4_col14\" class=\"data row4 col14\" >0.04</td>\n",
       "                        <td id=\"T_034fc_row4_col15\" class=\"data row4 col15\" >0</td>\n",
       "            </tr>\n",
       "            <tr>\n",
       "                        <th id=\"T_034fc_level0_row5\" class=\"row_heading level0 row5\" >5</th>\n",
       "                        <td id=\"T_034fc_row5_col0\" class=\"data row5 col0\" >37</td>\n",
       "                        <td id=\"T_034fc_row5_col1\" class=\"data row5 col1\" >2022-01-03 14:54:17.867142</td>\n",
       "                        <td id=\"T_034fc_row5_col2\" class=\"data row5 col2\" >Quantity</td>\n",
       "                        <td id=\"T_034fc_row5_col3\" class=\"data row5 col3\" >BaselineOnly</td>\n",
       "                        <td id=\"T_034fc_row5_col4\" class=\"data row5 col4\" >False</td>\n",
       "                        <td id=\"T_034fc_row5_col5\" class=\"data row5 col5\" >5</td>\n",
       "                        <td id=\"T_034fc_row5_col6\" class=\"data row5 col6\" >0.07</td>\n",
       "                        <td id=\"T_034fc_row5_col7\" class=\"data row5 col7\" >0.1</td>\n",
       "                        <td id=\"T_034fc_row5_col8\" class=\"data row5 col8\" >0.29</td>\n",
       "                        <td id=\"T_034fc_row5_col9\" class=\"data row5 col9\" >1455</td>\n",
       "                        <td id=\"T_034fc_row5_col10\" class=\"data row5 col10\" >1</td>\n",
       "                        <td id=\"T_034fc_row5_col11\" class=\"data row5 col11\" >4948</td>\n",
       "                        <td id=\"T_034fc_row5_col12\" class=\"data row5 col12\" >4.2e+02</td>\n",
       "                        <td id=\"T_034fc_row5_col13\" class=\"data row5 col13\" >0.03</td>\n",
       "                        <td id=\"T_034fc_row5_col14\" class=\"data row5 col14\" >0.04</td>\n",
       "                        <td id=\"T_034fc_row5_col15\" class=\"data row5 col15\" >0</td>\n",
       "            </tr>\n",
       "            <tr>\n",
       "                        <th id=\"T_034fc_level0_row6\" class=\"row_heading level0 row6\" >6</th>\n",
       "                        <td id=\"T_034fc_row6_col0\" class=\"data row6 col0\" >15</td>\n",
       "                        <td id=\"T_034fc_row6_col1\" class=\"data row6 col1\" >2021-12-10 01:21:27.032997</td>\n",
       "                        <td id=\"T_034fc_row6_col2\" class=\"data row6 col2\" >Frequency1</td>\n",
       "                        <td id=\"T_034fc_row6_col3\" class=\"data row6 col3\" >KNNBaseline</td>\n",
       "                        <td id=\"T_034fc_row6_col4\" class=\"data row6 col4\" >False</td>\n",
       "                        <td id=\"T_034fc_row6_col5\" class=\"data row6 col5\" >5</td>\n",
       "                        <td id=\"T_034fc_row6_col6\" class=\"data row6 col6\" >0.07</td>\n",
       "                        <td id=\"T_034fc_row6_col7\" class=\"data row6 col7\" >0.1</td>\n",
       "                        <td id=\"T_034fc_row6_col8\" class=\"data row6 col8\" >0.29</td>\n",
       "                        <td id=\"T_034fc_row6_col9\" class=\"data row6 col9\" >1415</td>\n",
       "                        <td id=\"T_034fc_row6_col10\" class=\"data row6 col10\" >1</td>\n",
       "                        <td id=\"T_034fc_row6_col11\" class=\"data row6 col11\" >4948</td>\n",
       "                        <td id=\"T_034fc_row6_col12\" class=\"data row6 col12\" >3.4e+02</td>\n",
       "                        <td id=\"T_034fc_row6_col13\" class=\"data row6 col13\" >0.9</td>\n",
       "                        <td id=\"T_034fc_row6_col14\" class=\"data row6 col14\" >0.37</td>\n",
       "                        <td id=\"T_034fc_row6_col15\" class=\"data row6 col15\" >0</td>\n",
       "            </tr>\n",
       "            <tr>\n",
       "                        <th id=\"T_034fc_level0_row7\" class=\"row_heading level0 row7\" >7</th>\n",
       "                        <td id=\"T_034fc_row7_col0\" class=\"data row7 col0\" >10</td>\n",
       "                        <td id=\"T_034fc_row7_col1\" class=\"data row7 col1\" >2021-12-09 23:46:22.028601</td>\n",
       "                        <td id=\"T_034fc_row7_col2\" class=\"data row7 col2\" >Frequency1</td>\n",
       "                        <td id=\"T_034fc_row7_col3\" class=\"data row7 col3\" >BaselineOnly</td>\n",
       "                        <td id=\"T_034fc_row7_col4\" class=\"data row7 col4\" >False</td>\n",
       "                        <td id=\"T_034fc_row7_col5\" class=\"data row7 col5\" >5</td>\n",
       "                        <td id=\"T_034fc_row7_col6\" class=\"data row7 col6\" >0.07</td>\n",
       "                        <td id=\"T_034fc_row7_col7\" class=\"data row7 col7\" >0.1</td>\n",
       "                        <td id=\"T_034fc_row7_col8\" class=\"data row7 col8\" >0.29</td>\n",
       "                        <td id=\"T_034fc_row7_col9\" class=\"data row7 col9\" >1439</td>\n",
       "                        <td id=\"T_034fc_row7_col10\" class=\"data row7 col10\" >1</td>\n",
       "                        <td id=\"T_034fc_row7_col11\" class=\"data row7 col11\" >4948</td>\n",
       "                        <td id=\"T_034fc_row7_col12\" class=\"data row7 col12\" >4.5e+02</td>\n",
       "                        <td id=\"T_034fc_row7_col13\" class=\"data row7 col13\" >0.028</td>\n",
       "                        <td id=\"T_034fc_row7_col14\" class=\"data row7 col14\" >0.04</td>\n",
       "                        <td id=\"T_034fc_row7_col15\" class=\"data row7 col15\" >0</td>\n",
       "            </tr>\n",
       "            <tr>\n",
       "                        <th id=\"T_034fc_level0_row8\" class=\"row_heading level0 row8\" >8</th>\n",
       "                        <td id=\"T_034fc_row8_col0\" class=\"data row8 col0\" >16</td>\n",
       "                        <td id=\"T_034fc_row8_col1\" class=\"data row8 col1\" >2021-12-10 10:13:37.243523</td>\n",
       "                        <td id=\"T_034fc_row8_col2\" class=\"data row8 col2\" >Frequency1</td>\n",
       "                        <td id=\"T_034fc_row8_col3\" class=\"data row8 col3\" >SVD</td>\n",
       "                        <td id=\"T_034fc_row8_col4\" class=\"data row8 col4\" >False</td>\n",
       "                        <td id=\"T_034fc_row8_col5\" class=\"data row8 col5\" >5</td>\n",
       "                        <td id=\"T_034fc_row8_col6\" class=\"data row8 col6\" >0.06</td>\n",
       "                        <td id=\"T_034fc_row8_col7\" class=\"data row8 col7\" >0.1</td>\n",
       "                        <td id=\"T_034fc_row8_col8\" class=\"data row8 col8\" >0.28</td>\n",
       "                        <td id=\"T_034fc_row8_col9\" class=\"data row8 col9\" >1364</td>\n",
       "                        <td id=\"T_034fc_row8_col10\" class=\"data row8 col10\" >1</td>\n",
       "                        <td id=\"T_034fc_row8_col11\" class=\"data row8 col11\" >4948</td>\n",
       "                        <td id=\"T_034fc_row8_col12\" class=\"data row8 col12\" >3.1e+02</td>\n",
       "                        <td id=\"T_034fc_row8_col13\" class=\"data row8 col13\" >0.68</td>\n",
       "                        <td id=\"T_034fc_row8_col14\" class=\"data row8 col14\" >0.45</td>\n",
       "                        <td id=\"T_034fc_row8_col15\" class=\"data row8 col15\" >0</td>\n",
       "            </tr>\n",
       "            <tr>\n",
       "                        <th id=\"T_034fc_level0_row9\" class=\"row_heading level0 row9\" >9</th>\n",
       "                        <td id=\"T_034fc_row9_col0\" class=\"data row9 col0\" >26</td>\n",
       "                        <td id=\"T_034fc_row9_col1\" class=\"data row9 col1\" >2021-12-10 17:52:14.014046</td>\n",
       "                        <td id=\"T_034fc_row9_col2\" class=\"data row9 col2\" >new_Frequency1</td>\n",
       "                        <td id=\"T_034fc_row9_col3\" class=\"data row9 col3\" >SVD</td>\n",
       "                        <td id=\"T_034fc_row9_col4\" class=\"data row9 col4\" >False</td>\n",
       "                        <td id=\"T_034fc_row9_col5\" class=\"data row9 col5\" >5</td>\n",
       "                        <td id=\"T_034fc_row9_col6\" class=\"data row9 col6\" >0.06</td>\n",
       "                        <td id=\"T_034fc_row9_col7\" class=\"data row9 col7\" >0.1</td>\n",
       "                        <td id=\"T_034fc_row9_col8\" class=\"data row9 col8\" >0.28</td>\n",
       "                        <td id=\"T_034fc_row9_col9\" class=\"data row9 col9\" >1373</td>\n",
       "                        <td id=\"T_034fc_row9_col10\" class=\"data row9 col10\" >1</td>\n",
       "                        <td id=\"T_034fc_row9_col11\" class=\"data row9 col11\" >4948</td>\n",
       "                        <td id=\"T_034fc_row9_col12\" class=\"data row9 col12\" >3.2e+02</td>\n",
       "                        <td id=\"T_034fc_row9_col13\" class=\"data row9 col13\" >0.1</td>\n",
       "                        <td id=\"T_034fc_row9_col14\" class=\"data row9 col14\" >0.09</td>\n",
       "                        <td id=\"T_034fc_row9_col15\" class=\"data row9 col15\" >0</td>\n",
       "            </tr>\n",
       "            <tr>\n",
       "                        <th id=\"T_034fc_level0_row10\" class=\"row_heading level0 row10\" >10</th>\n",
       "                        <td id=\"T_034fc_row10_col0\" class=\"data row10 col0\" >6</td>\n",
       "                        <td id=\"T_034fc_row10_col1\" class=\"data row10 col1\" >2021-12-09 20:58:42.762085</td>\n",
       "                        <td id=\"T_034fc_row10_col2\" class=\"data row10 col2\" >Quantity</td>\n",
       "                        <td id=\"T_034fc_row10_col3\" class=\"data row10 col3\" >BaselineOnly</td>\n",
       "                        <td id=\"T_034fc_row10_col4\" class=\"data row10 col4\" >False</td>\n",
       "                        <td id=\"T_034fc_row10_col5\" class=\"data row10 col5\" >5</td>\n",
       "                        <td id=\"T_034fc_row10_col6\" class=\"data row10 col6\" >0.06</td>\n",
       "                        <td id=\"T_034fc_row10_col7\" class=\"data row10 col7\" >0.09</td>\n",
       "                        <td id=\"T_034fc_row10_col8\" class=\"data row10 col8\" >0.26</td>\n",
       "                        <td id=\"T_034fc_row10_col9\" class=\"data row10 col9\" >1274</td>\n",
       "                        <td id=\"T_034fc_row10_col10\" class=\"data row10 col10\" >1</td>\n",
       "                        <td id=\"T_034fc_row10_col11\" class=\"data row10 col11\" >4948</td>\n",
       "                        <td id=\"T_034fc_row10_col12\" class=\"data row10 col12\" >3.1e+02</td>\n",
       "                        <td id=\"T_034fc_row10_col13\" class=\"data row10 col13\" >0.017</td>\n",
       "                        <td id=\"T_034fc_row10_col14\" class=\"data row10 col14\" >0.04</td>\n",
       "                        <td id=\"T_034fc_row10_col15\" class=\"data row10 col15\" >0</td>\n",
       "            </tr>\n",
       "            <tr>\n",
       "                        <th id=\"T_034fc_level0_row11\" class=\"row_heading level0 row11\" >11</th>\n",
       "                        <td id=\"T_034fc_row11_col0\" class=\"data row11 col0\" >22</td>\n",
       "                        <td id=\"T_034fc_row11_col1\" class=\"data row11 col1\" >2021-12-10 11:30:12.462376</td>\n",
       "                        <td id=\"T_034fc_row11_col2\" class=\"data row11 col2\" >Frequency2</td>\n",
       "                        <td id=\"T_034fc_row11_col3\" class=\"data row11 col3\" >BaselineOnly</td>\n",
       "                        <td id=\"T_034fc_row11_col4\" class=\"data row11 col4\" >False</td>\n",
       "                        <td id=\"T_034fc_row11_col5\" class=\"data row11 col5\" >5</td>\n",
       "                        <td id=\"T_034fc_row11_col6\" class=\"data row11 col6\" >0.05</td>\n",
       "                        <td id=\"T_034fc_row11_col7\" class=\"data row11 col7\" >0.08</td>\n",
       "                        <td id=\"T_034fc_row11_col8\" class=\"data row11 col8\" >0.23</td>\n",
       "                        <td id=\"T_034fc_row11_col9\" class=\"data row11 col9\" >1158</td>\n",
       "                        <td id=\"T_034fc_row11_col10\" class=\"data row11 col10\" >1</td>\n",
       "                        <td id=\"T_034fc_row11_col11\" class=\"data row11 col11\" >4948</td>\n",
       "                        <td id=\"T_034fc_row11_col12\" class=\"data row11 col12\" >3.1e+02</td>\n",
       "                        <td id=\"T_034fc_row11_col13\" class=\"data row11 col13\" >0.023</td>\n",
       "                        <td id=\"T_034fc_row11_col14\" class=\"data row11 col14\" >0.04</td>\n",
       "                        <td id=\"T_034fc_row11_col15\" class=\"data row11 col15\" >0</td>\n",
       "            </tr>\n",
       "            <tr>\n",
       "                        <th id=\"T_034fc_level0_row12\" class=\"row_heading level0 row12\" >12</th>\n",
       "                        <td id=\"T_034fc_row12_col0\" class=\"data row12 col0\" >7</td>\n",
       "                        <td id=\"T_034fc_row12_col1\" class=\"data row12 col1\" >2021-12-09 21:14:21.084681</td>\n",
       "                        <td id=\"T_034fc_row12_col2\" class=\"data row12 col2\" >Quantity</td>\n",
       "                        <td id=\"T_034fc_row12_col3\" class=\"data row12 col3\" >NMF</td>\n",
       "                        <td id=\"T_034fc_row12_col4\" class=\"data row12 col4\" >False</td>\n",
       "                        <td id=\"T_034fc_row12_col5\" class=\"data row12 col5\" >5</td>\n",
       "                        <td id=\"T_034fc_row12_col6\" class=\"data row12 col6\" >0.05</td>\n",
       "                        <td id=\"T_034fc_row12_col7\" class=\"data row12 col7\" >0.07</td>\n",
       "                        <td id=\"T_034fc_row12_col8\" class=\"data row12 col8\" >0.22</td>\n",
       "                        <td id=\"T_034fc_row12_col9\" class=\"data row12 col9\" >1109</td>\n",
       "                        <td id=\"T_034fc_row12_col10\" class=\"data row12 col10\" >1</td>\n",
       "                        <td id=\"T_034fc_row12_col11\" class=\"data row12 col11\" >4948</td>\n",
       "                        <td id=\"T_034fc_row12_col12\" class=\"data row12 col12\" >3.4e+02</td>\n",
       "                        <td id=\"T_034fc_row12_col13\" class=\"data row12 col13\" >0.43</td>\n",
       "                        <td id=\"T_034fc_row12_col14\" class=\"data row12 col14\" >0.11</td>\n",
       "                        <td id=\"T_034fc_row12_col15\" class=\"data row12 col15\" >0</td>\n",
       "            </tr>\n",
       "            <tr>\n",
       "                        <th id=\"T_034fc_level0_row13\" class=\"row_heading level0 row13\" >13</th>\n",
       "                        <td id=\"T_034fc_row13_col0\" class=\"data row13 col0\" >17</td>\n",
       "                        <td id=\"T_034fc_row13_col1\" class=\"data row13 col1\" >2021-12-10 10:25:57.686828</td>\n",
       "                        <td id=\"T_034fc_row13_col2\" class=\"data row13 col2\" >Frequency2</td>\n",
       "                        <td id=\"T_034fc_row13_col3\" class=\"data row13 col3\" >SVD</td>\n",
       "                        <td id=\"T_034fc_row13_col4\" class=\"data row13 col4\" >False</td>\n",
       "                        <td id=\"T_034fc_row13_col5\" class=\"data row13 col5\" >5</td>\n",
       "                        <td id=\"T_034fc_row13_col6\" class=\"data row13 col6\" >0.04</td>\n",
       "                        <td id=\"T_034fc_row13_col7\" class=\"data row13 col7\" >0.07</td>\n",
       "                        <td id=\"T_034fc_row13_col8\" class=\"data row13 col8\" >0.2</td>\n",
       "                        <td id=\"T_034fc_row13_col9\" class=\"data row13 col9\" >988</td>\n",
       "                        <td id=\"T_034fc_row13_col10\" class=\"data row13 col10\" >1</td>\n",
       "                        <td id=\"T_034fc_row13_col11\" class=\"data row13 col11\" >4948</td>\n",
       "                        <td id=\"T_034fc_row13_col12\" class=\"data row13 col12\" >2.9e+02</td>\n",
       "                        <td id=\"T_034fc_row13_col13\" class=\"data row13 col13\" >0.32</td>\n",
       "                        <td id=\"T_034fc_row13_col14\" class=\"data row13 col14\" >0.08</td>\n",
       "                        <td id=\"T_034fc_row13_col15\" class=\"data row13 col15\" >0</td>\n",
       "            </tr>\n",
       "            <tr>\n",
       "                        <th id=\"T_034fc_level0_row14\" class=\"row_heading level0 row14\" >14</th>\n",
       "                        <td id=\"T_034fc_row14_col0\" class=\"data row14 col0\" >19</td>\n",
       "                        <td id=\"T_034fc_row14_col1\" class=\"data row14 col1\" >2021-12-10 10:53:04.647927</td>\n",
       "                        <td id=\"T_034fc_row14_col2\" class=\"data row14 col2\" >Frequency2</td>\n",
       "                        <td id=\"T_034fc_row14_col3\" class=\"data row14 col3\" >SVDpp</td>\n",
       "                        <td id=\"T_034fc_row14_col4\" class=\"data row14 col4\" >False</td>\n",
       "                        <td id=\"T_034fc_row14_col5\" class=\"data row14 col5\" >5</td>\n",
       "                        <td id=\"T_034fc_row14_col6\" class=\"data row14 col6\" >0.04</td>\n",
       "                        <td id=\"T_034fc_row14_col7\" class=\"data row14 col7\" >0.07</td>\n",
       "                        <td id=\"T_034fc_row14_col8\" class=\"data row14 col8\" >0.2</td>\n",
       "                        <td id=\"T_034fc_row14_col9\" class=\"data row14 col9\" >998</td>\n",
       "                        <td id=\"T_034fc_row14_col10\" class=\"data row14 col10\" >1</td>\n",
       "                        <td id=\"T_034fc_row14_col11\" class=\"data row14 col11\" >4948</td>\n",
       "                        <td id=\"T_034fc_row14_col12\" class=\"data row14 col12\" >4.2e+02</td>\n",
       "                        <td id=\"T_034fc_row14_col13\" class=\"data row14 col13\" >0.13</td>\n",
       "                        <td id=\"T_034fc_row14_col14\" class=\"data row14 col14\" >0.05</td>\n",
       "                        <td id=\"T_034fc_row14_col15\" class=\"data row14 col15\" >0</td>\n",
       "            </tr>\n",
       "            <tr>\n",
       "                        <th id=\"T_034fc_level0_row15\" class=\"row_heading level0 row15\" >15</th>\n",
       "                        <td id=\"T_034fc_row15_col0\" class=\"data row15 col0\" >31</td>\n",
       "                        <td id=\"T_034fc_row15_col1\" class=\"data row15 col1\" >2021-12-11 23:01:11.634897</td>\n",
       "                        <td id=\"T_034fc_row15_col2\" class=\"data row15 col2\" >Quantity</td>\n",
       "                        <td id=\"T_034fc_row15_col3\" class=\"data row15 col3\" >KNNWithMeans</td>\n",
       "                        <td id=\"T_034fc_row15_col4\" class=\"data row15 col4\" >False</td>\n",
       "                        <td id=\"T_034fc_row15_col5\" class=\"data row15 col5\" >5</td>\n",
       "                        <td id=\"T_034fc_row15_col6\" class=\"data row15 col6\" >0.04</td>\n",
       "                        <td id=\"T_034fc_row15_col7\" class=\"data row15 col7\" >0.06</td>\n",
       "                        <td id=\"T_034fc_row15_col8\" class=\"data row15 col8\" >0.19</td>\n",
       "                        <td id=\"T_034fc_row15_col9\" class=\"data row15 col9\" >952</td>\n",
       "                        <td id=\"T_034fc_row15_col10\" class=\"data row15 col10\" >1</td>\n",
       "                        <td id=\"T_034fc_row15_col11\" class=\"data row15 col11\" >4948</td>\n",
       "                        <td id=\"T_034fc_row15_col12\" class=\"data row15 col12\" >2.9e+02</td>\n",
       "                        <td id=\"T_034fc_row15_col13\" class=\"data row15 col13\" >0.97</td>\n",
       "                        <td id=\"T_034fc_row15_col14\" class=\"data row15 col14\" >0.25</td>\n",
       "                        <td id=\"T_034fc_row15_col15\" class=\"data row15 col15\" >0</td>\n",
       "            </tr>\n",
       "            <tr>\n",
       "                        <th id=\"T_034fc_level0_row16\" class=\"row_heading level0 row16\" >16</th>\n",
       "                        <td id=\"T_034fc_row16_col0\" class=\"data row16 col0\" >32</td>\n",
       "                        <td id=\"T_034fc_row16_col1\" class=\"data row16 col1\" >2021-12-12 00:10:54.538804</td>\n",
       "                        <td id=\"T_034fc_row16_col2\" class=\"data row16 col2\" >Quantity</td>\n",
       "                        <td id=\"T_034fc_row16_col3\" class=\"data row16 col3\" >KNNWithZScore</td>\n",
       "                        <td id=\"T_034fc_row16_col4\" class=\"data row16 col4\" >False</td>\n",
       "                        <td id=\"T_034fc_row16_col5\" class=\"data row16 col5\" >5</td>\n",
       "                        <td id=\"T_034fc_row16_col6\" class=\"data row16 col6\" >0.04</td>\n",
       "                        <td id=\"T_034fc_row16_col7\" class=\"data row16 col7\" >0.06</td>\n",
       "                        <td id=\"T_034fc_row16_col8\" class=\"data row16 col8\" >0.18</td>\n",
       "                        <td id=\"T_034fc_row16_col9\" class=\"data row16 col9\" >893</td>\n",
       "                        <td id=\"T_034fc_row16_col10\" class=\"data row16 col10\" >1</td>\n",
       "                        <td id=\"T_034fc_row16_col11\" class=\"data row16 col11\" >4948</td>\n",
       "                        <td id=\"T_034fc_row16_col12\" class=\"data row16 col12\" >3.2e+02</td>\n",
       "                        <td id=\"T_034fc_row16_col13\" class=\"data row16 col13\" >0.95</td>\n",
       "                        <td id=\"T_034fc_row16_col14\" class=\"data row16 col14\" >0.28</td>\n",
       "                        <td id=\"T_034fc_row16_col15\" class=\"data row16 col15\" >0</td>\n",
       "            </tr>\n",
       "            <tr>\n",
       "                        <th id=\"T_034fc_level0_row17\" class=\"row_heading level0 row17\" >17</th>\n",
       "                        <td id=\"T_034fc_row17_col0\" class=\"data row17 col0\" >29</td>\n",
       "                        <td id=\"T_034fc_row17_col1\" class=\"data row17 col1\" >2021-12-11 20:56:51.575227</td>\n",
       "                        <td id=\"T_034fc_row17_col2\" class=\"data row17 col2\" >Frequency2</td>\n",
       "                        <td id=\"T_034fc_row17_col3\" class=\"data row17 col3\" >KNNWithZScore</td>\n",
       "                        <td id=\"T_034fc_row17_col4\" class=\"data row17 col4\" >False</td>\n",
       "                        <td id=\"T_034fc_row17_col5\" class=\"data row17 col5\" >5</td>\n",
       "                        <td id=\"T_034fc_row17_col6\" class=\"data row17 col6\" >0.04</td>\n",
       "                        <td id=\"T_034fc_row17_col7\" class=\"data row17 col7\" >0.06</td>\n",
       "                        <td id=\"T_034fc_row17_col8\" class=\"data row17 col8\" >0.17</td>\n",
       "                        <td id=\"T_034fc_row17_col9\" class=\"data row17 col9\" >859</td>\n",
       "                        <td id=\"T_034fc_row17_col10\" class=\"data row17 col10\" >1</td>\n",
       "                        <td id=\"T_034fc_row17_col11\" class=\"data row17 col11\" >4948</td>\n",
       "                        <td id=\"T_034fc_row17_col12\" class=\"data row17 col12\" >3.4e+02</td>\n",
       "                        <td id=\"T_034fc_row17_col13\" class=\"data row17 col13\" >0.98</td>\n",
       "                        <td id=\"T_034fc_row17_col14\" class=\"data row17 col14\" >0.3</td>\n",
       "                        <td id=\"T_034fc_row17_col15\" class=\"data row17 col15\" >0</td>\n",
       "            </tr>\n",
       "            <tr>\n",
       "                        <th id=\"T_034fc_level0_row18\" class=\"row_heading level0 row18\" >18</th>\n",
       "                        <td id=\"T_034fc_row18_col0\" class=\"data row18 col0\" >30</td>\n",
       "                        <td id=\"T_034fc_row18_col1\" class=\"data row18 col1\" >2021-12-11 22:04:07.415871</td>\n",
       "                        <td id=\"T_034fc_row18_col2\" class=\"data row18 col2\" >Frequency2</td>\n",
       "                        <td id=\"T_034fc_row18_col3\" class=\"data row18 col3\" >KNNWithMeans</td>\n",
       "                        <td id=\"T_034fc_row18_col4\" class=\"data row18 col4\" >False</td>\n",
       "                        <td id=\"T_034fc_row18_col5\" class=\"data row18 col5\" >5</td>\n",
       "                        <td id=\"T_034fc_row18_col6\" class=\"data row18 col6\" >0.03</td>\n",
       "                        <td id=\"T_034fc_row18_col7\" class=\"data row18 col7\" >0.05</td>\n",
       "                        <td id=\"T_034fc_row18_col8\" class=\"data row18 col8\" >0.16</td>\n",
       "                        <td id=\"T_034fc_row18_col9\" class=\"data row18 col9\" >791</td>\n",
       "                        <td id=\"T_034fc_row18_col10\" class=\"data row18 col10\" >1</td>\n",
       "                        <td id=\"T_034fc_row18_col11\" class=\"data row18 col11\" >4948</td>\n",
       "                        <td id=\"T_034fc_row18_col12\" class=\"data row18 col12\" >3.6e+02</td>\n",
       "                        <td id=\"T_034fc_row18_col13\" class=\"data row18 col13\" >0.97</td>\n",
       "                        <td id=\"T_034fc_row18_col14\" class=\"data row18 col14\" >0.25</td>\n",
       "                        <td id=\"T_034fc_row18_col15\" class=\"data row18 col15\" >0</td>\n",
       "            </tr>\n",
       "            <tr>\n",
       "                        <th id=\"T_034fc_level0_row19\" class=\"row_heading level0 row19\" >19</th>\n",
       "                        <td id=\"T_034fc_row19_col0\" class=\"data row19 col0\" >28</td>\n",
       "                        <td id=\"T_034fc_row19_col1\" class=\"data row19 col1\" >2021-12-11 18:55:50.400510</td>\n",
       "                        <td id=\"T_034fc_row19_col2\" class=\"data row19 col2\" >Frequency2</td>\n",
       "                        <td id=\"T_034fc_row19_col3\" class=\"data row19 col3\" >NMF</td>\n",
       "                        <td id=\"T_034fc_row19_col4\" class=\"data row19 col4\" >False</td>\n",
       "                        <td id=\"T_034fc_row19_col5\" class=\"data row19 col5\" >5</td>\n",
       "                        <td id=\"T_034fc_row19_col6\" class=\"data row19 col6\" >0.02</td>\n",
       "                        <td id=\"T_034fc_row19_col7\" class=\"data row19 col7\" >0.02</td>\n",
       "                        <td id=\"T_034fc_row19_col8\" class=\"data row19 col8\" >0.08</td>\n",
       "                        <td id=\"T_034fc_row19_col9\" class=\"data row19 col9\" >399</td>\n",
       "                        <td id=\"T_034fc_row19_col10\" class=\"data row19 col10\" >1</td>\n",
       "                        <td id=\"T_034fc_row19_col11\" class=\"data row19 col11\" >4948</td>\n",
       "                        <td id=\"T_034fc_row19_col12\" class=\"data row19 col12\" >3.5e+02</td>\n",
       "                        <td id=\"T_034fc_row19_col13\" class=\"data row19 col13\" >0.49</td>\n",
       "                        <td id=\"T_034fc_row19_col14\" class=\"data row19 col14\" >0.1</td>\n",
       "                        <td id=\"T_034fc_row19_col15\" class=\"data row19 col15\" >0</td>\n",
       "            </tr>\n",
       "    </tbody></table>"
      ],
      "text/plain": [
       "<pandas.io.formats.style.Styler at 0x21497a01ee0>"
      ]
     },
     "execution_count": 110,
     "metadata": {},
     "output_type": "execute_result"
    }
   ],
   "source": [
    "surprise=evaluation_log.loc[(evaluation_log['Algo']!='LightFM') & (evaluation_log['Leave_one_out']==False)]\n",
    "(surprise.sort_values('Hit_rate',ascending=False).reset_index().style\n",
    " .background_gradient(cmap=cm, subset=['Precision@N','Recall@N','Hit_rate','Unique_TopN','Unique_Products'])\n",
    " .highlight_max(subset=['Precision@N','Recall@N','Hit_rate','Unique_TopN','Unique_Products'],color='orange')\n",
    " .set_caption('Surprise Results')\n",
    " .format({'Hit_rate': \"{:.2}\",'Precision@N': \"{:.2}\",'Recall@N': \"{:.2}\",\n",
    " 'Compute_time': \"{:.2}\",'Unique_TopN': \"{:.2}\",'Unique_Products': \"{:.2}\",'LOO_Rate': \"{:.2}\"})\n",
    " .set_table_styles(styles)) "
   ]
  },
  {
   "cell_type": "code",
   "execution_count": 111,
   "metadata": {
    "cell_id": "00043-a4df5dc5-3226-4432-9a97-4edcb578cfab",
    "deepnote_cell_type": "code",
    "deepnote_output_heights": [
     554.984375,
     489.984375,
     489.984375,
     489.984375,
     489.984375
    ],
    "deepnote_to_be_reexecuted": false,
    "execution_millis": 13953,
    "execution_start": 1640611993882,
    "output_cleared": true,
    "source_hash": "25a8c719",
    "tags": []
   },
   "outputs": [
    {
     "data": {
      "image/png": "[encoded data removed]",
      "text/plain": [
       "<Figure size 864x504 with 2 Axes>"
      ]
     },
     "metadata": {},
     "output_type": "display_data"
    },
    {
     "data": {
      "image/png": "[encoded data removed]",
      "text/plain": [
       "<Figure size 864x432 with 2 Axes>"
      ]
     },
     "metadata": {},
     "output_type": "display_data"
    },
    {
     "data": {
      "image/png": "[encoded data removed]",
      "text/plain": [
       "<Figure size 864x432 with 2 Axes>"
      ]
     },
     "metadata": {},
     "output_type": "display_data"
    },
    {
     "data": {
      "image/png": "[encoded data removed]",
      "text/plain": [
       "<Figure size 864x504 with 2 Axes>"
      ]
     },
     "metadata": {},
     "output_type": "display_data"
    },
    {
     "data": {
      "image/png": "[encoded data removed]",
      "text/plain": [
       "<Figure size 864x504 with 2 Axes>"
      ]
     },
     "metadata": {},
     "output_type": "display_data"
    }
   ],
   "source": [
    "def system_overview1(surprise):\n",
    "    \"\"\"\n",
    "    Surprise system PLOTS \n",
    "    \"\"\"\n",
    "    \n",
    "    plt.style.use(plt.style.available[9])\n",
    "    # plt.grid(color='w', linestyle='solid')\n",
    "\n",
    "    fig, (ax1, ax2)= plt.subplots(nrows=1, ncols=2, sharey=False,figsize=(12,7))\n",
    "    ax1.bar(x=surprise['Algo'], height=surprise['Hit_rate'].values)\n",
    "    #find max\n",
    "    max_index=surprise[surprise['Hit_rate']==surprise['Hit_rate'].max()].index[0]\n",
    "    max_score=surprise['Hit_rate'].max()\n",
    "    ax1.bar(x=surprise['Algo'].loc[max_index],height=max_score, color='r')\n",
    "    ax1.set_ylim((0.05,0.5))\n",
    "    #annotation\n",
    "    y=surprise['Hit_rate'].values\n",
    "    x=surprise['Algo'].values\n",
    "    for a,b in zip(x,y): \n",
    "        ax1.annotate(str(b),xy=(a,b),size=11,ha='center', va=\"bottom\")\n",
    "\n",
    "    ax1.set_title(\"Hit Rate per Algorithm\", fontsize=12)\n",
    "    ax1.set_xlabel('Algorythm')\n",
    "    ax1.set_ylabel('Hit Rate')\n",
    " \n",
    "    fig.autofmt_xdate()\n",
    "\n",
    "    ax2.bar(x=surprise['Data'], height=surprise['Hit_rate'])\n",
    "    #find max\n",
    "    max_rating_column=surprise[surprise['Hit_rate']==surprise['Hit_rate'].max()]['Data'].values[0]\n",
    "    max_score=surprise['Hit_rate'].max()\n",
    "    ax2.bar(x=max_rating_column, height=max_score, color='r')\n",
    "    ax2.set_ylim((0.05,0.48))\n",
    "    #annotation\n",
    "    y=surprise['Hit_rate'].values\n",
    "    x=surprise['Data'].values\n",
    "    for a,b in zip(x,y): \n",
    "        ax2.annotate(str(b),xy=(a,b),size=11,ha='center', va=\"bottom\")\n",
    "\n",
    "    ax2.set_title(\"Hit Rate per Rating\", fontsize=12)\n",
    "    ax2.set_xlabel('Rating')\n",
    "    ax2.set_ylabel('Hit Rate')\n",
    "    \n",
    "    fig.autofmt_xdate()\n",
    "    fig.tight_layout()\n",
    "    plt.subplots_adjust(wspace=0.2, hspace=0.8)\n",
    "    fig.suptitle('Surprise Overview',y=1.1,fontsize='x-large')\n",
    "    plt.show();\n",
    "\n",
    "    \n",
    "    fig, (ax3, ax4)= plt.subplots(nrows=1, ncols=2, sharey=False,figsize=(12,6))\n",
    "    ax3.bar(x=surprise['Algo'], height=surprise['Precision@N'].values)\n",
    "    #find max\n",
    "    max_index=surprise[surprise['Precision@N']==surprise['Precision@N'].max()].index[0]\n",
    "    max_score=surprise['Precision@N'].max()\n",
    "    ax3.bar(x=surprise['Algo'].loc[max_index],height=max_score, color='r')\n",
    "    ax3.set_ylim((0.0,0.3))\n",
    "    #annotation\n",
    "    y=surprise['Precision@N'].values\n",
    "    x=surprise['Algo'].values\n",
    "    for a,b in zip(x,y): \n",
    "        ax3.annotate(str(b),xy=(a,b),size=11,ha='center', va=\"bottom\")\n",
    "\n",
    "    ax3.set_title(\"Precision\", fontsize=12)\n",
    "    ax3.set_xlabel('Algorithm')\n",
    "    ax3.set_ylabel('Precision')\n",
    "    fig.autofmt_xdate()\n",
    "\n",
    "    ax4.bar(x=surprise['Data'], height=surprise['Precision@N'])\n",
    "    #find max\n",
    "    max_rating_column=surprise[surprise['Precision@N']==surprise['Precision@N'].max()]['Data'].values[0]\n",
    "    max_score=surprise['Precision@N'].max()\n",
    "    ax4.bar(x=max_rating_column, height=max_score, color='r')\n",
    "    ax4.set_ylim((0.00,0.3))\n",
    "    #annotation\n",
    "    y=surprise['Precision@N'].values\n",
    "    x=surprise['Data'].values\n",
    "    for a,b in zip(x,y): \n",
    "        ax4.annotate(str(b),xy=(a,b),size=11,ha='center', va=\"bottom\")\n",
    "\n",
    "    ax4.set_title(\"Precision\", fontsize=12)\n",
    "    ax4.set_xlabel('Rating')\n",
    "    ax4.set_ylabel('Precision')\n",
    "    \n",
    "    fig.autofmt_xdate()\n",
    "    fig.tight_layout()\n",
    "    plt.subplots_adjust(wspace=0.2, hspace=0.8)\n",
    "    plt.show();\n",
    "\n",
    "    fig, (ax5, ax6)= plt.subplots(nrows=1, ncols=2, sharey=False,figsize=(12,6))\n",
    "    ax5.bar(x=surprise['Algo'], height=surprise['Recall@N'].values)\n",
    "    #find max\n",
    "    max_index=surprise[surprise['Recall@N']==surprise['Recall@N'].max()].index[0]\n",
    "    max_score=surprise['Recall@N'].max()\n",
    "    ax5.bar(x=surprise['Algo'].loc[max_index],height=max_score, color='r')\n",
    "    ax5.set_ylim((0.0,0.3))\n",
    "    #annotation\n",
    "    y=surprise['Recall@N'].values\n",
    "    x=surprise['Algo'].values\n",
    "    for a,b in zip(x,y): \n",
    "        ax5.annotate(str(b),xy=(a,b),size=11,ha='center', va=\"bottom\")\n",
    "\n",
    "    ax5.set_title(\"Recall\", fontsize=12)\n",
    "    ax5.set_xlabel('Algorithm')\n",
    "    ax5.set_ylabel('Recall')\n",
    " \n",
    "    fig.autofmt_xdate()\n",
    "\n",
    "    ax6.bar(x=surprise['Data'], height=surprise['Recall@N'])\n",
    "    #find max\n",
    "    max_rating_column=surprise[surprise['Recall@N']==surprise['Recall@N'].max()]['Data'].values[0]\n",
    "    max_score=surprise['Recall@N'].max()\n",
    "    ax6.bar(x=max_rating_column, height=max_score, color='r')\n",
    "    ax6.set_ylim((0.00,0.3))\n",
    "    #annotation\n",
    "    y=surprise['Recall@N'].values\n",
    "    x=surprise['Data'].values\n",
    "    for a,b in zip(x,y): \n",
    "        ax6.annotate(str(b),xy=(a,b),size=11,ha='center', va=\"bottom\")\n",
    "\n",
    "    ax6.set_title(\"Recall\", fontsize=12)\n",
    "    ax6.set_xlabel('Rating')\n",
    "    ax6.set_ylabel('Recall')\n",
    "    \n",
    "    fig.autofmt_xdate()\n",
    "    fig.tight_layout()\n",
    "    plt.subplots_adjust(wspace=0.2, hspace=0.8)\n",
    "    # fig.suptitle('Surprise Overview',y=1.1,fontsize='x-large')\n",
    "\n",
    "    plt.show();\n",
    "\n",
    "    fig, (ax7, ax8)= plt.subplots(nrows=1, ncols=2, sharey=False,figsize=(12,7))\n",
    "    ax7.bar(x=surprise['Algo'], height=surprise['Unique_TopN'].round(1).values)\n",
    "    #find max\n",
    "    max_index=surprise[surprise['Unique_TopN']==surprise['Unique_TopN'].max()].index[0]\n",
    "    max_score=surprise['Unique_TopN'].round(1).max()\n",
    "    ax7.bar(x=surprise['Algo'].loc[max_index],height=max_score, color='r')\n",
    "    ax7.set_ylim((0.0,1.10))\n",
    "    #annotation\n",
    "    y=surprise['Unique_TopN'].round(1).values\n",
    "    x=surprise['Algo'].values\n",
    "    for a,b in zip(x,y): \n",
    "        ax7.annotate(str(b),xy=(a,b),size=11,ha='center', va=\"bottom\")\n",
    "\n",
    "    ax7.set_title(\"Unique Recommendations per User\", fontsize=12)\n",
    "    ax7.set_xlabel('Algorithm')\n",
    "    ax7.set_ylabel('Uniqueness')\n",
    " \n",
    "    fig.autofmt_xdate()\n",
    "\n",
    "    ax8.bar(x=surprise['Data'], height=surprise['Unique_TopN'].round(2))\n",
    "    #find max\n",
    "    max_rating_column=surprise[surprise['Unique_TopN']==surprise['Unique_TopN'].max()]['Data'].values[0]\n",
    "    max_score=surprise['Unique_TopN'].round(2).max()\n",
    "    ax8.bar(x=max_rating_column, height=max_score, color='r')\n",
    "    ax8.set_ylim((0.00,1.10))\n",
    "    #annotation\n",
    "    y=surprise['Unique_TopN'].round(2).values\n",
    "    x=surprise['Data'].values\n",
    "    for a,b in zip(x,y): \n",
    "        ax8.annotate(str(b),xy=(a,b),size=11,ha='center', va=\"bottom\")\n",
    "\n",
    "    ax8.set_title(\"Unique Recommendations per User\", fontsize=12)\n",
    "    ax8.set_xlabel('Rating')\n",
    "    ax8.set_ylabel('Uniqueness')\n",
    "    \n",
    "    fig.autofmt_xdate()\n",
    "    fig.tight_layout()\n",
    "    plt.subplots_adjust(wspace=0.2, hspace=0.8)\n",
    "    # fig.suptitle('Surprise Overview',y=1.1,fontsize='x-large')\n",
    "\n",
    "    plt.show();\n",
    "\n",
    "    fig, (ax9, ax10)= plt.subplots(nrows=1, ncols=2, sharey=False,figsize=(12,7))\n",
    "    ax9.bar(x=surprise['Algo'], height=surprise['Unique_Products'].round(1).values)\n",
    "    #find max\n",
    "    max_index=surprise[surprise['Unique_Products']==surprise['Unique_Products'].max()].index[0]\n",
    "    max_score=surprise['Unique_Products'].max()\n",
    "    ax9.bar(x=surprise['Algo'].loc[max_index],height=max_score, color='r')\n",
    "    ax9.set_ylim((0.0,0.48))\n",
    "    #annotation\n",
    "    y=surprise['Unique_Products'].values\n",
    "    x=surprise['Algo'].values\n",
    "    for a,b in zip(x,y): \n",
    "        ax9.annotate(str(b),xy=(a,b),size=11,ha='center', va=\"bottom\")\n",
    "\n",
    "    ax9.set_title(\"Unique Products\", fontsize=12)\n",
    "    ax9.set_xlabel('Algorithm')\n",
    "    ax9.set_ylabel('Uniqueness')\n",
    " \n",
    "    fig.autofmt_xdate()\n",
    "\n",
    "    ax10.bar(x=surprise['Data'], height=surprise['Unique_Products'])\n",
    "    #find max\n",
    "    max_rating_column=surprise[surprise['Unique_Products']==surprise['Unique_Products'].max()]['Data'].values[0]\n",
    "    max_score=surprise['Unique_Products'].max()\n",
    "    ax10.bar(x=max_rating_column, height=max_score, color='r')\n",
    "    ax10.set_ylim((0.00,0.48))\n",
    "    #annotation\n",
    "    y=surprise['Unique_Products'].values\n",
    "    x=surprise['Data'].values\n",
    "    for a,b in zip(x,y): \n",
    "        ax10.annotate(str(b),xy=(a,b),size=11,ha='center', va=\"bottom\")\n",
    "\n",
    "    ax10.set_title(\"Unique Products\", fontsize=12)\n",
    "    ax10.set_xlabel('Rating')\n",
    "    ax10.set_ylabel('Uniqueness')\n",
    "    \n",
    "    fig.autofmt_xdate()\n",
    "    fig.tight_layout()\n",
    "    plt.subplots_adjust(wspace=0.2, hspace=0.8)\n",
    "    # fig.suptitle('Surprise Overview',y=1.1,fontsize='x-large')\n",
    "\n",
    "    plt.show();\n",
    "    # plt.clf();\n",
    "    return None\n",
    "system_overview1(surprise)"
   ]
  },
  {
   "cell_type": "markdown",
   "metadata": {
    "cell_id": "00043-db9fa2ea-4a8f-414b-98f0-c866f1cb84ab",
    "deepnote_cell_type": "markdown",
    "tags": []
   },
   "source": [
    "##### Best Run Details:"
   ]
  },
  {
   "cell_type": "code",
   "execution_count": 112,
   "metadata": {
    "cell_id": "00044-6e9883be-548e-4910-848f-fd2fc76b4bf1",
    "deepnote_cell_type": "code",
    "deepnote_to_be_reexecuted": false,
    "execution_millis": 187,
    "execution_start": 1640613402863,
    "output_cleared": true,
    "source_hash": "59a4cdd3",
    "tags": []
   },
   "outputs": [],
   "source": [
    "data_max_min=surprise[['Data','Precision@N','Recall@N','Hit_rate','Unique_TopN','Unique_Products']].groupby('Data').agg(['min', 'max'])\n"
   ]
  },
  {
   "cell_type": "code",
   "execution_count": 113,
   "metadata": {
    "cell_id": "00044-903348f8-fbcf-4330-a844-298cf276cb14",
    "deepnote_cell_type": "code",
    "deepnote_output_heights": [
     193.8125
    ],
    "deepnote_to_be_reexecuted": false,
    "execution_millis": 186,
    "execution_start": 1640613412667,
    "output_cleared": true,
    "source_hash": "464b754a",
    "tags": []
   },
   "outputs": [
    {
     "data": {
      "text/html": [
       "<style  type=\"text/css\" >\n",
       "#T_f6ca6_row0_col4,#T_f6ca6_row1_col3,#T_f6ca6_row2_col0,#T_f6ca6_row2_col1,#T_f6ca6_row2_col2{\n",
       "            background-color:  coral;\n",
       "        }#T_f6ca6_row1_col0,#T_f6ca6_row1_col1,#T_f6ca6_row1_col2,#T_f6ca6_row3_col3,#T_f6ca6_row3_col4{\n",
       "            background-color:  lightgreen;\n",
       "        }</style><table id=\"T_f6ca6_\" ><thead>    <tr>        <th class=\"blank level0\" ></th>        <th class=\"col_heading level0 col0\" >Precision@N</th>        <th class=\"col_heading level0 col1\" >Recall@N</th>        <th class=\"col_heading level0 col2\" >Hit_rate</th>        <th class=\"col_heading level0 col3\" >Unique_TopN</th>        <th class=\"col_heading level0 col4\" >Unique_Products</th>    </tr>    <tr>        <th class=\"blank level1\" ></th>        <th class=\"col_heading level1 col0\" >max</th>        <th class=\"col_heading level1 col1\" >max</th>        <th class=\"col_heading level1 col2\" >max</th>        <th class=\"col_heading level1 col3\" >max</th>        <th class=\"col_heading level1 col4\" >max</th>    </tr>    <tr>        <th class=\"index_name level0\" >Data</th>        <th class=\"blank\" ></th>        <th class=\"blank\" ></th>        <th class=\"blank\" ></th>        <th class=\"blank\" ></th>        <th class=\"blank\" ></th>    </tr></thead><tbody>\n",
       "                <tr>\n",
       "                        <th id=\"T_f6ca6_level0_row0\" class=\"row_heading level0 row0\" >Frequency1</th>\n",
       "                        <td id=\"T_f6ca6_row0_col0\" class=\"data row0 col0\" >0.07</td>\n",
       "                        <td id=\"T_f6ca6_row0_col1\" class=\"data row0 col1\" >0.11</td>\n",
       "                        <td id=\"T_f6ca6_row0_col2\" class=\"data row0 col2\" >0.31</td>\n",
       "                        <td id=\"T_f6ca6_row0_col3\" class=\"data row0 col3\" >0.97</td>\n",
       "                        <td id=\"T_f6ca6_row0_col4\" class=\"data row0 col4\" >0.45</td>\n",
       "            </tr>\n",
       "            <tr>\n",
       "                        <th id=\"T_f6ca6_level0_row1\" class=\"row_heading level0 row1\" >Frequency2</th>\n",
       "                        <td id=\"T_f6ca6_row1_col0\" class=\"data row1 col0\" >0.05</td>\n",
       "                        <td id=\"T_f6ca6_row1_col1\" class=\"data row1 col1\" >0.08</td>\n",
       "                        <td id=\"T_f6ca6_row1_col2\" class=\"data row1 col2\" >0.23</td>\n",
       "                        <td id=\"T_f6ca6_row1_col3\" class=\"data row1 col3\" >0.98</td>\n",
       "                        <td id=\"T_f6ca6_row1_col4\" class=\"data row1 col4\" >0.30</td>\n",
       "            </tr>\n",
       "            <tr>\n",
       "                        <th id=\"T_f6ca6_level0_row2\" class=\"row_heading level0 row2\" >Quantity</th>\n",
       "                        <td id=\"T_f6ca6_row2_col0\" class=\"data row2 col0\" >0.11</td>\n",
       "                        <td id=\"T_f6ca6_row2_col1\" class=\"data row2 col1\" >0.17</td>\n",
       "                        <td id=\"T_f6ca6_row2_col2\" class=\"data row2 col2\" >0.45</td>\n",
       "                        <td id=\"T_f6ca6_row2_col3\" class=\"data row2 col3\" >0.97</td>\n",
       "                        <td id=\"T_f6ca6_row2_col4\" class=\"data row2 col4\" >0.28</td>\n",
       "            </tr>\n",
       "            <tr>\n",
       "                        <th id=\"T_f6ca6_level0_row3\" class=\"row_heading level0 row3\" >new_Frequency1</th>\n",
       "                        <td id=\"T_f6ca6_row3_col0\" class=\"data row3 col0\" >0.07</td>\n",
       "                        <td id=\"T_f6ca6_row3_col1\" class=\"data row3 col1\" >0.10</td>\n",
       "                        <td id=\"T_f6ca6_row3_col2\" class=\"data row3 col2\" >0.30</td>\n",
       "                        <td id=\"T_f6ca6_row3_col3\" class=\"data row3 col3\" >0.95</td>\n",
       "                        <td id=\"T_f6ca6_row3_col4\" class=\"data row3 col4\" >0.11</td>\n",
       "            </tr>\n",
       "    </tbody></table>"
      ],
      "text/plain": [
       "<pandas.io.formats.style.Styler at 0x21495a97b20>"
      ]
     },
     "execution_count": 113,
     "metadata": {},
     "output_type": "execute_result"
    }
   ],
   "source": [
    "#best Surprise Run\n",
    "data_max=data_max_min[data_max_min.columns[:][[1,3,5,7,9]]].style\\\n",
    "      .format('{:.2f}')\\\n",
    "      .highlight_max(color = 'coral')\\\n",
    "      .highlight_min(color = 'lightgreen')\\\n",
    "      .highlight_null(null_color='yellow')\n",
    "data_max\n"
   ]
  },
  {
   "cell_type": "code",
   "execution_count": 114,
   "metadata": {
    "cell_id": "00045-13197012-7821-4853-8181-2f60d361694a",
    "deepnote_cell_type": "code",
    "deepnote_output_heights": [
     326.53125
    ],
    "deepnote_to_be_reexecuted": false,
    "execution_millis": 199,
    "execution_start": 1640614194528,
    "output_cleared": true,
    "source_hash": "7d50e517",
    "tags": []
   },
   "outputs": [
    {
     "data": {
      "text/html": [
       "<style  type=\"text/css\" >\n",
       "#T_ceb80_row0_col8,#T_ceb80_row1_col8,#T_ceb80_row2_col8,#T_ceb80_row3_col8,#T_ceb80_row4_col8,#T_ceb80_row5_col8,#T_ceb80_row6_col8{\n",
       "            background-color:  pink;\n",
       "        }</style><table id=\"T_ceb80_\" ><thead>    <tr>        <th class=\"blank level0\" ></th>        <th class=\"col_heading level0 col0\" >index</th>        <th class=\"col_heading level0 col1\" >Date</th>        <th class=\"col_heading level0 col2\" >Data</th>        <th class=\"col_heading level0 col3\" >Algo</th>        <th class=\"col_heading level0 col4\" >Leave_one_out</th>        <th class=\"col_heading level0 col5\" >N</th>        <th class=\"col_heading level0 col6\" >Precision@N</th>        <th class=\"col_heading level0 col7\" >Recall@N</th>        <th class=\"col_heading level0 col8\" >Hit_rate</th>        <th class=\"col_heading level0 col9\" >Hits</th>        <th class=\"col_heading level0 col10\" >Hit_threshold</th>        <th class=\"col_heading level0 col11\" >Count_customers</th>        <th class=\"col_heading level0 col12\" >Compute_time</th>        <th class=\"col_heading level0 col13\" >Unique_TopN</th>        <th class=\"col_heading level0 col14\" >Unique_Products</th>        <th class=\"col_heading level0 col15\" >LOO_Rate</th>    </tr></thead><tbody>\n",
       "                <tr>\n",
       "                        <th id=\"T_ceb80_level0_row0\" class=\"row_heading level0 row0\" >0</th>\n",
       "                        <td id=\"T_ceb80_row0_col0\" class=\"data row0 col0\" >6</td>\n",
       "                        <td id=\"T_ceb80_row0_col1\" class=\"data row0 col1\" >2021-12-09 20:58:42.762085</td>\n",
       "                        <td id=\"T_ceb80_row0_col2\" class=\"data row0 col2\" >Quantity</td>\n",
       "                        <td id=\"T_ceb80_row0_col3\" class=\"data row0 col3\" >BaselineOnly</td>\n",
       "                        <td id=\"T_ceb80_row0_col4\" class=\"data row0 col4\" >False</td>\n",
       "                        <td id=\"T_ceb80_row0_col5\" class=\"data row0 col5\" >5</td>\n",
       "                        <td id=\"T_ceb80_row0_col6\" class=\"data row0 col6\" >0.06</td>\n",
       "                        <td id=\"T_ceb80_row0_col7\" class=\"data row0 col7\" >0.09</td>\n",
       "                        <td id=\"T_ceb80_row0_col8\" class=\"data row0 col8\" >0.26</td>\n",
       "                        <td id=\"T_ceb80_row0_col9\" class=\"data row0 col9\" >1274</td>\n",
       "                        <td id=\"T_ceb80_row0_col10\" class=\"data row0 col10\" >1</td>\n",
       "                        <td id=\"T_ceb80_row0_col11\" class=\"data row0 col11\" >4948</td>\n",
       "                        <td id=\"T_ceb80_row0_col12\" class=\"data row0 col12\" >306.21</td>\n",
       "                        <td id=\"T_ceb80_row0_col13\" class=\"data row0 col13\" >0.02</td>\n",
       "                        <td id=\"T_ceb80_row0_col14\" class=\"data row0 col14\" >0.04</td>\n",
       "                        <td id=\"T_ceb80_row0_col15\" class=\"data row0 col15\" >0</td>\n",
       "            </tr>\n",
       "            <tr>\n",
       "                        <th id=\"T_ceb80_level0_row1\" class=\"row_heading level0 row1\" >1</th>\n",
       "                        <td id=\"T_ceb80_row1_col0\" class=\"data row1 col0\" >7</td>\n",
       "                        <td id=\"T_ceb80_row1_col1\" class=\"data row1 col1\" >2021-12-09 21:14:21.084681</td>\n",
       "                        <td id=\"T_ceb80_row1_col2\" class=\"data row1 col2\" >Quantity</td>\n",
       "                        <td id=\"T_ceb80_row1_col3\" class=\"data row1 col3\" >NMF</td>\n",
       "                        <td id=\"T_ceb80_row1_col4\" class=\"data row1 col4\" >False</td>\n",
       "                        <td id=\"T_ceb80_row1_col5\" class=\"data row1 col5\" >5</td>\n",
       "                        <td id=\"T_ceb80_row1_col6\" class=\"data row1 col6\" >0.05</td>\n",
       "                        <td id=\"T_ceb80_row1_col7\" class=\"data row1 col7\" >0.07</td>\n",
       "                        <td id=\"T_ceb80_row1_col8\" class=\"data row1 col8\" >0.22</td>\n",
       "                        <td id=\"T_ceb80_row1_col9\" class=\"data row1 col9\" >1109</td>\n",
       "                        <td id=\"T_ceb80_row1_col10\" class=\"data row1 col10\" >1</td>\n",
       "                        <td id=\"T_ceb80_row1_col11\" class=\"data row1 col11\" >4948</td>\n",
       "                        <td id=\"T_ceb80_row1_col12\" class=\"data row1 col12\" >335.01</td>\n",
       "                        <td id=\"T_ceb80_row1_col13\" class=\"data row1 col13\" >0.43</td>\n",
       "                        <td id=\"T_ceb80_row1_col14\" class=\"data row1 col14\" >0.11</td>\n",
       "                        <td id=\"T_ceb80_row1_col15\" class=\"data row1 col15\" >0</td>\n",
       "            </tr>\n",
       "            <tr>\n",
       "                        <th id=\"T_ceb80_level0_row2\" class=\"row_heading level0 row2\" >2</th>\n",
       "                        <td id=\"T_ceb80_row2_col0\" class=\"data row2 col0\" >8</td>\n",
       "                        <td id=\"T_ceb80_row2_col1\" class=\"data row2 col1\" >2021-12-09 23:10:18.561622</td>\n",
       "                        <td id=\"T_ceb80_row2_col2\" class=\"data row2 col2\" >Quantity</td>\n",
       "                        <td id=\"T_ceb80_row2_col3\" class=\"data row2 col3\" >SVD</td>\n",
       "                        <td id=\"T_ceb80_row2_col4\" class=\"data row2 col4\" >False</td>\n",
       "                        <td id=\"T_ceb80_row2_col5\" class=\"data row2 col5\" >5</td>\n",
       "                        <td id=\"T_ceb80_row2_col6\" class=\"data row2 col6\" >0.11</td>\n",
       "                        <td id=\"T_ceb80_row2_col7\" class=\"data row2 col7\" >0.17</td>\n",
       "                        <td id=\"T_ceb80_row2_col8\" class=\"data row2 col8\" >0.45</td>\n",
       "                        <td id=\"T_ceb80_row2_col9\" class=\"data row2 col9\" >2210</td>\n",
       "                        <td id=\"T_ceb80_row2_col10\" class=\"data row2 col10\" >1</td>\n",
       "                        <td id=\"T_ceb80_row2_col11\" class=\"data row2 col11\" >4948</td>\n",
       "                        <td id=\"T_ceb80_row2_col12\" class=\"data row2 col12\" >359.52</td>\n",
       "                        <td id=\"T_ceb80_row2_col13\" class=\"data row2 col13\" >0.12</td>\n",
       "                        <td id=\"T_ceb80_row2_col14\" class=\"data row2 col14\" >0.06</td>\n",
       "                        <td id=\"T_ceb80_row2_col15\" class=\"data row2 col15\" >0</td>\n",
       "            </tr>\n",
       "            <tr>\n",
       "                        <th id=\"T_ceb80_level0_row3\" class=\"row_heading level0 row3\" >3</th>\n",
       "                        <td id=\"T_ceb80_row3_col0\" class=\"data row3 col0\" >9</td>\n",
       "                        <td id=\"T_ceb80_row3_col1\" class=\"data row3 col1\" >2021-12-09 23:31:41.798261</td>\n",
       "                        <td id=\"T_ceb80_row3_col2\" class=\"data row3 col2\" >Quantity</td>\n",
       "                        <td id=\"T_ceb80_row3_col3\" class=\"data row3 col3\" >SVDpp</td>\n",
       "                        <td id=\"T_ceb80_row3_col4\" class=\"data row3 col4\" >False</td>\n",
       "                        <td id=\"T_ceb80_row3_col5\" class=\"data row3 col5\" >5</td>\n",
       "                        <td id=\"T_ceb80_row3_col6\" class=\"data row3 col6\" >0.10</td>\n",
       "                        <td id=\"T_ceb80_row3_col7\" class=\"data row3 col7\" >0.14</td>\n",
       "                        <td id=\"T_ceb80_row3_col8\" class=\"data row3 col8\" >0.39</td>\n",
       "                        <td id=\"T_ceb80_row3_col9\" class=\"data row3 col9\" >1935</td>\n",
       "                        <td id=\"T_ceb80_row3_col10\" class=\"data row3 col10\" >1</td>\n",
       "                        <td id=\"T_ceb80_row3_col11\" class=\"data row3 col11\" >4948</td>\n",
       "                        <td id=\"T_ceb80_row3_col12\" class=\"data row3 col12\" >409.98</td>\n",
       "                        <td id=\"T_ceb80_row3_col13\" class=\"data row3 col13\" >0.26</td>\n",
       "                        <td id=\"T_ceb80_row3_col14\" class=\"data row3 col14\" >0.05</td>\n",
       "                        <td id=\"T_ceb80_row3_col15\" class=\"data row3 col15\" >0</td>\n",
       "            </tr>\n",
       "            <tr>\n",
       "                        <th id=\"T_ceb80_level0_row4\" class=\"row_heading level0 row4\" >4</th>\n",
       "                        <td id=\"T_ceb80_row4_col0\" class=\"data row4 col0\" >31</td>\n",
       "                        <td id=\"T_ceb80_row4_col1\" class=\"data row4 col1\" >2021-12-11 23:01:11.634897</td>\n",
       "                        <td id=\"T_ceb80_row4_col2\" class=\"data row4 col2\" >Quantity</td>\n",
       "                        <td id=\"T_ceb80_row4_col3\" class=\"data row4 col3\" >KNNWithMeans</td>\n",
       "                        <td id=\"T_ceb80_row4_col4\" class=\"data row4 col4\" >False</td>\n",
       "                        <td id=\"T_ceb80_row4_col5\" class=\"data row4 col5\" >5</td>\n",
       "                        <td id=\"T_ceb80_row4_col6\" class=\"data row4 col6\" >0.04</td>\n",
       "                        <td id=\"T_ceb80_row4_col7\" class=\"data row4 col7\" >0.06</td>\n",
       "                        <td id=\"T_ceb80_row4_col8\" class=\"data row4 col8\" >0.19</td>\n",
       "                        <td id=\"T_ceb80_row4_col9\" class=\"data row4 col9\" >952</td>\n",
       "                        <td id=\"T_ceb80_row4_col10\" class=\"data row4 col10\" >1</td>\n",
       "                        <td id=\"T_ceb80_row4_col11\" class=\"data row4 col11\" >4948</td>\n",
       "                        <td id=\"T_ceb80_row4_col12\" class=\"data row4 col12\" >285.33</td>\n",
       "                        <td id=\"T_ceb80_row4_col13\" class=\"data row4 col13\" >0.97</td>\n",
       "                        <td id=\"T_ceb80_row4_col14\" class=\"data row4 col14\" >0.25</td>\n",
       "                        <td id=\"T_ceb80_row4_col15\" class=\"data row4 col15\" >0</td>\n",
       "            </tr>\n",
       "            <tr>\n",
       "                        <th id=\"T_ceb80_level0_row5\" class=\"row_heading level0 row5\" >5</th>\n",
       "                        <td id=\"T_ceb80_row5_col0\" class=\"data row5 col0\" >32</td>\n",
       "                        <td id=\"T_ceb80_row5_col1\" class=\"data row5 col1\" >2021-12-12 00:10:54.538804</td>\n",
       "                        <td id=\"T_ceb80_row5_col2\" class=\"data row5 col2\" >Quantity</td>\n",
       "                        <td id=\"T_ceb80_row5_col3\" class=\"data row5 col3\" >KNNWithZScore</td>\n",
       "                        <td id=\"T_ceb80_row5_col4\" class=\"data row5 col4\" >False</td>\n",
       "                        <td id=\"T_ceb80_row5_col5\" class=\"data row5 col5\" >5</td>\n",
       "                        <td id=\"T_ceb80_row5_col6\" class=\"data row5 col6\" >0.04</td>\n",
       "                        <td id=\"T_ceb80_row5_col7\" class=\"data row5 col7\" >0.06</td>\n",
       "                        <td id=\"T_ceb80_row5_col8\" class=\"data row5 col8\" >0.18</td>\n",
       "                        <td id=\"T_ceb80_row5_col9\" class=\"data row5 col9\" >893</td>\n",
       "                        <td id=\"T_ceb80_row5_col10\" class=\"data row5 col10\" >1</td>\n",
       "                        <td id=\"T_ceb80_row5_col11\" class=\"data row5 col11\" >4948</td>\n",
       "                        <td id=\"T_ceb80_row5_col12\" class=\"data row5 col12\" >315.35</td>\n",
       "                        <td id=\"T_ceb80_row5_col13\" class=\"data row5 col13\" >0.95</td>\n",
       "                        <td id=\"T_ceb80_row5_col14\" class=\"data row5 col14\" >0.28</td>\n",
       "                        <td id=\"T_ceb80_row5_col15\" class=\"data row5 col15\" >0</td>\n",
       "            </tr>\n",
       "            <tr>\n",
       "                        <th id=\"T_ceb80_level0_row6\" class=\"row_heading level0 row6\" >6</th>\n",
       "                        <td id=\"T_ceb80_row6_col0\" class=\"data row6 col0\" >37</td>\n",
       "                        <td id=\"T_ceb80_row6_col1\" class=\"data row6 col1\" >2022-01-03 14:54:17.867142</td>\n",
       "                        <td id=\"T_ceb80_row6_col2\" class=\"data row6 col2\" >Quantity</td>\n",
       "                        <td id=\"T_ceb80_row6_col3\" class=\"data row6 col3\" >BaselineOnly</td>\n",
       "                        <td id=\"T_ceb80_row6_col4\" class=\"data row6 col4\" >False</td>\n",
       "                        <td id=\"T_ceb80_row6_col5\" class=\"data row6 col5\" >5</td>\n",
       "                        <td id=\"T_ceb80_row6_col6\" class=\"data row6 col6\" >0.07</td>\n",
       "                        <td id=\"T_ceb80_row6_col7\" class=\"data row6 col7\" >0.10</td>\n",
       "                        <td id=\"T_ceb80_row6_col8\" class=\"data row6 col8\" >0.29</td>\n",
       "                        <td id=\"T_ceb80_row6_col9\" class=\"data row6 col9\" >1455</td>\n",
       "                        <td id=\"T_ceb80_row6_col10\" class=\"data row6 col10\" >1</td>\n",
       "                        <td id=\"T_ceb80_row6_col11\" class=\"data row6 col11\" >4948</td>\n",
       "                        <td id=\"T_ceb80_row6_col12\" class=\"data row6 col12\" >418.78</td>\n",
       "                        <td id=\"T_ceb80_row6_col13\" class=\"data row6 col13\" >0.03</td>\n",
       "                        <td id=\"T_ceb80_row6_col14\" class=\"data row6 col14\" >0.04</td>\n",
       "                        <td id=\"T_ceb80_row6_col15\" class=\"data row6 col15\" >0</td>\n",
       "            </tr>\n",
       "    </tbody></table>"
      ],
      "text/plain": [
       "<pandas.io.formats.style.Styler at 0x21497a39820>"
      ]
     },
     "execution_count": 114,
     "metadata": {},
     "output_type": "execute_result"
    }
   ],
   "source": [
    "surprise_train=train_log1[train_log1['Leave_one_out']==False]\n",
    "#Evaluation Runs using Quantity data\n",
    "results_max=evaluation_log[(evaluation_log['Data']=='Quantity') & (evaluation_log['Leave_one_out']==False) & \n",
    "                            (evaluation_log['Algo']!='LightFM')].reset_index()\n",
    "results_max.style\\\n",
    " .format('{:.2f}',subset=['Precision@N','Recall@N','Hit_rate','Compute_time', 'Unique_TopN','Unique_Products'])\\\n",
    " .set_properties(**{'background-color': 'pink'}, subset=['Hit_rate'])                         "
   ]
  },
  {
   "cell_type": "code",
   "execution_count": 115,
   "metadata": {
    "cell_id": "00047-0203908a-0916-4ee3-8801-df6f90eb3842",
    "deepnote_cell_type": "code",
    "deepnote_output_heights": [
     326.53125
    ],
    "deepnote_to_be_reexecuted": false,
    "execution_millis": 21,
    "execution_start": 1640614494433,
    "output_cleared": true,
    "source_hash": "3a9ce255",
    "tags": []
   },
   "outputs": [
    {
     "data": {
      "text/plain": [
       "index                                       8\n",
       "Date               2021-12-09 23:10:18.561622\n",
       "Data                                 Quantity\n",
       "Algo                                      SVD\n",
       "Leave_one_out                           False\n",
       "N                                           5\n",
       "Precision@N                              0.11\n",
       "Recall@N                                 0.17\n",
       "Hit_rate                                 0.45\n",
       "Hits                                     2210\n",
       "Hit_threshold                               1\n",
       "Count_customers                          4948\n",
       "Compute_time                           359.52\n",
       "Unique_TopN                             0.121\n",
       "Unique_Products                          0.06\n",
       "LOO_Rate                                    0\n",
       "Name: 0, dtype: object"
      ]
     },
     "execution_count": 115,
     "metadata": {},
     "output_type": "execute_result"
    }
   ],
   "source": [
    "#Best Run\n",
    "evaluation_log[(evaluation_log['Data']=='Quantity') & (evaluation_log['Leave_one_out']==False) & (evaluation_log['Algo']=='SVD')].reset_index().squeeze()"
   ]
  },
  {
   "cell_type": "code",
   "execution_count": 116,
   "metadata": {
    "cell_id": "00046-ee275ff1-4c79-4a98-bfab-c0245ae4d54f",
    "deepnote_cell_type": "code",
    "deepnote_to_be_reexecuted": false,
    "execution_millis": 0,
    "execution_start": 1640613586213,
    "output_cleared": true,
    "source_hash": "c2fc6780",
    "tags": []
   },
   "outputs": [],
   "source": [
    "#find highest Hit Rate index\n",
    "hhr_index=results_max[(results_max['Hit_rate']==0.45) & (results_max['Data']=='Quantity')].index[0]"
   ]
  },
  {
   "cell_type": "code",
   "execution_count": 117,
   "metadata": {
    "cell_id": "00045-698ef1d0-c5c4-4829-9d1a-dc1e9ce0a29b",
    "deepnote_cell_type": "code",
    "deepnote_output_heights": [
     211.984375
    ],
    "deepnote_to_be_reexecuted": false,
    "execution_millis": 2,
    "execution_start": 1640613606625,
    "output_cleared": true,
    "source_hash": "e33f2b2c",
    "tags": []
   },
   "outputs": [
    {
     "data": {
      "text/plain": [
       "index                                                              4\n",
       "Date                                      2021-12-09 23:10:18.333972\n",
       "Data                                                        Quantity\n",
       "Algo                                                             SVD\n",
       "Tunning                                           RandomizedSearchCV\n",
       "Tunning_time                                                 0.51004\n",
       "Best_parameters    {'n_factors': 20, 'n_epochs': 5, 'lr_all': 0.0...\n",
       "Tunning_RMSE                                               26.902606\n",
       "Train_time                                                     27.69\n",
       "Leave_one_out                                                  False\n",
       "Name: 3, dtype: object"
      ]
     },
     "execution_count": 117,
     "metadata": {},
     "output_type": "execute_result"
    }
   ],
   "source": [
    "#Training Runs using Quantity data \n",
    "run_details=surprise_train.loc[(surprise_train['Data']=='Quantity')].reset_index().loc[hhr_index+1]\n",
    "run_details"
   ]
  },
  {
   "cell_type": "code",
   "execution_count": 118,
   "metadata": {
    "cell_id": "00048-795ef500-8056-4e8c-8976-bad53361ead8",
    "deepnote_cell_type": "code",
    "deepnote_output_heights": [
     21.078125
    ],
    "deepnote_to_be_reexecuted": false,
    "execution_millis": 11,
    "execution_start": 1640613683912,
    "output_cleared": true,
    "source_hash": "3e14017d",
    "tags": []
   },
   "outputs": [
    {
     "data": {
      "text/plain": [
       "{'n_factors': 20, 'n_epochs': 5, 'lr_all': 0.0001, 'reg_all': 0.4}"
      ]
     },
     "execution_count": 118,
     "metadata": {},
     "output_type": "execute_result"
    }
   ],
   "source": [
    "run_details['Best_parameters']\n"
   ]
  },
  {
   "cell_type": "markdown",
   "metadata": {
    "cell_id": "00050-2bc00176-50a3-49de-9317-fa17c2e226f6",
    "deepnote_cell_type": "markdown",
    "tags": []
   },
   "source": [
    " ***\n",
    "**Singular Value Decomposition (SVD)**, a matrix factorization technique, combined with the Quantity data, outperformed by far the other models,\n",
    "with a Hit Rate of 0.45. Precision (0.11) and Recall(0.17) does not look that promising, with uniqueness rates(Unique Recommendations per User:0.12 and Products in Recommendations:0.6)rather low as well.\n",
    "\n",
    "Furthermore, Surprise's best run did not reach LighFM’s 0.6 Hit Rate score.\n",
    "***"
   ]
  },
  {
   "cell_type": "markdown",
   "metadata": {
    "cell_id": "00052-3d8e50e1-0d1e-484e-a759-d551ef1643d4",
    "deepnote_cell_type": "markdown",
    "tags": []
   },
   "source": [
    "##### Lowest Rate Run Details:"
   ]
  },
  {
   "cell_type": "code",
   "execution_count": 119,
   "metadata": {
    "cell_id": "00052-35935e82-7581-499e-8f5e-7ab531a80507",
    "deepnote_cell_type": "code",
    "deepnote_output_heights": [
     193.8125
    ],
    "deepnote_to_be_reexecuted": false,
    "execution_millis": 166,
    "execution_start": 1640614766864,
    "source_hash": "615feba3",
    "tags": []
   },
   "outputs": [
    {
     "data": {
      "text/html": [
       "<style  type=\"text/css\" >\n",
       "#T_cc49a_row0_col0,#T_cc49a_row0_col1,#T_cc49a_row0_col2,#T_cc49a_row0_col3,#T_cc49a_row3_col0,#T_cc49a_row3_col1,#T_cc49a_row3_col2{\n",
       "            background-color:  lightgreen;\n",
       "        }#T_cc49a_row0_col4,#T_cc49a_row1_col4,#T_cc49a_row2_col4,#T_cc49a_row3_col4{\n",
       "            background-color:  lightgreen;\n",
       "            background-color:  coral;\n",
       "        }#T_cc49a_row1_col0,#T_cc49a_row1_col1,#T_cc49a_row1_col2,#T_cc49a_row2_col3{\n",
       "            background-color:  coral;\n",
       "        }</style><table id=\"T_cc49a_\" ><thead>    <tr>        <th class=\"blank level0\" ></th>        <th class=\"col_heading level0 col0\" >Precision@N</th>        <th class=\"col_heading level0 col1\" >Recall@N</th>        <th class=\"col_heading level0 col2\" >Hit_rate</th>        <th class=\"col_heading level0 col3\" >Unique_TopN</th>        <th class=\"col_heading level0 col4\" >Unique_Products</th>    </tr>    <tr>        <th class=\"blank level1\" ></th>        <th class=\"col_heading level1 col0\" >min</th>        <th class=\"col_heading level1 col1\" >min</th>        <th class=\"col_heading level1 col2\" >min</th>        <th class=\"col_heading level1 col3\" >min</th>        <th class=\"col_heading level1 col4\" >min</th>    </tr>    <tr>        <th class=\"index_name level0\" >Data</th>        <th class=\"blank\" ></th>        <th class=\"blank\" ></th>        <th class=\"blank\" ></th>        <th class=\"blank\" ></th>        <th class=\"blank\" ></th>    </tr></thead><tbody>\n",
       "                <tr>\n",
       "                        <th id=\"T_cc49a_level0_row0\" class=\"row_heading level0 row0\" >Frequency1</th>\n",
       "                        <td id=\"T_cc49a_row0_col0\" class=\"data row0 col0\" >0.06</td>\n",
       "                        <td id=\"T_cc49a_row0_col1\" class=\"data row0 col1\" >0.10</td>\n",
       "                        <td id=\"T_cc49a_row0_col2\" class=\"data row0 col2\" >0.28</td>\n",
       "                        <td id=\"T_cc49a_row0_col3\" class=\"data row0 col3\" >0.03</td>\n",
       "                        <td id=\"T_cc49a_row0_col4\" class=\"data row0 col4\" >0.04</td>\n",
       "            </tr>\n",
       "            <tr>\n",
       "                        <th id=\"T_cc49a_level0_row1\" class=\"row_heading level0 row1\" >Frequency2</th>\n",
       "                        <td id=\"T_cc49a_row1_col0\" class=\"data row1 col0\" >0.02</td>\n",
       "                        <td id=\"T_cc49a_row1_col1\" class=\"data row1 col1\" >0.02</td>\n",
       "                        <td id=\"T_cc49a_row1_col2\" class=\"data row1 col2\" >0.08</td>\n",
       "                        <td id=\"T_cc49a_row1_col3\" class=\"data row1 col3\" >0.02</td>\n",
       "                        <td id=\"T_cc49a_row1_col4\" class=\"data row1 col4\" >0.04</td>\n",
       "            </tr>\n",
       "            <tr>\n",
       "                        <th id=\"T_cc49a_level0_row2\" class=\"row_heading level0 row2\" >Quantity</th>\n",
       "                        <td id=\"T_cc49a_row2_col0\" class=\"data row2 col0\" >0.04</td>\n",
       "                        <td id=\"T_cc49a_row2_col1\" class=\"data row2 col1\" >0.06</td>\n",
       "                        <td id=\"T_cc49a_row2_col2\" class=\"data row2 col2\" >0.18</td>\n",
       "                        <td id=\"T_cc49a_row2_col3\" class=\"data row2 col3\" >0.02</td>\n",
       "                        <td id=\"T_cc49a_row2_col4\" class=\"data row2 col4\" >0.04</td>\n",
       "            </tr>\n",
       "            <tr>\n",
       "                        <th id=\"T_cc49a_level0_row3\" class=\"row_heading level0 row3\" >new_Frequency1</th>\n",
       "                        <td id=\"T_cc49a_row3_col0\" class=\"data row3 col0\" >0.06</td>\n",
       "                        <td id=\"T_cc49a_row3_col1\" class=\"data row3 col1\" >0.10</td>\n",
       "                        <td id=\"T_cc49a_row3_col2\" class=\"data row3 col2\" >0.28</td>\n",
       "                        <td id=\"T_cc49a_row3_col3\" class=\"data row3 col3\" >0.03</td>\n",
       "                        <td id=\"T_cc49a_row3_col4\" class=\"data row3 col4\" >0.04</td>\n",
       "            </tr>\n",
       "    </tbody></table>"
      ],
      "text/plain": [
       "<pandas.io.formats.style.Styler at 0x21498451820>"
      ]
     },
     "execution_count": 119,
     "metadata": {},
     "output_type": "execute_result"
    }
   ],
   "source": [
    "#Lowest Rates Surprise Run\n",
    "data_min=data_max_min[data_max_min.columns[:][[0,2,4,6,8]]].style\\\n",
    "      .format('{:.2f}')\\\n",
    "      .highlight_max(color = 'lightgreen')\\\n",
    "      .highlight_min(color = 'coral')\\\n",
    "      .highlight_null(null_color='yellow')\n",
    "data_min\n"
   ]
  },
  {
   "cell_type": "code",
   "execution_count": 120,
   "metadata": {
    "cell_id": "00054-e14918de-2df3-4bef-be66-2c7d428324c6",
    "deepnote_cell_type": "code",
    "deepnote_to_be_reexecuted": false,
    "execution_millis": 97,
    "execution_start": 1640614833609,
    "source_hash": "fce5e03e",
    "tags": []
   },
   "outputs": [
    {
     "data": {
      "text/html": [
       "<style  type=\"text/css\" >\n",
       "#T_6f803_row0_col8,#T_6f803_row1_col8,#T_6f803_row2_col8,#T_6f803_row3_col8,#T_6f803_row4_col8,#T_6f803_row5_col8{\n",
       "            background-color:  pink;\n",
       "        }</style><table id=\"T_6f803_\" ><thead>    <tr>        <th class=\"blank level0\" ></th>        <th class=\"col_heading level0 col0\" >index</th>        <th class=\"col_heading level0 col1\" >Date</th>        <th class=\"col_heading level0 col2\" >Data</th>        <th class=\"col_heading level0 col3\" >Algo</th>        <th class=\"col_heading level0 col4\" >Leave_one_out</th>        <th class=\"col_heading level0 col5\" >N</th>        <th class=\"col_heading level0 col6\" >Precision@N</th>        <th class=\"col_heading level0 col7\" >Recall@N</th>        <th class=\"col_heading level0 col8\" >Hit_rate</th>        <th class=\"col_heading level0 col9\" >Hits</th>        <th class=\"col_heading level0 col10\" >Hit_threshold</th>        <th class=\"col_heading level0 col11\" >Count_customers</th>        <th class=\"col_heading level0 col12\" >Compute_time</th>        <th class=\"col_heading level0 col13\" >Unique_TopN</th>        <th class=\"col_heading level0 col14\" >Unique_Products</th>        <th class=\"col_heading level0 col15\" >LOO_Rate</th>    </tr></thead><tbody>\n",
       "                <tr>\n",
       "                        <th id=\"T_6f803_level0_row0\" class=\"row_heading level0 row0\" >0</th>\n",
       "                        <td id=\"T_6f803_row0_col0\" class=\"data row0 col0\" >17</td>\n",
       "                        <td id=\"T_6f803_row0_col1\" class=\"data row0 col1\" >2021-12-10 10:25:57.686828</td>\n",
       "                        <td id=\"T_6f803_row0_col2\" class=\"data row0 col2\" >Frequency2</td>\n",
       "                        <td id=\"T_6f803_row0_col3\" class=\"data row0 col3\" >SVD</td>\n",
       "                        <td id=\"T_6f803_row0_col4\" class=\"data row0 col4\" >False</td>\n",
       "                        <td id=\"T_6f803_row0_col5\" class=\"data row0 col5\" >5</td>\n",
       "                        <td id=\"T_6f803_row0_col6\" class=\"data row0 col6\" >0.04</td>\n",
       "                        <td id=\"T_6f803_row0_col7\" class=\"data row0 col7\" >0.07</td>\n",
       "                        <td id=\"T_6f803_row0_col8\" class=\"data row0 col8\" >0.20</td>\n",
       "                        <td id=\"T_6f803_row0_col9\" class=\"data row0 col9\" >988</td>\n",
       "                        <td id=\"T_6f803_row0_col10\" class=\"data row0 col10\" >1</td>\n",
       "                        <td id=\"T_6f803_row0_col11\" class=\"data row0 col11\" >4948</td>\n",
       "                        <td id=\"T_6f803_row0_col12\" class=\"data row0 col12\" >287.51</td>\n",
       "                        <td id=\"T_6f803_row0_col13\" class=\"data row0 col13\" >0.32</td>\n",
       "                        <td id=\"T_6f803_row0_col14\" class=\"data row0 col14\" >0.08</td>\n",
       "                        <td id=\"T_6f803_row0_col15\" class=\"data row0 col15\" >0</td>\n",
       "            </tr>\n",
       "            <tr>\n",
       "                        <th id=\"T_6f803_level0_row1\" class=\"row_heading level0 row1\" >1</th>\n",
       "                        <td id=\"T_6f803_row1_col0\" class=\"data row1 col0\" >19</td>\n",
       "                        <td id=\"T_6f803_row1_col1\" class=\"data row1 col1\" >2021-12-10 10:53:04.647927</td>\n",
       "                        <td id=\"T_6f803_row1_col2\" class=\"data row1 col2\" >Frequency2</td>\n",
       "                        <td id=\"T_6f803_row1_col3\" class=\"data row1 col3\" >SVDpp</td>\n",
       "                        <td id=\"T_6f803_row1_col4\" class=\"data row1 col4\" >False</td>\n",
       "                        <td id=\"T_6f803_row1_col5\" class=\"data row1 col5\" >5</td>\n",
       "                        <td id=\"T_6f803_row1_col6\" class=\"data row1 col6\" >0.04</td>\n",
       "                        <td id=\"T_6f803_row1_col7\" class=\"data row1 col7\" >0.07</td>\n",
       "                        <td id=\"T_6f803_row1_col8\" class=\"data row1 col8\" >0.20</td>\n",
       "                        <td id=\"T_6f803_row1_col9\" class=\"data row1 col9\" >998</td>\n",
       "                        <td id=\"T_6f803_row1_col10\" class=\"data row1 col10\" >1</td>\n",
       "                        <td id=\"T_6f803_row1_col11\" class=\"data row1 col11\" >4948</td>\n",
       "                        <td id=\"T_6f803_row1_col12\" class=\"data row1 col12\" >416.96</td>\n",
       "                        <td id=\"T_6f803_row1_col13\" class=\"data row1 col13\" >0.13</td>\n",
       "                        <td id=\"T_6f803_row1_col14\" class=\"data row1 col14\" >0.05</td>\n",
       "                        <td id=\"T_6f803_row1_col15\" class=\"data row1 col15\" >0</td>\n",
       "            </tr>\n",
       "            <tr>\n",
       "                        <th id=\"T_6f803_level0_row2\" class=\"row_heading level0 row2\" >2</th>\n",
       "                        <td id=\"T_6f803_row2_col0\" class=\"data row2 col0\" >22</td>\n",
       "                        <td id=\"T_6f803_row2_col1\" class=\"data row2 col1\" >2021-12-10 11:30:12.462376</td>\n",
       "                        <td id=\"T_6f803_row2_col2\" class=\"data row2 col2\" >Frequency2</td>\n",
       "                        <td id=\"T_6f803_row2_col3\" class=\"data row2 col3\" >BaselineOnly</td>\n",
       "                        <td id=\"T_6f803_row2_col4\" class=\"data row2 col4\" >False</td>\n",
       "                        <td id=\"T_6f803_row2_col5\" class=\"data row2 col5\" >5</td>\n",
       "                        <td id=\"T_6f803_row2_col6\" class=\"data row2 col6\" >0.05</td>\n",
       "                        <td id=\"T_6f803_row2_col7\" class=\"data row2 col7\" >0.08</td>\n",
       "                        <td id=\"T_6f803_row2_col8\" class=\"data row2 col8\" >0.23</td>\n",
       "                        <td id=\"T_6f803_row2_col9\" class=\"data row2 col9\" >1158</td>\n",
       "                        <td id=\"T_6f803_row2_col10\" class=\"data row2 col10\" >1</td>\n",
       "                        <td id=\"T_6f803_row2_col11\" class=\"data row2 col11\" >4948</td>\n",
       "                        <td id=\"T_6f803_row2_col12\" class=\"data row2 col12\" >308.93</td>\n",
       "                        <td id=\"T_6f803_row2_col13\" class=\"data row2 col13\" >0.02</td>\n",
       "                        <td id=\"T_6f803_row2_col14\" class=\"data row2 col14\" >0.04</td>\n",
       "                        <td id=\"T_6f803_row2_col15\" class=\"data row2 col15\" >0</td>\n",
       "            </tr>\n",
       "            <tr>\n",
       "                        <th id=\"T_6f803_level0_row3\" class=\"row_heading level0 row3\" >3</th>\n",
       "                        <td id=\"T_6f803_row3_col0\" class=\"data row3 col0\" >28</td>\n",
       "                        <td id=\"T_6f803_row3_col1\" class=\"data row3 col1\" >2021-12-11 18:55:50.400510</td>\n",
       "                        <td id=\"T_6f803_row3_col2\" class=\"data row3 col2\" >Frequency2</td>\n",
       "                        <td id=\"T_6f803_row3_col3\" class=\"data row3 col3\" >NMF</td>\n",
       "                        <td id=\"T_6f803_row3_col4\" class=\"data row3 col4\" >False</td>\n",
       "                        <td id=\"T_6f803_row3_col5\" class=\"data row3 col5\" >5</td>\n",
       "                        <td id=\"T_6f803_row3_col6\" class=\"data row3 col6\" >0.02</td>\n",
       "                        <td id=\"T_6f803_row3_col7\" class=\"data row3 col7\" >0.02</td>\n",
       "                        <td id=\"T_6f803_row3_col8\" class=\"data row3 col8\" >0.08</td>\n",
       "                        <td id=\"T_6f803_row3_col9\" class=\"data row3 col9\" >399</td>\n",
       "                        <td id=\"T_6f803_row3_col10\" class=\"data row3 col10\" >1</td>\n",
       "                        <td id=\"T_6f803_row3_col11\" class=\"data row3 col11\" >4948</td>\n",
       "                        <td id=\"T_6f803_row3_col12\" class=\"data row3 col12\" >349.36</td>\n",
       "                        <td id=\"T_6f803_row3_col13\" class=\"data row3 col13\" >0.49</td>\n",
       "                        <td id=\"T_6f803_row3_col14\" class=\"data row3 col14\" >0.10</td>\n",
       "                        <td id=\"T_6f803_row3_col15\" class=\"data row3 col15\" >0</td>\n",
       "            </tr>\n",
       "            <tr>\n",
       "                        <th id=\"T_6f803_level0_row4\" class=\"row_heading level0 row4\" >4</th>\n",
       "                        <td id=\"T_6f803_row4_col0\" class=\"data row4 col0\" >29</td>\n",
       "                        <td id=\"T_6f803_row4_col1\" class=\"data row4 col1\" >2021-12-11 20:56:51.575227</td>\n",
       "                        <td id=\"T_6f803_row4_col2\" class=\"data row4 col2\" >Frequency2</td>\n",
       "                        <td id=\"T_6f803_row4_col3\" class=\"data row4 col3\" >KNNWithZScore</td>\n",
       "                        <td id=\"T_6f803_row4_col4\" class=\"data row4 col4\" >False</td>\n",
       "                        <td id=\"T_6f803_row4_col5\" class=\"data row4 col5\" >5</td>\n",
       "                        <td id=\"T_6f803_row4_col6\" class=\"data row4 col6\" >0.04</td>\n",
       "                        <td id=\"T_6f803_row4_col7\" class=\"data row4 col7\" >0.06</td>\n",
       "                        <td id=\"T_6f803_row4_col8\" class=\"data row4 col8\" >0.17</td>\n",
       "                        <td id=\"T_6f803_row4_col9\" class=\"data row4 col9\" >859</td>\n",
       "                        <td id=\"T_6f803_row4_col10\" class=\"data row4 col10\" >1</td>\n",
       "                        <td id=\"T_6f803_row4_col11\" class=\"data row4 col11\" >4948</td>\n",
       "                        <td id=\"T_6f803_row4_col12\" class=\"data row4 col12\" >335.04</td>\n",
       "                        <td id=\"T_6f803_row4_col13\" class=\"data row4 col13\" >0.98</td>\n",
       "                        <td id=\"T_6f803_row4_col14\" class=\"data row4 col14\" >0.30</td>\n",
       "                        <td id=\"T_6f803_row4_col15\" class=\"data row4 col15\" >0</td>\n",
       "            </tr>\n",
       "            <tr>\n",
       "                        <th id=\"T_6f803_level0_row5\" class=\"row_heading level0 row5\" >5</th>\n",
       "                        <td id=\"T_6f803_row5_col0\" class=\"data row5 col0\" >30</td>\n",
       "                        <td id=\"T_6f803_row5_col1\" class=\"data row5 col1\" >2021-12-11 22:04:07.415871</td>\n",
       "                        <td id=\"T_6f803_row5_col2\" class=\"data row5 col2\" >Frequency2</td>\n",
       "                        <td id=\"T_6f803_row5_col3\" class=\"data row5 col3\" >KNNWithMeans</td>\n",
       "                        <td id=\"T_6f803_row5_col4\" class=\"data row5 col4\" >False</td>\n",
       "                        <td id=\"T_6f803_row5_col5\" class=\"data row5 col5\" >5</td>\n",
       "                        <td id=\"T_6f803_row5_col6\" class=\"data row5 col6\" >0.03</td>\n",
       "                        <td id=\"T_6f803_row5_col7\" class=\"data row5 col7\" >0.05</td>\n",
       "                        <td id=\"T_6f803_row5_col8\" class=\"data row5 col8\" >0.16</td>\n",
       "                        <td id=\"T_6f803_row5_col9\" class=\"data row5 col9\" >791</td>\n",
       "                        <td id=\"T_6f803_row5_col10\" class=\"data row5 col10\" >1</td>\n",
       "                        <td id=\"T_6f803_row5_col11\" class=\"data row5 col11\" >4948</td>\n",
       "                        <td id=\"T_6f803_row5_col12\" class=\"data row5 col12\" >364.25</td>\n",
       "                        <td id=\"T_6f803_row5_col13\" class=\"data row5 col13\" >0.97</td>\n",
       "                        <td id=\"T_6f803_row5_col14\" class=\"data row5 col14\" >0.25</td>\n",
       "                        <td id=\"T_6f803_row5_col15\" class=\"data row5 col15\" >0</td>\n",
       "            </tr>\n",
       "    </tbody></table>"
      ],
      "text/plain": [
       "<pandas.io.formats.style.Styler at 0x21497f5d9a0>"
      ]
     },
     "execution_count": 120,
     "metadata": {},
     "output_type": "execute_result"
    }
   ],
   "source": [
    "# surprise_train=train_log1[train_log1['Leave_one_out']==False]\n",
    "#Evaluation Runs using Quantity data\n",
    "results_min=evaluation_log[(evaluation_log['Data']=='Frequency2') & (evaluation_log['Leave_one_out']==False) & \n",
    "                            (evaluation_log['Algo']!='LightFM')].reset_index()\n",
    "results_min.style\\\n",
    " .format('{:.2f}',subset=['Precision@N','Recall@N','Hit_rate','Compute_time', 'Unique_TopN','Unique_Products'])\\\n",
    " .set_properties(**{'background-color': 'pink'}, subset=['Hit_rate'])                           "
   ]
  },
  {
   "cell_type": "code",
   "execution_count": 121,
   "metadata": {
    "cell_id": "00055-e7adb2aa-4e6a-4cf7-840f-011e724ea24b",
    "deepnote_cell_type": "code",
    "deepnote_output_heights": [
     326.53125
    ],
    "deepnote_to_be_reexecuted": false,
    "execution_millis": 33,
    "execution_start": 1640614905394,
    "source_hash": "58b41308",
    "tags": []
   },
   "outputs": [
    {
     "data": {
      "text/plain": [
       "Date               2021-12-11 18:55:50.400510\n",
       "Data                               Frequency2\n",
       "Algo                                      NMF\n",
       "Leave_one_out                           False\n",
       "N                                           5\n",
       "Precision@N                              0.02\n",
       "Recall@N                                 0.02\n",
       "Hit_rate                                 0.08\n",
       "Hits                                      399\n",
       "Hit_threshold                               1\n",
       "Count_customers                          4948\n",
       "Compute_time                           349.36\n",
       "Unique_TopN                             0.488\n",
       "Unique_Products                           0.1\n",
       "LOO_Rate                                    0\n",
       "Name: 28, dtype: object"
      ]
     },
     "execution_count": 121,
     "metadata": {},
     "output_type": "execute_result"
    }
   ],
   "source": [
    "#Lowest Performing Run\n",
    "evaluation_log[(evaluation_log['Data']=='Frequency2') & (evaluation_log['Leave_one_out']==False) & (evaluation_log['Algo']=='NMF')].squeeze()"
   ]
  },
  {
   "cell_type": "code",
   "execution_count": 122,
   "metadata": {
    "cell_id": "00056-1c5bcdde-3112-443a-809f-43034b3593d6",
    "deepnote_cell_type": "code",
    "tags": []
   },
   "outputs": [],
   "source": [
    "#find lowest Hit Rate index\n",
    "hhr_index=results_min[(results_min['Hit_rate']==0.08) & (results_min['Data']=='Frequency2')].index[0]"
   ]
  },
  {
   "cell_type": "code",
   "execution_count": 123,
   "metadata": {
    "cell_id": "00057-70d66e8b-c6cf-4e0e-8b90-be65c8904224",
    "deepnote_cell_type": "code",
    "deepnote_output_heights": [
     211.984375
    ],
    "deepnote_to_be_reexecuted": false,
    "execution_millis": 2,
    "execution_start": 1640614999365,
    "source_hash": "c05213d0",
    "tags": []
   },
   "outputs": [
    {
     "data": {
      "text/plain": [
       "index                                            17\n",
       "Date                     2021-12-11 18:55:50.259168\n",
       "Data                                     Frequency2\n",
       "Algo                                            NMF\n",
       "Tunning                          RandomizedSearchCV\n",
       "Tunning_time                               0.774559\n",
       "Best_parameters    {'n_factors': 30, 'n_epochs': 5}\n",
       "Tunning_RMSE                               8.647956\n",
       "Train_time                                    24.81\n",
       "Leave_one_out                                 False\n",
       "Name: 3, dtype: object"
      ]
     },
     "execution_count": 123,
     "metadata": {},
     "output_type": "execute_result"
    }
   ],
   "source": [
    "#Training Runs using Quantity data \n",
    "run_details=surprise_train.loc[(surprise_train['Data']=='Frequency2')].reset_index().loc[hhr_index]\n",
    "run_details"
   ]
  },
  {
   "cell_type": "code",
   "execution_count": 124,
   "metadata": {
    "cell_id": "00058-b0386d7d-b076-4aa7-9c16-972f8bfa8a19",
    "deepnote_cell_type": "code",
    "deepnote_output_heights": [
     78.34375
    ],
    "deepnote_to_be_reexecuted": false,
    "execution_millis": 12,
    "execution_start": 1640615025270,
    "source_hash": "8ecdd1f8",
    "tags": []
   },
   "outputs": [
    {
     "data": {
      "text/plain": [
       "{'n_factors': 30, 'n_epochs': 5}"
      ]
     },
     "execution_count": 124,
     "metadata": {},
     "output_type": "execute_result"
    }
   ],
   "source": [
    "run_details['Best_parameters']"
   ]
  },
  {
   "cell_type": "markdown",
   "metadata": {
    "cell_id": "00059-cafec264-e5c4-42a1-9c3f-6e0d549ec138",
    "deepnote_cell_type": "markdown",
    "tags": []
   },
   "source": [
    " ***\n",
    "**Non-Negative Matrix Factorization (NMF)**, also, a matrix factorization technique which accepts only positive and non-zero values, using Frequency2 data underperformed tremendously! A Hit Rate of 0.08, Precision, Recall, also very low and only an Unique Recommendations Per User Rate to 0.5 being relatively high, this was not what we are looking for!\n",
    "***"
   ]
  },
  {
   "cell_type": "markdown",
   "metadata": {
    "cell_id": "00061-49f0d1e4-2630-4ad3-97b1-9b11422c8d2b",
    "deepnote_cell_type": "markdown",
    "tags": []
   },
   "source": [
    "#### LightFM or Surprise \n",
    "(Final Comparison)"
   ]
  },
  {
   "cell_type": "code",
   "execution_count": 125,
   "metadata": {
    "cell_id": "00059-97ef3209-d571-4a08-bd9f-8c99d4f288e6",
    "deepnote_cell_type": "code",
    "deepnote_to_be_reexecuted": false,
    "execution_millis": 347,
    "execution_start": 1640616279461,
    "source_hash": "51ed32f8",
    "tags": []
   },
   "outputs": [
    {
     "data": {
      "text/html": [
       "<style  type=\"text/css\" >\n",
       "#T_d29bd_row0_col8,#T_d29bd_row1_col8{\n",
       "            background-color:  pink;\n",
       "        }</style><table id=\"T_d29bd_\" ><thead>    <tr>        <th class=\"blank level0\" ></th>        <th class=\"col_heading level0 col0\" >index</th>        <th class=\"col_heading level0 col1\" >Date</th>        <th class=\"col_heading level0 col2\" >Data</th>        <th class=\"col_heading level0 col3\" >Algo</th>        <th class=\"col_heading level0 col4\" >Leave_one_out</th>        <th class=\"col_heading level0 col5\" >N</th>        <th class=\"col_heading level0 col6\" >Precision@N</th>        <th class=\"col_heading level0 col7\" >Recall@N</th>        <th class=\"col_heading level0 col8\" >Hit_rate</th>        <th class=\"col_heading level0 col9\" >Hits</th>        <th class=\"col_heading level0 col10\" >Hit_threshold</th>        <th class=\"col_heading level0 col11\" >Count_customers</th>        <th class=\"col_heading level0 col12\" >Compute_time</th>        <th class=\"col_heading level0 col13\" >Unique_TopN</th>        <th class=\"col_heading level0 col14\" >Unique_Products</th>        <th class=\"col_heading level0 col15\" >LOO_Rate</th>    </tr></thead><tbody>\n",
       "                <tr>\n",
       "                        <th id=\"T_d29bd_level0_row0\" class=\"row_heading level0 row0\" >0</th>\n",
       "                        <td id=\"T_d29bd_row0_col0\" class=\"data row0 col0\" >5</td>\n",
       "                        <td id=\"T_d29bd_row0_col1\" class=\"data row0 col1\" >2021-12-09 20:16:26.641952</td>\n",
       "                        <td id=\"T_d29bd_row0_col2\" class=\"data row0 col2\" >Quantity</td>\n",
       "                        <td id=\"T_d29bd_row0_col3\" class=\"data row0 col3\" >LightFM</td>\n",
       "                        <td id=\"T_d29bd_row0_col4\" class=\"data row0 col4\" >False</td>\n",
       "                        <td id=\"T_d29bd_row0_col5\" class=\"data row0 col5\" >5</td>\n",
       "                        <td id=\"T_d29bd_row0_col6\" class=\"data row0 col6\" >0.50</td>\n",
       "                        <td id=\"T_d29bd_row0_col7\" class=\"data row0 col7\" >0.38</td>\n",
       "                        <td id=\"T_d29bd_row0_col8\" class=\"data row0 col8\" >0.60</td>\n",
       "                        <td id=\"T_d29bd_row0_col9\" class=\"data row0 col9\" >2973</td>\n",
       "                        <td id=\"T_d29bd_row0_col10\" class=\"data row0 col10\" >1</td>\n",
       "                        <td id=\"T_d29bd_row0_col11\" class=\"data row0 col11\" >4948</td>\n",
       "                        <td id=\"T_d29bd_row0_col12\" class=\"data row0 col12\" >365.30</td>\n",
       "                        <td id=\"T_d29bd_row0_col13\" class=\"data row0 col13\" >0.99</td>\n",
       "                        <td id=\"T_d29bd_row0_col14\" class=\"data row0 col14\" >0.29</td>\n",
       "                        <td id=\"T_d29bd_row0_col15\" class=\"data row0 col15\" >0</td>\n",
       "            </tr>\n",
       "            <tr>\n",
       "                        <th id=\"T_d29bd_level0_row1\" class=\"row_heading level0 row1\" >1</th>\n",
       "                        <td id=\"T_d29bd_row1_col0\" class=\"data row1 col0\" >13</td>\n",
       "                        <td id=\"T_d29bd_row1_col1\" class=\"data row1 col1\" >2021-12-10 00:35:53.165678</td>\n",
       "                        <td id=\"T_d29bd_row1_col2\" class=\"data row1 col2\" >Frequency2</td>\n",
       "                        <td id=\"T_d29bd_row1_col3\" class=\"data row1 col3\" >LightFM</td>\n",
       "                        <td id=\"T_d29bd_row1_col4\" class=\"data row1 col4\" >False</td>\n",
       "                        <td id=\"T_d29bd_row1_col5\" class=\"data row1 col5\" >5</td>\n",
       "                        <td id=\"T_d29bd_row1_col6\" class=\"data row1 col6\" >0.50</td>\n",
       "                        <td id=\"T_d29bd_row1_col7\" class=\"data row1 col7\" >0.38</td>\n",
       "                        <td id=\"T_d29bd_row1_col8\" class=\"data row1 col8\" >0.60</td>\n",
       "                        <td id=\"T_d29bd_row1_col9\" class=\"data row1 col9\" >2990</td>\n",
       "                        <td id=\"T_d29bd_row1_col10\" class=\"data row1 col10\" >1</td>\n",
       "                        <td id=\"T_d29bd_row1_col11\" class=\"data row1 col11\" >4948</td>\n",
       "                        <td id=\"T_d29bd_row1_col12\" class=\"data row1 col12\" >482.18</td>\n",
       "                        <td id=\"T_d29bd_row1_col13\" class=\"data row1 col13\" >1.00</td>\n",
       "                        <td id=\"T_d29bd_row1_col14\" class=\"data row1 col14\" >0.29</td>\n",
       "                        <td id=\"T_d29bd_row1_col15\" class=\"data row1 col15\" >0</td>\n",
       "            </tr>\n",
       "    </tbody></table>"
      ],
      "text/plain": [
       "<pandas.io.formats.style.Styler at 0x21497a61af0>"
      ]
     },
     "execution_count": 125,
     "metadata": {},
     "output_type": "execute_result"
    }
   ],
   "source": [
    "#LightFM\n",
    "best_light=light[(light['Hit_rate']==light['Hit_rate'].max()) & (light['Leave_one_out']==False)].reset_index()\n",
    "best_light.style\\\n",
    " .format('{:.2f}',subset=['Precision@N','Recall@N','Hit_rate','Compute_time', 'Unique_TopN','Unique_Products'])\\\n",
    " .set_properties(**{'background-color': 'pink'}, subset=['Hit_rate'])"
   ]
  },
  {
   "cell_type": "code",
   "execution_count": 126,
   "metadata": {
    "cell_id": "00060-38514f3b-3b31-4a1c-b35a-4ea73e840c19",
    "deepnote_cell_type": "code",
    "deepnote_output_heights": [
     326.53125
    ],
    "deepnote_to_be_reexecuted": false,
    "execution_millis": 22,
    "execution_start": 1640616267784,
    "source_hash": "8786dc2",
    "tags": []
   },
   "outputs": [
    {
     "data": {
      "text/plain": [
       "index                                       8\n",
       "Date               2021-12-09 23:10:18.561622\n",
       "Data                                 Quantity\n",
       "Algo                                      SVD\n",
       "Leave_one_out                           False\n",
       "N                                           5\n",
       "Precision@N                              0.11\n",
       "Recall@N                                 0.17\n",
       "Hit_rate                                 0.45\n",
       "Hits                                     2210\n",
       "Hit_threshold                               1\n",
       "Count_customers                          4948\n",
       "Compute_time                           359.52\n",
       "Unique_TopN                             0.121\n",
       "Unique_Products                          0.06\n",
       "LOO_Rate                                    0\n",
       "Name: 0, dtype: object"
      ]
     },
     "execution_count": 126,
     "metadata": {},
     "output_type": "execute_result"
    }
   ],
   "source": [
    "#Surprise\n",
    "best_surprise=surprise[(surprise['Hit_rate']==surprise['Hit_rate'].max()) & (surprise['Leave_one_out']==False)].reset_index()\n",
    "best_surprise.squeeze()"
   ]
  },
  {
   "cell_type": "code",
   "execution_count": 127,
   "metadata": {
    "cell_id": "00061-76b1a8bd-5f17-4d15-80c3-c27f0764c075",
    "deepnote_cell_type": "code",
    "deepnote_output_heights": [
     526.984375
    ],
    "deepnote_to_be_reexecuted": false,
    "execution_millis": 64,
    "execution_start": 1640617086586,
    "source_hash": "8a021db0",
    "tags": []
   },
   "outputs": [
    {
     "data": {
      "application/vnd.plotly.v1+json": {
       "config": {
        "plotlyServerURL": "https://plot.ly"
       },
       "data": [
        {
         "fill": "toself",
         "name": "Quantity",
         "r": [
          0.6,
          0.5,
          0.38,
          0.995,
          0.29,
          0.6
         ],
         "theta": [
          "Hit_rate",
          "Precision@N",
          "Recall@N",
          "Unique_TopN",
          "Unique_Products",
          "Hit_rate"
         ],
         "type": "scatterpolar"
        },
        {
         "fill": "toself",
         "name": "Frequency2",
         "r": [
          0.6,
          0.5,
          0.38,
          0.996,
          0.29,
          0.6
         ],
         "theta": [
          "Hit_rate",
          "Precision@N",
          "Recall@N",
          "Unique_TopN",
          "Unique_Products",
          "Hit_rate"
         ],
         "type": "scatterpolar"
        },
        {
         "fill": "toself",
         "name": "Quantity (SVD)",
         "r": [
          0.45,
          0.11,
          0.17,
          0.121,
          0.06,
          0.45
         ],
         "theta": [
          "Hit_rate",
          "Precision@N",
          "Recall@N",
          "Unique_TopN",
          "Unique_Products",
          "Hit_rate"
         ],
         "type": "scatterpolar"
        }
       ],
       "layout": {
        "legend": {
         "title": {
          "text": "Data"
         }
        },
        "polar": {
         "radialaxis": {
          "range": [
           0,
           1.001
          ],
          "visible": true
         }
        },
        "showlegend": true,
        "template": {
         "data": {
          "bar": [
           {
            "error_x": {
             "color": "#2a3f5f"
            },
            "error_y": {
             "color": "#2a3f5f"
            },
            "marker": {
             "line": {
              "color": "#E5ECF6",
              "width": 0.5
             }
            },
            "type": "bar"
           }
          ],
          "barpolar": [
           {
            "marker": {
             "line": {
              "color": "#E5ECF6",
              "width": 0.5
             }
            },
            "type": "barpolar"
           }
          ],
          "carpet": [
           {
            "aaxis": {
             "endlinecolor": "#2a3f5f",
             "gridcolor": "white",
             "linecolor": "white",
             "minorgridcolor": "white",
             "startlinecolor": "#2a3f5f"
            },
            "baxis": {
             "endlinecolor": "#2a3f5f",
             "gridcolor": "white",
             "linecolor": "white",
             "minorgridcolor": "white",
             "startlinecolor": "#2a3f5f"
            },
            "type": "carpet"
           }
          ],
          "choropleth": [
           {
            "colorbar": {
             "outlinewidth": 0,
             "ticks": ""
            },
            "type": "choropleth"
           }
          ],
          "contour": [
           {
            "colorbar": {
             "outlinewidth": 0,
             "ticks": ""
            },
            "colorscale": [
             [
              0,
              "#0d0887"
             ],
             [
              0.1111111111111111,
              "#46039f"
             ],
             [
              0.2222222222222222,
              "#7201a8"
             ],
             [
              0.3333333333333333,
              "#9c179e"
             ],
             [
              0.4444444444444444,
              "#bd3786"
             ],
             [
              0.5555555555555556,
              "#d8576b"
             ],
             [
              0.6666666666666666,
              "#ed7953"
             ],
             [
              0.7777777777777778,
              "#fb9f3a"
             ],
             [
              0.8888888888888888,
              "#fdca26"
             ],
             [
              1,
              "#f0f921"
             ]
            ],
            "type": "contour"
           }
          ],
          "contourcarpet": [
           {
            "colorbar": {
             "outlinewidth": 0,
             "ticks": ""
            },
            "type": "contourcarpet"
           }
          ],
          "heatmap": [
           {
            "colorbar": {
             "outlinewidth": 0,
             "ticks": ""
            },
            "colorscale": [
             [
              0,
              "#0d0887"
             ],
             [
              0.1111111111111111,
              "#46039f"
             ],
             [
              0.2222222222222222,
              "#7201a8"
             ],
             [
              0.3333333333333333,
              "#9c179e"
             ],
             [
              0.4444444444444444,
              "#bd3786"
             ],
             [
              0.5555555555555556,
              "#d8576b"
             ],
             [
              0.6666666666666666,
              "#ed7953"
             ],
             [
              0.7777777777777778,
              "#fb9f3a"
             ],
             [
              0.8888888888888888,
              "#fdca26"
             ],
             [
              1,
              "#f0f921"
             ]
            ],
            "type": "heatmap"
           }
          ],
          "heatmapgl": [
           {
            "colorbar": {
             "outlinewidth": 0,
             "ticks": ""
            },
            "colorscale": [
             [
              0,
              "#0d0887"
             ],
             [
              0.1111111111111111,
              "#46039f"
             ],
             [
              0.2222222222222222,
              "#7201a8"
             ],
             [
              0.3333333333333333,
              "#9c179e"
             ],
             [
              0.4444444444444444,
              "#bd3786"
             ],
             [
              0.5555555555555556,
              "#d8576b"
             ],
             [
              0.6666666666666666,
              "#ed7953"
             ],
             [
              0.7777777777777778,
              "#fb9f3a"
             ],
             [
              0.8888888888888888,
              "#fdca26"
             ],
             [
              1,
              "#f0f921"
             ]
            ],
            "type": "heatmapgl"
           }
          ],
          "histogram": [
           {
            "marker": {
             "colorbar": {
              "outlinewidth": 0,
              "ticks": ""
             }
            },
            "type": "histogram"
           }
          ],
          "histogram2d": [
           {
            "colorbar": {
             "outlinewidth": 0,
             "ticks": ""
            },
            "colorscale": [
             [
              0,
              "#0d0887"
             ],
             [
              0.1111111111111111,
              "#46039f"
             ],
             [
              0.2222222222222222,
              "#7201a8"
             ],
             [
              0.3333333333333333,
              "#9c179e"
             ],
             [
              0.4444444444444444,
              "#bd3786"
             ],
             [
              0.5555555555555556,
              "#d8576b"
             ],
             [
              0.6666666666666666,
              "#ed7953"
             ],
             [
              0.7777777777777778,
              "#fb9f3a"
             ],
             [
              0.8888888888888888,
              "#fdca26"
             ],
             [
              1,
              "#f0f921"
             ]
            ],
            "type": "histogram2d"
           }
          ],
          "histogram2dcontour": [
           {
            "colorbar": {
             "outlinewidth": 0,
             "ticks": ""
            },
            "colorscale": [
             [
              0,
              "#0d0887"
             ],
             [
              0.1111111111111111,
              "#46039f"
             ],
             [
              0.2222222222222222,
              "#7201a8"
             ],
             [
              0.3333333333333333,
              "#9c179e"
             ],
             [
              0.4444444444444444,
              "#bd3786"
             ],
             [
              0.5555555555555556,
              "#d8576b"
             ],
             [
              0.6666666666666666,
              "#ed7953"
             ],
             [
              0.7777777777777778,
              "#fb9f3a"
             ],
             [
              0.8888888888888888,
              "#fdca26"
             ],
             [
              1,
              "#f0f921"
             ]
            ],
            "type": "histogram2dcontour"
           }
          ],
          "mesh3d": [
           {
            "colorbar": {
             "outlinewidth": 0,
             "ticks": ""
            },
            "type": "mesh3d"
           }
          ],
          "parcoords": [
           {
            "line": {
             "colorbar": {
              "outlinewidth": 0,
              "ticks": ""
             }
            },
            "type": "parcoords"
           }
          ],
          "pie": [
           {
            "automargin": true,
            "type": "pie"
           }
          ],
          "scatter": [
           {
            "marker": {
             "colorbar": {
              "outlinewidth": 0,
              "ticks": ""
             }
            },
            "type": "scatter"
           }
          ],
          "scatter3d": [
           {
            "line": {
             "colorbar": {
              "outlinewidth": 0,
              "ticks": ""
             }
            },
            "marker": {
             "colorbar": {
              "outlinewidth": 0,
              "ticks": ""
             }
            },
            "type": "scatter3d"
           }
          ],
          "scattercarpet": [
           {
            "marker": {
             "colorbar": {
              "outlinewidth": 0,
              "ticks": ""
             }
            },
            "type": "scattercarpet"
           }
          ],
          "scattergeo": [
           {
            "marker": {
             "colorbar": {
              "outlinewidth": 0,
              "ticks": ""
             }
            },
            "type": "scattergeo"
           }
          ],
          "scattergl": [
           {
            "marker": {
             "colorbar": {
              "outlinewidth": 0,
              "ticks": ""
             }
            },
            "type": "scattergl"
           }
          ],
          "scattermapbox": [
           {
            "marker": {
             "colorbar": {
              "outlinewidth": 0,
              "ticks": ""
             }
            },
            "type": "scattermapbox"
           }
          ],
          "scatterpolar": [
           {
            "marker": {
             "colorbar": {
              "outlinewidth": 0,
              "ticks": ""
             }
            },
            "type": "scatterpolar"
           }
          ],
          "scatterpolargl": [
           {
            "marker": {
             "colorbar": {
              "outlinewidth": 0,
              "ticks": ""
             }
            },
            "type": "scatterpolargl"
           }
          ],
          "scatterternary": [
           {
            "marker": {
             "colorbar": {
              "outlinewidth": 0,
              "ticks": ""
             }
            },
            "type": "scatterternary"
           }
          ],
          "surface": [
           {
            "colorbar": {
             "outlinewidth": 0,
             "ticks": ""
            },
            "colorscale": [
             [
              0,
              "#0d0887"
             ],
             [
              0.1111111111111111,
              "#46039f"
             ],
             [
              0.2222222222222222,
              "#7201a8"
             ],
             [
              0.3333333333333333,
              "#9c179e"
             ],
             [
              0.4444444444444444,
              "#bd3786"
             ],
             [
              0.5555555555555556,
              "#d8576b"
             ],
             [
              0.6666666666666666,
              "#ed7953"
             ],
             [
              0.7777777777777778,
              "#fb9f3a"
             ],
             [
              0.8888888888888888,
              "#fdca26"
             ],
             [
              1,
              "#f0f921"
             ]
            ],
            "type": "surface"
           }
          ],
          "table": [
           {
            "cells": {
             "fill": {
              "color": "#EBF0F8"
             },
             "line": {
              "color": "white"
             }
            },
            "header": {
             "fill": {
              "color": "#C8D4E3"
             },
             "line": {
              "color": "white"
             }
            },
            "type": "table"
           }
          ]
         },
         "layout": {
          "annotationdefaults": {
           "arrowcolor": "#2a3f5f",
           "arrowhead": 0,
           "arrowwidth": 1
          },
          "autotypenumbers": "strict",
          "coloraxis": {
           "colorbar": {
            "outlinewidth": 0,
            "ticks": ""
           }
          },
          "colorscale": {
           "diverging": [
            [
             0,
             "#8e0152"
            ],
            [
             0.1,
             "#c51b7d"
            ],
            [
             0.2,
             "#de77ae"
            ],
            [
             0.3,
             "#f1b6da"
            ],
            [
             0.4,
             "#fde0ef"
            ],
            [
             0.5,
             "#f7f7f7"
            ],
            [
             0.6,
             "#e6f5d0"
            ],
            [
             0.7,
             "#b8e186"
            ],
            [
             0.8,
             "#7fbc41"
            ],
            [
             0.9,
             "#4d9221"
            ],
            [
             1,
             "#276419"
            ]
           ],
           "sequential": [
            [
             0,
             "#0d0887"
            ],
            [
             0.1111111111111111,
             "#46039f"
            ],
            [
             0.2222222222222222,
             "#7201a8"
            ],
            [
             0.3333333333333333,
             "#9c179e"
            ],
            [
             0.4444444444444444,
             "#bd3786"
            ],
            [
             0.5555555555555556,
             "#d8576b"
            ],
            [
             0.6666666666666666,
             "#ed7953"
            ],
            [
             0.7777777777777778,
             "#fb9f3a"
            ],
            [
             0.8888888888888888,
             "#fdca26"
            ],
            [
             1,
             "#f0f921"
            ]
           ],
           "sequentialminus": [
            [
             0,
             "#0d0887"
            ],
            [
             0.1111111111111111,
             "#46039f"
            ],
            [
             0.2222222222222222,
             "#7201a8"
            ],
            [
             0.3333333333333333,
             "#9c179e"
            ],
            [
             0.4444444444444444,
             "#bd3786"
            ],
            [
             0.5555555555555556,
             "#d8576b"
            ],
            [
             0.6666666666666666,
             "#ed7953"
            ],
            [
             0.7777777777777778,
             "#fb9f3a"
            ],
            [
             0.8888888888888888,
             "#fdca26"
            ],
            [
             1,
             "#f0f921"
            ]
           ]
          },
          "colorway": [
           "#636efa",
           "#EF553B",
           "#00cc96",
           "#ab63fa",
           "#FFA15A",
           "#19d3f3",
           "#FF6692",
           "#B6E880",
           "#FF97FF",
           "#FECB52"
          ],
          "font": {
           "color": "#2a3f5f"
          },
          "geo": {
           "bgcolor": "white",
           "lakecolor": "white",
           "landcolor": "#E5ECF6",
           "showlakes": true,
           "showland": true,
           "subunitcolor": "white"
          },
          "hoverlabel": {
           "align": "left"
          },
          "hovermode": "closest",
          "mapbox": {
           "style": "light"
          },
          "paper_bgcolor": "white",
          "plot_bgcolor": "#E5ECF6",
          "polar": {
           "angularaxis": {
            "gridcolor": "white",
            "linecolor": "white",
            "ticks": ""
           },
           "bgcolor": "#E5ECF6",
           "radialaxis": {
            "gridcolor": "white",
            "linecolor": "white",
            "ticks": ""
           }
          },
          "scene": {
           "xaxis": {
            "backgroundcolor": "#E5ECF6",
            "gridcolor": "white",
            "gridwidth": 2,
            "linecolor": "white",
            "showbackground": true,
            "ticks": "",
            "zerolinecolor": "white"
           },
           "yaxis": {
            "backgroundcolor": "#E5ECF6",
            "gridcolor": "white",
            "gridwidth": 2,
            "linecolor": "white",
            "showbackground": true,
            "ticks": "",
            "zerolinecolor": "white"
           },
           "zaxis": {
            "backgroundcolor": "#E5ECF6",
            "gridcolor": "white",
            "gridwidth": 2,
            "linecolor": "white",
            "showbackground": true,
            "ticks": "",
            "zerolinecolor": "white"
           }
          },
          "shapedefaults": {
           "line": {
            "color": "#2a3f5f"
           }
          },
          "ternary": {
           "aaxis": {
            "gridcolor": "white",
            "linecolor": "white",
            "ticks": ""
           },
           "baxis": {
            "gridcolor": "white",
            "linecolor": "white",
            "ticks": ""
           },
           "bgcolor": "#E5ECF6",
           "caxis": {
            "gridcolor": "white",
            "linecolor": "white",
            "ticks": ""
           }
          },
          "title": {
           "x": 0.05
          },
          "xaxis": {
           "automargin": true,
           "gridcolor": "white",
           "linecolor": "white",
           "ticks": "",
           "title": {
            "standoff": 15
           },
           "zerolinecolor": "white",
           "zerolinewidth": 2
          },
          "yaxis": {
           "automargin": true,
           "gridcolor": "white",
           "linecolor": "white",
           "ticks": "",
           "title": {
            "standoff": 15
           },
           "zerolinecolor": "white",
           "zerolinewidth": 2
          }
         }
        },
        "title": {
         "text": "LightFM VS Suprise Best Runs",
         "x": 0.45,
         "xanchor": "center",
         "y": 0.9,
         "yanchor": "top"
        }
       }
      }
     },
     "metadata": {},
     "output_type": "display_data"
    }
   ],
   "source": [
    "#Evaluation Rates\n",
    "categories = ['Hit_rate','Precision@N', 'Recall@N','Unique_TopN', 'Unique_Products','Hit_rate']\n",
    "fig = go.Figure()\n",
    "#LightFM Runs\n",
    "for row in best_light.index:\n",
    "  fig.add_trace(go.Scatterpolar(\n",
    "        r=best_light.iloc[row][categories].values,\n",
    "        theta=categories,\n",
    "        fill='toself',\n",
    "        name= best_light['Data'].loc[row]\n",
    "        \n",
    "  ))\n",
    "#Surprise Run\n",
    "fig.add_trace(go.Scatterpolar(\n",
    "        r=best_surprise[categories].values[0],\n",
    "        theta=categories,\n",
    "        fill='toself',\n",
    "        name='Quantity (SVD)'\n",
    "))\n",
    "fig.update_layout(\n",
    "  title={'text':'LightFM VS Suprise Best Runs',\n",
    "          'y':0.9,\n",
    "          'x':0.45,\n",
    "          'xanchor':'center',\n",
    "          'yanchor': 'top'},\n",
    "  legend_title='Data',\n",
    "  polar=dict(\n",
    "    radialaxis=dict(\n",
    "      visible=True,\n",
    "      range=[0.00, 1.001]\n",
    "    )),\n",
    "  showlegend=True\n",
    ")\n",
    "fig.show()"
   ]
  },
  {
   "cell_type": "markdown",
   "metadata": {
    "cell_id": "00048-a5e0fff3-95fa-4bc3-82ff-92a5d5ddd4a1",
    "deepnote_cell_type": "markdown"
   },
   "source": [
    "### Conclusion"
   ]
  },
  {
   "cell_type": "markdown",
   "metadata": {},
   "source": [
    " ***\n",
    "To sum up, recommender systems have become an essential feature in our digital world. It is impossible to look through all the products or content on a website, a recommendation system plays an important role in helping us have a better user experience, while also exposing us to more inventory we might not discover otherwise.\n",
    "\n",
    "The results outputted from running Surprise's plethora of algorithms and LighFM's embedding models, show **that embedding implementations (LightFM) surpass, basic or more mainstream but also well known techniques such as kn-neighbor distance based approaches, matrix factorization etc. the Surprise library uses**.\n",
    "\n",
    "Indeed, the **embeddings method** is based on matrix factorization calculations but LightFM is a relatively new library that, implements more efficiently stochastic gradient descent aka SGD. It has also, different learning rates techniques(adagrad, adadelta) and loss functions like warp, warp_kos, bpr etc., terms used in NNWs(Neural Networks), a complicated and more sophisticated model rather than, Surprise's SVD, SVDpp and NMF. Surprise library has a variety of models but also suffers by those model's  limitations.\n",
    "\n",
    "So, that's why, today **LightFM** has established its position as well-known and widely used recommendation system implementation library, it's fresh and supports also hybrid collaborative filtering techniques.(It enables processing metadata for users and items as well, as implicit feedback.)\n",
    "\n",
    "For **Surprise** that \"defeat\" was apparent but it is still a popular library among the machine learning cycles and the one used to teach you the basics help you develop your first models and evaluate them. So both of them have their \"target\" users let's say!\n",
    "\n",
    "***\n",
    "\n"
   ]
  },
  {
   "cell_type": "markdown",
   "metadata": {
    "cell_id": "00064-ca2202bc-d29b-4184-9442-bbe4b5024abe",
    "deepnote_cell_type": "markdown",
    "tags": []
   },
   "source": [
    "#### Appendix: LOO Evaluation"
   ]
  },
  {
   "cell_type": "markdown",
   "metadata": {
    "cell_id": "00065-8b0f22cb-60cd-4f17-bde9-fb28b956ee89",
    "deepnote_cell_type": "markdown",
    "tags": []
   },
   "source": [
    "***\n",
    "**Leave One Out (LOO)**, in this project, refers to substracting for each Customer the sample, with the highest rating. \n",
    "\n",
    "This proccess is used as to manifuctore an unique training set. It is a cross-validation technique, which helps us test how effectively each model detects the customer's highest rated Product.\n",
    "***"
   ]
  },
  {
   "cell_type": "code",
   "execution_count": 128,
   "metadata": {},
   "outputs": [
    {
     "name": "stderr",
     "output_type": "stream",
     "text": [
      "<ipython-input-128-51c70dc32425>:2: SettingWithCopyWarning:\n",
      "\n",
      "\n",
      "A value is trying to be set on a copy of a slice from a DataFrame.\n",
      "Try using .loc[row_indexer,col_indexer] = value instead\n",
      "\n",
      "See the caveats in the documentation: https://pandas.pydata.org/pandas-docs/stable/user_guide/indexing.html#returning-a-view-versus-a-copy\n",
      "\n"
     ]
    },
    {
     "data": {
      "text/html": [
       "<style  type=\"text/css\" >\n",
       "#T_47583_row0_col7,#T_47583_row0_col14,#T_47583_row1_col7,#T_47583_row1_col14,#T_47583_row2_col7,#T_47583_row2_col14,#T_47583_row3_col7,#T_47583_row3_col14,#T_47583_row4_col7,#T_47583_row4_col14,#T_47583_row5_col7,#T_47583_row5_col14{\n",
       "            background-color:  pink;\n",
       "        }</style><table id=\"T_47583_\" ><thead>    <tr>        <th class=\"blank level0\" ></th>        <th class=\"col_heading level0 col0\" >Date</th>        <th class=\"col_heading level0 col1\" >Data</th>        <th class=\"col_heading level0 col2\" >Algo</th>        <th class=\"col_heading level0 col3\" >Leave_one_out</th>        <th class=\"col_heading level0 col4\" >N</th>        <th class=\"col_heading level0 col5\" >Precision@N</th>        <th class=\"col_heading level0 col6\" >Recall@N</th>        <th class=\"col_heading level0 col7\" >Hit_rate</th>        <th class=\"col_heading level0 col8\" >Hits</th>        <th class=\"col_heading level0 col9\" >Hit_threshold</th>        <th class=\"col_heading level0 col10\" >Count_customers</th>        <th class=\"col_heading level0 col11\" >Compute_time</th>        <th class=\"col_heading level0 col12\" >Unique_TopN</th>        <th class=\"col_heading level0 col13\" >Unique_Products</th>        <th class=\"col_heading level0 col14\" >LOO_Rate</th>    </tr></thead><tbody>\n",
       "                <tr>\n",
       "                        <th id=\"T_47583_level0_row0\" class=\"row_heading level0 row0\" >21</th>\n",
       "                        <td id=\"T_47583_row0_col0\" class=\"data row0 col0\" >2021-12-10 11:21:59.009569</td>\n",
       "                        <td id=\"T_47583_row0_col1\" class=\"data row0 col1\" >new_Frequency1</td>\n",
       "                        <td id=\"T_47583_row0_col2\" class=\"data row0 col2\" >LightFM</td>\n",
       "                        <td id=\"T_47583_row0_col3\" class=\"data row0 col3\" >True</td>\n",
       "                        <td id=\"T_47583_row0_col4\" class=\"data row0 col4\" >5</td>\n",
       "                        <td id=\"T_47583_row0_col5\" class=\"data row0 col5\" >0.49</td>\n",
       "                        <td id=\"T_47583_row0_col6\" class=\"data row0 col6\" >0.38</td>\n",
       "                        <td id=\"T_47583_row0_col7\" class=\"data row0 col7\" >0.60</td>\n",
       "                        <td id=\"T_47583_row0_col8\" class=\"data row0 col8\" >2961</td>\n",
       "                        <td id=\"T_47583_row0_col9\" class=\"data row0 col9\" >1</td>\n",
       "                        <td id=\"T_47583_row0_col10\" class=\"data row0 col10\" >4948</td>\n",
       "                        <td id=\"T_47583_row0_col11\" class=\"data row0 col11\" >365.54</td>\n",
       "                        <td id=\"T_47583_row0_col12\" class=\"data row0 col12\" >0.99</td>\n",
       "                        <td id=\"T_47583_row0_col13\" class=\"data row0 col13\" >0.29</td>\n",
       "                        <td id=\"T_47583_row0_col14\" class=\"data row0 col14\" >0.00</td>\n",
       "            </tr>\n",
       "            <tr>\n",
       "                        <th id=\"T_47583_level0_row1\" class=\"row_heading level0 row1\" >23</th>\n",
       "                        <td id=\"T_47583_row1_col0\" class=\"data row1 col0\" >2021-12-10 16:07:13.945484</td>\n",
       "                        <td id=\"T_47583_row1_col1\" class=\"data row1 col1\" >Quantity</td>\n",
       "                        <td id=\"T_47583_row1_col2\" class=\"data row1 col2\" >LightFM</td>\n",
       "                        <td id=\"T_47583_row1_col3\" class=\"data row1 col3\" >True</td>\n",
       "                        <td id=\"T_47583_row1_col4\" class=\"data row1 col4\" >5</td>\n",
       "                        <td id=\"T_47583_row1_col5\" class=\"data row1 col5\" >0.00</td>\n",
       "                        <td id=\"T_47583_row1_col6\" class=\"data row1 col6\" >0.38</td>\n",
       "                        <td id=\"T_47583_row1_col7\" class=\"data row1 col7\" >0.80</td>\n",
       "                        <td id=\"T_47583_row1_col8\" class=\"data row1 col8\" >4358</td>\n",
       "                        <td id=\"T_47583_row1_col9\" class=\"data row1 col9\" >1</td>\n",
       "                        <td id=\"T_47583_row1_col10\" class=\"data row1 col10\" >5433</td>\n",
       "                        <td id=\"T_47583_row1_col11\" class=\"data row1 col11\" >475.53</td>\n",
       "                        <td id=\"T_47583_row1_col12\" class=\"data row1 col12\" >0.99</td>\n",
       "                        <td id=\"T_47583_row1_col13\" class=\"data row1 col13\" >0.28</td>\n",
       "                        <td id=\"T_47583_row1_col14\" class=\"data row1 col14\" >0.57</td>\n",
       "            </tr>\n",
       "            <tr>\n",
       "                        <th id=\"T_47583_level0_row2\" class=\"row_heading level0 row2\" >33</th>\n",
       "                        <td id=\"T_47583_row2_col0\" class=\"data row2 col0\" >2021-12-29 16:45:48.902908</td>\n",
       "                        <td id=\"T_47583_row2_col1\" class=\"data row2 col1\" >Quantity</td>\n",
       "                        <td id=\"T_47583_row2_col2\" class=\"data row2 col2\" >BaselineOnly</td>\n",
       "                        <td id=\"T_47583_row2_col3\" class=\"data row2 col3\" >True</td>\n",
       "                        <td id=\"T_47583_row2_col4\" class=\"data row2 col4\" >5</td>\n",
       "                        <td id=\"T_47583_row2_col5\" class=\"data row2 col5\" >0.12</td>\n",
       "                        <td id=\"T_47583_row2_col6\" class=\"data row2 col6\" >0.18</td>\n",
       "                        <td id=\"T_47583_row2_col7\" class=\"data row2 col7\" >0.50</td>\n",
       "                        <td id=\"T_47583_row2_col8\" class=\"data row2 col8\" >2737</td>\n",
       "                        <td id=\"T_47583_row2_col9\" class=\"data row2 col9\" >1</td>\n",
       "                        <td id=\"T_47583_row2_col10\" class=\"data row2 col10\" >5453</td>\n",
       "                        <td id=\"T_47583_row2_col11\" class=\"data row2 col11\" >304.71</td>\n",
       "                        <td id=\"T_47583_row2_col12\" class=\"data row2 col12\" >0.02</td>\n",
       "                        <td id=\"T_47583_row2_col13\" class=\"data row2 col13\" >0.04</td>\n",
       "                        <td id=\"T_47583_row2_col14\" class=\"data row2 col14\" >0.00</td>\n",
       "            </tr>\n",
       "            <tr>\n",
       "                        <th id=\"T_47583_level0_row3\" class=\"row_heading level0 row3\" >34</th>\n",
       "                        <td id=\"T_47583_row3_col0\" class=\"data row3 col0\" >2022-01-01 16:26:44.301402</td>\n",
       "                        <td id=\"T_47583_row3_col1\" class=\"data row3 col1\" >Quantity</td>\n",
       "                        <td id=\"T_47583_row3_col2\" class=\"data row3 col2\" >BaselineOnly</td>\n",
       "                        <td id=\"T_47583_row3_col3\" class=\"data row3 col3\" >True</td>\n",
       "                        <td id=\"T_47583_row3_col4\" class=\"data row3 col4\" >5</td>\n",
       "                        <td id=\"T_47583_row3_col5\" class=\"data row3 col5\" >0.18</td>\n",
       "                        <td id=\"T_47583_row3_col6\" class=\"data row3 col6\" >0.25</td>\n",
       "                        <td id=\"T_47583_row3_col7\" class=\"data row3 col7\" >0.67</td>\n",
       "                        <td id=\"T_47583_row3_col8\" class=\"data row3 col8\" >3647</td>\n",
       "                        <td id=\"T_47583_row3_col9\" class=\"data row3 col9\" >1</td>\n",
       "                        <td id=\"T_47583_row3_col10\" class=\"data row3 col10\" >5453</td>\n",
       "                        <td id=\"T_47583_row3_col11\" class=\"data row3 col11\" >352.97</td>\n",
       "                        <td id=\"T_47583_row3_col12\" class=\"data row3 col12\" >0.03</td>\n",
       "                        <td id=\"T_47583_row3_col13\" class=\"data row3 col13\" >0.04</td>\n",
       "                        <td id=\"T_47583_row3_col14\" class=\"data row3 col14\" >0.50</td>\n",
       "            </tr>\n",
       "            <tr>\n",
       "                        <th id=\"T_47583_level0_row4\" class=\"row_heading level0 row4\" >35</th>\n",
       "                        <td id=\"T_47583_row4_col0\" class=\"data row4 col0\" >2022-01-01 16:38:58.425787</td>\n",
       "                        <td id=\"T_47583_row4_col1\" class=\"data row4 col1\" >Quantity</td>\n",
       "                        <td id=\"T_47583_row4_col2\" class=\"data row4 col2\" >SVD</td>\n",
       "                        <td id=\"T_47583_row4_col3\" class=\"data row4 col3\" >True</td>\n",
       "                        <td id=\"T_47583_row4_col4\" class=\"data row4 col4\" >5</td>\n",
       "                        <td id=\"T_47583_row4_col5\" class=\"data row4 col5\" >0.23</td>\n",
       "                        <td id=\"T_47583_row4_col6\" class=\"data row4 col6\" >0.34</td>\n",
       "                        <td id=\"T_47583_row4_col7\" class=\"data row4 col7\" >0.80</td>\n",
       "                        <td id=\"T_47583_row4_col8\" class=\"data row4 col8\" >4353</td>\n",
       "                        <td id=\"T_47583_row4_col9\" class=\"data row4 col9\" >1</td>\n",
       "                        <td id=\"T_47583_row4_col10\" class=\"data row4 col10\" >5453</td>\n",
       "                        <td id=\"T_47583_row4_col11\" class=\"data row4 col11\" >335.74</td>\n",
       "                        <td id=\"T_47583_row4_col12\" class=\"data row4 col12\" >0.11</td>\n",
       "                        <td id=\"T_47583_row4_col13\" class=\"data row4 col13\" >0.06</td>\n",
       "                        <td id=\"T_47583_row4_col14\" class=\"data row4 col14\" >0.69</td>\n",
       "            </tr>\n",
       "            <tr>\n",
       "                        <th id=\"T_47583_level0_row5\" class=\"row_heading level0 row5\" >36</th>\n",
       "                        <td id=\"T_47583_row5_col0\" class=\"data row5 col0\" >2022-01-01 17:16:21.369574</td>\n",
       "                        <td id=\"T_47583_row5_col1\" class=\"data row5 col1\" >Quantity</td>\n",
       "                        <td id=\"T_47583_row5_col2\" class=\"data row5 col2\" >LightFM</td>\n",
       "                        <td id=\"T_47583_row5_col3\" class=\"data row5 col3\" >True</td>\n",
       "                        <td id=\"T_47583_row5_col4\" class=\"data row5 col4\" >5</td>\n",
       "                        <td id=\"T_47583_row5_col5\" class=\"data row5 col5\" >0.00</td>\n",
       "                        <td id=\"T_47583_row5_col6\" class=\"data row5 col6\" >0.00</td>\n",
       "                        <td id=\"T_47583_row5_col7\" class=\"data row5 col7\" >0.80</td>\n",
       "                        <td id=\"T_47583_row5_col8\" class=\"data row5 col8\" >4366</td>\n",
       "                        <td id=\"T_47583_row5_col9\" class=\"data row5 col9\" >1</td>\n",
       "                        <td id=\"T_47583_row5_col10\" class=\"data row5 col10\" >5453</td>\n",
       "                        <td id=\"T_47583_row5_col11\" class=\"data row5 col11\" >350.74</td>\n",
       "                        <td id=\"T_47583_row5_col12\" class=\"data row5 col12\" >0.99</td>\n",
       "                        <td id=\"T_47583_row5_col13\" class=\"data row5 col13\" >0.26</td>\n",
       "                        <td id=\"T_47583_row5_col14\" class=\"data row5 col14\" >0.64</td>\n",
       "            </tr>\n",
       "    </tbody></table>"
      ],
      "text/plain": [
       "<pandas.io.formats.style.Styler at 0x21498451280>"
      ]
     },
     "execution_count": 128,
     "metadata": {},
     "output_type": "execute_result"
    }
   ],
   "source": [
    "loo=evaluation_log[(evaluation_log['Leave_one_out']==True)]\n",
    "loo['LOO_Rate']=loo['LOO_Rate'].astype(float)\n",
    "loo.style\\\n",
    " .format('{:.2f}',subset=['Precision@N','Recall@N','Hit_rate','Compute_time', 'Unique_TopN','Unique_Products','LOO_Rate'])\\\n",
    " .set_properties(**{'background-color': 'pink'}, subset=['Hit_rate','LOO_Rate'])"
   ]
  },
  {
   "cell_type": "code",
   "execution_count": 129,
   "metadata": {},
   "outputs": [
    {
     "data": {
      "image/png": "[encoded data removed]",
      "text/plain": [
       "<Figure size 640x480 with 1 Axes>"
      ]
     },
     "metadata": {},
     "output_type": "display_data"
    }
   ],
   "source": [
    "from matplotlib.pyplot import figure\n",
    "\n",
    "figure(figsize=(8, 6), dpi=80)\n",
    "plt.bar(x=loo['Algo'],height=loo['Hit_rate'],align='center',label='Hit Rate')\n",
    "plt.bar(x=loo['Algo'],height=loo['LOO_Rate'],align='center',label='Loo Rate')\n",
    "plt.title('Leave One Out Rate')\n",
    "plt.xlabel('Algorithms')\n",
    "plt.ylabel('Rate')\n",
    "#annotation\n",
    "y=loo['Hit_rate'].values\n",
    "x=loo['Algo'].values\n",
    "for a,b in zip(x,y): \n",
    "    plt.annotate(str(b),xy=(a,b),size=11,ha='center', va=\"bottom\")\n",
    "y=loo['LOO_Rate'].values\n",
    "#loo rate annotation is in white\n",
    "for a,b in zip(x,y): \n",
    "    plt.annotate(str(b),xy=(a,b),size=11,ha='center', va=\"bottom\",color='white')    \n",
    "plt.legend(loc='best');"
   ]
  },
  {
   "cell_type": "markdown",
   "metadata": {},
   "source": [
    " **Just by looking into the above graph, it is apparent that the Hit Rate has indeed improved, from 0.6 (LightFM best run), however it is not a valid result and one to take into account!** Remember we have tempered with the training set by removing the highest rated transaction from each customer's training data. Despite that, a leave one out rate of 0.69, by SVD, means that in  69% of the produced recommendations, the removed highest rated product, (which was hidden during training,) was picked to be in the Top N recommendations. **In other words, in 69% of the cases the system managed to detect the customer's \"most liked\" product and included it to the outputted recommendations.**"
   ]
  },
  {
   "cell_type": "markdown",
   "metadata": {
    "created_in_deepnote_cell": true,
    "deepnote_cell_type": "markdown",
    "tags": []
   },
   "source": [
    "<a style='text-decoration:none;line-height:16px;display:flex;color:#5B5B62;padding:10px;justify-content:end;' href='https://deepnote.com?utm_source=created-in-deepnote-cell&projectId=2fe6d7f1-e3b6-4a34-bfbd-cac6314bcb60' target=\"_blank\">\n",
    "<img alt='Created in deepnote.com' style='display:inline;max-height:16px;margin:0px;margin-right:7.5px;' src='data:image/svg+xml;base64,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' > </img>\n",
    "Created in <span style='font-weight:600;margin-left:4px;'>Deepnote</span></a>"
   ]
  }
 ],
 "metadata": {
  "deepnote": {},
  "deepnote_execution_queue": [],
  "deepnote_notebook_id": "31a498b0-c4e4-4182-8bdd-ab5c62906b72",
  "interpreter": {
   "hash": "ccb8cb1dd8c1cabc5e6e6bc75f08c79e44854473ca2dd83e829d98e678625bb0"
  },
  "kernelspec": {
   "display_name": "Python 3.9.5 64-bit ('iro': conda)",
   "language": "python",
   "name": "python3"
  },
  "language_info": {
   "codemirror_mode": {
    "name": "ipython",
    "version": 3
   },
   "file_extension": ".py",
   "mimetype": "text/x-python",
   "name": "python",
   "nbconvert_exporter": "python",
   "pygments_lexer": "ipython3",
   "version": "3.9.5"
  },
  "orig_nbformat": 4
 },
 "nbformat": 4,
 "nbformat_minor": 2
}
